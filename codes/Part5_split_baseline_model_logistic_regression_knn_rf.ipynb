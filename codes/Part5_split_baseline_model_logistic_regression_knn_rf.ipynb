{
 "cells": [
  {
   "cell_type": "markdown",
   "id": "0eefc4e0",
   "metadata": {},
   "source": [
    "## Finding\n",
    "* 2019 misses data on_1b, on_2b, and on_3b\n",
    "* incorrect ball and strike counts in 2019\n",
    "* 2019 data can't be used\n",
    "* Use TimeSeriesSplit (iterators) can be used in cv=\n",
    "* RF => set max_depth\n",
    "\n",
    "## EDA\n",
    "* More balls less fastball 'b_count'\n",
    "* 2 strikes less fastball 's_2'\n",
    "* Out no effect\n",
    "* tie=> more fastball; ahead/behind => less fastball 'ahead' 'behind'\n",
    "* Left Batter => more fastball\n",
    "* Warm => less fastball\n",
    "* Last play Error => less fastball\n",
    "* Last play Out => more fastball\n",
    "* Last play Homerun/Triple/Douple => less fastball 'last_pa_homerun' 'last_pa_double_triple'\n",
    "* Last Pitch result 'last_pitch'\n",
    "* Last pitch type/fastball => less fastball\n",
    "* More innings less fastball\n",
    "* on_1b no effect\n",
    "* last play pitch a lot => fastball\n",
    "\n",
    "## Completed\n",
    "* Data assembling\n",
    "* SQL database\n",
    "* Data Cleaning\n",
    "* EDA\n",
    "\n",
    "## To do\n",
    "* split\n",
    "* modeling\n",
    "\n"
   ]
  },
  {
   "cell_type": "code",
   "execution_count": 11,
   "id": "69429da6",
   "metadata": {},
   "outputs": [],
   "source": [
    "import pandas as pd\n",
    "import numpy as np"
   ]
  },
  {
   "cell_type": "code",
   "execution_count": 176,
   "id": "997da2c4",
   "metadata": {},
   "outputs": [],
   "source": [
    "from sklearn.neighbors import KNeighborsClassifier\n",
    "from sklearn.linear_model import LogisticRegression, LogisticRegressionCV\n",
    "from sklearn.model_selection import cross_val_score, GridSearchCV, TimeSeriesSplit\n",
    "from sklearn.preprocessing import StandardScaler\n",
    "from sklearn.tree import DecisionTreeClassifier\n",
    "from sklearn.ensemble import RandomForestClassifier\n",
    "from sklearn import metrics\n",
    "import statsmodels.api as sm\n",
    "import matplotlib.pyplot as plt\n",
    "import seaborn as sns"
   ]
  },
  {
   "cell_type": "code",
   "execution_count": 364,
   "id": "198836fb",
   "metadata": {},
   "outputs": [],
   "source": [
    "import warnings\n",
    "warnings.filterwarnings('ignore')"
   ]
  },
  {
   "cell_type": "code",
   "execution_count": 1671,
   "id": "8fcfada7",
   "metadata": {},
   "outputs": [],
   "source": [
    "# feature engineering\n",
    "# type_confidence, code \n",
    "df = pd.read_sql(\"\"\"SELECT pitch_type, start_speed, zone, code, type, b_score, p_score, ab_id, pitch_num,\n",
    "                    b_count, s_count, outs, on_1b, on_2b, on_3b, event, inning, stand, top, \n",
    "                    weather, start_time, year                    \n",
    "                    FROM scherzer\n",
    "                    WHERE year != 2019;\"\"\",'sqlite:///mlb_2015_2019.db')"
   ]
  },
  {
   "cell_type": "code",
   "execution_count": 1672,
   "id": "44122a65",
   "metadata": {},
   "outputs": [],
   "source": [
    "#df['xxxx'] = df['xxxx'].apply(lambda x: 'xx' if x == 'xx' else 'xx')\n",
    "df['top'].replace(['FALSE','TRUE'],[0,1],inplace=True)\n",
    "df['top'] = df['top'].astype('int')\n",
    "df['stand'].replace(['R','L'],[0,1],inplace=True)\n",
    "df.rename(columns={\"stand\": \"left_batter\"},inplace=True)\n",
    "df['start_time'] = pd.to_timedelta(df['start_time']+':00')\n",
    "df['day_game'] = (df['start_time'] < '16:30:00').astype('int')\n",
    "#df['fastball'] = df['pitch_type'].isin(['FF','FT','FC']).astype('int')\n",
    "df.insert(1, column='fastball', value = df['pitch_type'].isin(['FF','FT','FC']).astype('int'))\n",
    "df = pd.concat([df,pd.get_dummies(df['b_count'],prefix='b',drop_first=False)], axis=1)\n",
    "df = pd.concat([df,pd.get_dummies(df['s_count'],prefix='s',drop_first=False)], axis=1)\n",
    "df = pd.concat([df,pd.get_dummies(df['outs'],prefix='o',drop_first=False)], axis=1)\n",
    "df['after_4_inning'] =  (df['inning'] > 3).astype('int')\n",
    "df['after_5_inning'] =  (df['inning'] > 4).astype('int')\n",
    "df['first2ball'] = (df['pitch_num'] < 3).astype('int')\n",
    "df['abs_diff'] = abs(df['p_score'] - df['b_score'])\n",
    "df['diff'] = df['p_score'] - df['b_score']\n",
    "df['tie'] = (df['p_score'] == df['b_score']).astype('int')\n",
    "df['ahead'] = (df['p_score'] - df['b_score'] > 0).astype('int')\n",
    "df['behind'] = (df['p_score'] - df['b_score'] < 0).astype('int')\n",
    "df['tempature'] = df['weather'].apply(lambda x : x[:2]).astype('int') #min 45 max 95\n",
    "df['more_than_70'] = (df['tempature'] > 70).astype('int')\n",
    "df['last_pitch_type'] = df['pitch_type'].shift(1)\n",
    "df.loc[0,'last_pitch_type'] = 'FF'\n",
    "df['last_fastball'] = df['fastball'].shift(1)\n",
    "df.loc[0,'last_fastball'] = 1\n",
    "df['last_fastball'] = df['last_fastball'].astype('int')\n",
    "df['last_code'] = df['code'].shift(1)\n",
    "df.loc[0,'last_code'] = 'X'\n",
    "df['last_type'] = df['type'].shift(1)\n",
    "df.loc[0,'last_type'] = 'X'\n",
    "df['last_b'] = df['last_type'].isin(['B']).astype('int')\n",
    "df['last_s'] = df['last_type'].isin(['S']).astype('int')\n",
    "df['last_inplay'] = df['last_type'].isin(['X']).astype('int')\n",
    "df['last_contact'] = df['last_code'].isin(['F','T','L','R','X','D','E']).astype('int')\n",
    "df['last_pitch'] = df['last_code'].map({'B':'B','*B':'B','S':'S','C':'S','F':'S','T':'S','L':'S',\n",
    "                                       'I':'B','W':'S','M':'S','P':'B','Q':'S','R':'S','X':'X',\n",
    "                                       'D':'H','E':'R','H':'B','V':'B'})\n",
    "df_pa = pd.read_csv('data/atbats.csv')\n",
    "df_pa['last_pa'] = df_pa['event'].shift(1)\n",
    "df_pa.loc[0,'last_pa'] = 'Strikeout'\n",
    "df_pa = pd.merge(df_pa[df_pa['pitcher_id'] ==453286], \n",
    "                 df.drop_duplicates(subset=['ab_id'], keep='last')[['pitch_num','ab_id']]\n",
    "                 , on = 'ab_id')\n",
    "df_pa['last_num'] = df_pa['pitch_num'].shift(1)\n",
    "df_pa.loc[0,'last_num'] = 4 #mean\n",
    "df_pa['last_num'] = df_pa['last_num'].astype('int')\n",
    "df_pa['game_pitch'] = df_pa.groupby(['g_id']).cumsum().reset_index()['last_num'] - 4\n",
    "df = pd.merge(df ,df_pa[['ab_id','last_pa','last_num','game_pitch']], on = 'ab_id')\n",
    "df['last_over_8'] = (df['last_num'] > 8).astype('int')\n",
    "df['over_30_pitches'] = (df['game_pitch'] > 30).astype('int')\n",
    "df['last_pa_homerun'] = df['last_pa'].isin(['Home Run']).astype('int')\n",
    "df['last_pa_double_triple'] = df['last_pa'].isin(['Double','Triple']).astype('int')\n",
    "df['last_pa_long'] = df['last_pa'].isin(['Double','Triple','Home Run']).astype('int')\n",
    "df['last_pa_so'] = df['last_pa'].isin(['Strikeout']).astype('int')\n",
    "df['last_pa_bb'] = df['last_pa'].isin(['Walk','Hit By Pitch','Intent Walk']).astype('int')\n",
    "df['last_pa_dp'] = df['last_pa'].isin(['Grounded Into DP','Double Play','Strikeout - DP','Sac Fly DP',\n",
    "                                      'Sacrifice Bunt DP']).astype('int')\n",
    "df['last_pa_out'] = df['last_pa'].isin(['Strikeout','Groundout','Flyout','Lineout','Pop Out','Forceout',\n",
    "                                        'Runner Out','Bunt Groundout','Fielders Choice Out','Bunt Pop Out',\n",
    "                                        'Fielders Choice','Batter Interference','Bunt Lineout',\n",
    "                                        'Grounded Into DP','Double Play','Strikeout - DP','Sac Fly DP',\n",
    "                                        'Sacrifice Bunt DP']).astype('int')\n",
    "\n",
    "\n",
    "#df.to_csv('data/scherzer_features.csv')"
   ]
  },
  {
   "cell_type": "code",
   "execution_count": 1673,
   "id": "ff90fb84",
   "metadata": {
    "scrolled": true
   },
   "outputs": [],
   "source": [
    "#******must Run***\n",
    "#Split\n",
    "tscv = TimeSeriesSplit(n_splits=5)\n",
    "df_clean = df.dropna(how='any')\n",
    "for train_index, test_index in tscv.split(df_clean):\n",
    "    df_train, df_test = df_clean.iloc[train_index,], df_clean.iloc[test_index]\n",
    "#df_train.to_csv('data/scherzer_train.csv')"
   ]
  },
  {
   "cell_type": "code",
   "execution_count": null,
   "id": "3d424675",
   "metadata": {},
   "outputs": [],
   "source": []
  },
  {
   "cell_type": "code",
   "execution_count": 365,
   "id": "ddb185b7",
   "metadata": {},
   "outputs": [
    {
     "name": "stdout",
     "output_type": "stream",
     "text": [
      "<class 'pandas.core.frame.DataFrame'>\n",
      "Int64Index: 11212 entries, 0 to 11277\n",
      "Data columns (total 54 columns):\n",
      " #   Column                 Non-Null Count  Dtype          \n",
      "---  ------                 --------------  -----          \n",
      " 0   pitch_type             11212 non-null  object         \n",
      " 1   fastball               11212 non-null  int64          \n",
      " 2   start_speed            11212 non-null  float64        \n",
      " 3   zone                   11212 non-null  float64        \n",
      " 4   code                   11212 non-null  object         \n",
      " 5   type                   11212 non-null  object         \n",
      " 6   b_score                11212 non-null  int64          \n",
      " 7   p_score                11212 non-null  int64          \n",
      " 8   ab_id                  11212 non-null  int64          \n",
      " 9   pitch_num              11212 non-null  int64          \n",
      " 10  b_count                11212 non-null  int64          \n",
      " 11  s_count                11212 non-null  int64          \n",
      " 12  outs                   11212 non-null  int64          \n",
      " 13  on_1b                  11212 non-null  int64          \n",
      " 14  on_2b                  11212 non-null  int64          \n",
      " 15  on_3b                  11212 non-null  int64          \n",
      " 16  event                  11212 non-null  object         \n",
      " 17  inning                 11212 non-null  int64          \n",
      " 18  left_batter            11212 non-null  int64          \n",
      " 19  top                    11212 non-null  int64          \n",
      " 20  weather                11212 non-null  object         \n",
      " 21  start_time             11212 non-null  timedelta64[ns]\n",
      " 22  year                   11212 non-null  int64          \n",
      " 23  day_game               11212 non-null  int64          \n",
      " 24  b_1                    11212 non-null  uint8          \n",
      " 25  b_2                    11212 non-null  uint8          \n",
      " 26  b_3                    11212 non-null  uint8          \n",
      " 27  s_1                    11212 non-null  uint8          \n",
      " 28  s_2                    11212 non-null  uint8          \n",
      " 29  o_1                    11212 non-null  uint8          \n",
      " 30  o_2                    11212 non-null  uint8          \n",
      " 31  after_4_inning         11212 non-null  int64          \n",
      " 32  diff                   11212 non-null  int64          \n",
      " 33  tie                    11212 non-null  int64          \n",
      " 34  ahead                  11212 non-null  int64          \n",
      " 35  behind                 11212 non-null  int64          \n",
      " 36  tempature              11212 non-null  int64          \n",
      " 37  more_than_70           11212 non-null  int64          \n",
      " 38  last_pitch_type        11212 non-null  object         \n",
      " 39  last_fastball          11212 non-null  int64          \n",
      " 40  last_code              11212 non-null  object         \n",
      " 41  last_type              11212 non-null  object         \n",
      " 42  last_b                 11212 non-null  int64          \n",
      " 43  last_s                 11212 non-null  int64          \n",
      " 44  last_inplay            11212 non-null  int64          \n",
      " 45  last_contact           11212 non-null  int64          \n",
      " 46  last_pitch             11212 non-null  object         \n",
      " 47  last_pa                11212 non-null  object         \n",
      " 48  last_pa_homerun        11212 non-null  int64          \n",
      " 49  last_pa_double_triple  11212 non-null  int64          \n",
      " 50  last_pa_so             11212 non-null  int64          \n",
      " 51  last_pa_bb             11212 non-null  int64          \n",
      " 52  last_pa_dp             11212 non-null  int64          \n",
      " 53  last_pa_out            11212 non-null  int64          \n",
      "dtypes: float64(2), int64(34), object(10), timedelta64[ns](1), uint8(7)\n",
      "memory usage: 4.2+ MB\n"
     ]
    }
   ],
   "source": [
    "df_train.info()"
   ]
  },
  {
   "cell_type": "code",
   "execution_count": 440,
   "id": "393cf0a9",
   "metadata": {},
   "outputs": [
    {
     "data": {
      "text/plain": [
       "Index(['pitch_type', 'fastball', 'start_speed', 'zone', 'code', 'type',\n",
       "       'b_score', 'p_score', 'ab_id', 'pitch_num', 'b_count', 's_count',\n",
       "       'outs', 'on_1b', 'on_2b', 'on_3b', 'event', 'inning', 'left_batter',\n",
       "       'top', 'weather', 'start_time', 'year', 'day_game', 'b_1', 'b_2', 'b_3',\n",
       "       's_1', 's_2', 'o_1', 'o_2', 'after_4_inning', 'diff', 'tie', 'ahead',\n",
       "       'behind', 'tempature', 'more_than_70', 'last_pitch_type',\n",
       "       'last_fastball', 'last_code', 'last_type', 'last_b', 'last_s',\n",
       "       'last_inplay', 'last_contact', 'last_pitch', 'last_pa',\n",
       "       'last_pa_homerun', 'last_pa_double_triple', 'last_pa_so', 'last_pa_bb',\n",
       "       'last_pa_dp', 'last_pa_out'],\n",
       "      dtype='object')"
      ]
     },
     "execution_count": 440,
     "metadata": {},
     "output_type": "execute_result"
    }
   ],
   "source": [
    "df.columns"
   ]
  },
  {
   "cell_type": "code",
   "execution_count": 1675,
   "id": "b54f0be0",
   "metadata": {},
   "outputs": [
    {
     "ename": "KeyboardInterrupt",
     "evalue": "",
     "output_type": "error",
     "traceback": [
      "\u001b[0;31m---------------------------------------------------------------------------\u001b[0m",
      "\u001b[0;31mKeyboardInterrupt\u001b[0m                         Traceback (most recent call last)",
      "\u001b[0;32m/var/folders/5j/jyxtrn7n0cl1j0jb8nzdk5dr0000gn/T/ipykernel_72335/1526493575.py\u001b[0m in \u001b[0;36m<module>\u001b[0;34m\u001b[0m\n\u001b[0;32m----> 1\u001b[0;31m \u001b[0msns\u001b[0m\u001b[0;34m.\u001b[0m\u001b[0mpairplot\u001b[0m\u001b[0;34m(\u001b[0m\u001b[0mdf_train\u001b[0m\u001b[0;34m,\u001b[0m \u001b[0mhue\u001b[0m\u001b[0;34m=\u001b[0m\u001b[0;34m'fastball'\u001b[0m\u001b[0;34m)\u001b[0m\u001b[0;34m\u001b[0m\u001b[0;34m\u001b[0m\u001b[0m\n\u001b[0m",
      "\u001b[0;32m/opt/anaconda3/envs/metis/lib/python3.8/site-packages/seaborn/_decorators.py\u001b[0m in \u001b[0;36minner_f\u001b[0;34m(*args, **kwargs)\u001b[0m\n\u001b[1;32m     44\u001b[0m             )\n\u001b[1;32m     45\u001b[0m         \u001b[0mkwargs\u001b[0m\u001b[0;34m.\u001b[0m\u001b[0mupdate\u001b[0m\u001b[0;34m(\u001b[0m\u001b[0;34m{\u001b[0m\u001b[0mk\u001b[0m\u001b[0;34m:\u001b[0m \u001b[0marg\u001b[0m \u001b[0;32mfor\u001b[0m \u001b[0mk\u001b[0m\u001b[0;34m,\u001b[0m \u001b[0marg\u001b[0m \u001b[0;32min\u001b[0m \u001b[0mzip\u001b[0m\u001b[0;34m(\u001b[0m\u001b[0msig\u001b[0m\u001b[0;34m.\u001b[0m\u001b[0mparameters\u001b[0m\u001b[0;34m,\u001b[0m \u001b[0margs\u001b[0m\u001b[0;34m)\u001b[0m\u001b[0;34m}\u001b[0m\u001b[0;34m)\u001b[0m\u001b[0;34m\u001b[0m\u001b[0;34m\u001b[0m\u001b[0m\n\u001b[0;32m---> 46\u001b[0;31m         \u001b[0;32mreturn\u001b[0m \u001b[0mf\u001b[0m\u001b[0;34m(\u001b[0m\u001b[0;34m**\u001b[0m\u001b[0mkwargs\u001b[0m\u001b[0;34m)\u001b[0m\u001b[0;34m\u001b[0m\u001b[0;34m\u001b[0m\u001b[0m\n\u001b[0m\u001b[1;32m     47\u001b[0m     \u001b[0;32mreturn\u001b[0m \u001b[0minner_f\u001b[0m\u001b[0;34m\u001b[0m\u001b[0;34m\u001b[0m\u001b[0m\n\u001b[1;32m     48\u001b[0m \u001b[0;34m\u001b[0m\u001b[0m\n",
      "\u001b[0;32m/opt/anaconda3/envs/metis/lib/python3.8/site-packages/seaborn/axisgrid.py\u001b[0m in \u001b[0;36mpairplot\u001b[0;34m(data, hue, hue_order, palette, vars, x_vars, y_vars, kind, diag_kind, markers, height, aspect, corner, dropna, plot_kws, diag_kws, grid_kws, size)\u001b[0m\n\u001b[1;32m   1987\u001b[0m     \u001b[0;31m# Set up the PairGrid\u001b[0m\u001b[0;34m\u001b[0m\u001b[0;34m\u001b[0m\u001b[0;34m\u001b[0m\u001b[0m\n\u001b[1;32m   1988\u001b[0m     \u001b[0mgrid_kws\u001b[0m\u001b[0;34m.\u001b[0m\u001b[0msetdefault\u001b[0m\u001b[0;34m(\u001b[0m\u001b[0;34m\"diag_sharey\"\u001b[0m\u001b[0;34m,\u001b[0m \u001b[0mdiag_kind\u001b[0m \u001b[0;34m==\u001b[0m \u001b[0;34m\"hist\"\u001b[0m\u001b[0;34m)\u001b[0m\u001b[0;34m\u001b[0m\u001b[0;34m\u001b[0m\u001b[0m\n\u001b[0;32m-> 1989\u001b[0;31m     grid = PairGrid(data, vars=vars, x_vars=x_vars, y_vars=y_vars, hue=hue,\n\u001b[0m\u001b[1;32m   1990\u001b[0m                     \u001b[0mhue_order\u001b[0m\u001b[0;34m=\u001b[0m\u001b[0mhue_order\u001b[0m\u001b[0;34m,\u001b[0m \u001b[0mpalette\u001b[0m\u001b[0;34m=\u001b[0m\u001b[0mpalette\u001b[0m\u001b[0;34m,\u001b[0m \u001b[0mcorner\u001b[0m\u001b[0;34m=\u001b[0m\u001b[0mcorner\u001b[0m\u001b[0;34m,\u001b[0m\u001b[0;34m\u001b[0m\u001b[0;34m\u001b[0m\u001b[0m\n\u001b[1;32m   1991\u001b[0m                     height=height, aspect=aspect, dropna=dropna, **grid_kws)\n",
      "\u001b[0;32m/opt/anaconda3/envs/metis/lib/python3.8/site-packages/seaborn/_decorators.py\u001b[0m in \u001b[0;36minner_f\u001b[0;34m(*args, **kwargs)\u001b[0m\n\u001b[1;32m     44\u001b[0m             )\n\u001b[1;32m     45\u001b[0m         \u001b[0mkwargs\u001b[0m\u001b[0;34m.\u001b[0m\u001b[0mupdate\u001b[0m\u001b[0;34m(\u001b[0m\u001b[0;34m{\u001b[0m\u001b[0mk\u001b[0m\u001b[0;34m:\u001b[0m \u001b[0marg\u001b[0m \u001b[0;32mfor\u001b[0m \u001b[0mk\u001b[0m\u001b[0;34m,\u001b[0m \u001b[0marg\u001b[0m \u001b[0;32min\u001b[0m \u001b[0mzip\u001b[0m\u001b[0;34m(\u001b[0m\u001b[0msig\u001b[0m\u001b[0;34m.\u001b[0m\u001b[0mparameters\u001b[0m\u001b[0;34m,\u001b[0m \u001b[0margs\u001b[0m\u001b[0;34m)\u001b[0m\u001b[0;34m}\u001b[0m\u001b[0;34m)\u001b[0m\u001b[0;34m\u001b[0m\u001b[0;34m\u001b[0m\u001b[0m\n\u001b[0;32m---> 46\u001b[0;31m         \u001b[0;32mreturn\u001b[0m \u001b[0mf\u001b[0m\u001b[0;34m(\u001b[0m\u001b[0;34m**\u001b[0m\u001b[0mkwargs\u001b[0m\u001b[0;34m)\u001b[0m\u001b[0;34m\u001b[0m\u001b[0;34m\u001b[0m\u001b[0m\n\u001b[0m\u001b[1;32m     47\u001b[0m     \u001b[0;32mreturn\u001b[0m \u001b[0minner_f\u001b[0m\u001b[0;34m\u001b[0m\u001b[0;34m\u001b[0m\u001b[0m\n\u001b[1;32m     48\u001b[0m \u001b[0;34m\u001b[0m\u001b[0m\n",
      "\u001b[0;32m/opt/anaconda3/envs/metis/lib/python3.8/site-packages/seaborn/axisgrid.py\u001b[0m in \u001b[0;36m__init__\u001b[0;34m(self, data, hue, hue_order, palette, hue_kws, vars, x_vars, y_vars, corner, diag_sharey, height, aspect, layout_pad, despine, dropna, size)\u001b[0m\n\u001b[1;32m   1153\u001b[0m \u001b[0;34m\u001b[0m\u001b[0m\n\u001b[1;32m   1154\u001b[0m         \u001b[0;31m# Sort out the variables that define the grid\u001b[0m\u001b[0;34m\u001b[0m\u001b[0;34m\u001b[0m\u001b[0;34m\u001b[0m\u001b[0m\n\u001b[0;32m-> 1155\u001b[0;31m         \u001b[0mnumeric_cols\u001b[0m \u001b[0;34m=\u001b[0m \u001b[0mself\u001b[0m\u001b[0;34m.\u001b[0m\u001b[0m_find_numeric_cols\u001b[0m\u001b[0;34m(\u001b[0m\u001b[0mdata\u001b[0m\u001b[0;34m)\u001b[0m\u001b[0;34m\u001b[0m\u001b[0;34m\u001b[0m\u001b[0m\n\u001b[0m\u001b[1;32m   1156\u001b[0m         \u001b[0;32mif\u001b[0m \u001b[0mhue\u001b[0m \u001b[0;32min\u001b[0m \u001b[0mnumeric_cols\u001b[0m\u001b[0;34m:\u001b[0m\u001b[0;34m\u001b[0m\u001b[0;34m\u001b[0m\u001b[0m\n\u001b[1;32m   1157\u001b[0m             \u001b[0mnumeric_cols\u001b[0m\u001b[0;34m.\u001b[0m\u001b[0mremove\u001b[0m\u001b[0;34m(\u001b[0m\u001b[0mhue\u001b[0m\u001b[0;34m)\u001b[0m\u001b[0;34m\u001b[0m\u001b[0;34m\u001b[0m\u001b[0m\n",
      "\u001b[0;32m/opt/anaconda3/envs/metis/lib/python3.8/site-packages/seaborn/axisgrid.py\u001b[0m in \u001b[0;36m_find_numeric_cols\u001b[0;34m(self, data)\u001b[0m\n\u001b[1;32m   1566\u001b[0m         \u001b[0mnumeric_cols\u001b[0m \u001b[0;34m=\u001b[0m \u001b[0;34m[\u001b[0m\u001b[0;34m]\u001b[0m\u001b[0;34m\u001b[0m\u001b[0;34m\u001b[0m\u001b[0m\n\u001b[1;32m   1567\u001b[0m         \u001b[0;32mfor\u001b[0m \u001b[0mcol\u001b[0m \u001b[0;32min\u001b[0m \u001b[0mdata\u001b[0m\u001b[0;34m:\u001b[0m\u001b[0;34m\u001b[0m\u001b[0;34m\u001b[0m\u001b[0m\n\u001b[0;32m-> 1568\u001b[0;31m             \u001b[0;32mif\u001b[0m \u001b[0mvariable_type\u001b[0m\u001b[0;34m(\u001b[0m\u001b[0mdata\u001b[0m\u001b[0;34m[\u001b[0m\u001b[0mcol\u001b[0m\u001b[0;34m]\u001b[0m\u001b[0;34m)\u001b[0m \u001b[0;34m==\u001b[0m \u001b[0;34m\"numeric\"\u001b[0m\u001b[0;34m:\u001b[0m\u001b[0;34m\u001b[0m\u001b[0;34m\u001b[0m\u001b[0m\n\u001b[0m\u001b[1;32m   1569\u001b[0m                 \u001b[0mnumeric_cols\u001b[0m\u001b[0;34m.\u001b[0m\u001b[0mappend\u001b[0m\u001b[0;34m(\u001b[0m\u001b[0mcol\u001b[0m\u001b[0;34m)\u001b[0m\u001b[0;34m\u001b[0m\u001b[0;34m\u001b[0m\u001b[0m\n\u001b[1;32m   1570\u001b[0m         \u001b[0;32mreturn\u001b[0m \u001b[0mnumeric_cols\u001b[0m\u001b[0;34m\u001b[0m\u001b[0;34m\u001b[0m\u001b[0m\n",
      "\u001b[0;32m/opt/anaconda3/envs/metis/lib/python3.8/site-packages/seaborn/_core.py\u001b[0m in \u001b[0;36mvariable_type\u001b[0;34m(vector, boolean_type)\u001b[0m\n\u001b[1;32m   1255\u001b[0m         \u001b[0;32mreturn\u001b[0m \u001b[0;32mTrue\u001b[0m\u001b[0;34m\u001b[0m\u001b[0;34m\u001b[0m\u001b[0m\n\u001b[1;32m   1256\u001b[0m \u001b[0;34m\u001b[0m\u001b[0m\n\u001b[0;32m-> 1257\u001b[0;31m     \u001b[0;32mif\u001b[0m \u001b[0mall_numeric\u001b[0m\u001b[0;34m(\u001b[0m\u001b[0mvector\u001b[0m\u001b[0;34m)\u001b[0m\u001b[0;34m:\u001b[0m\u001b[0;34m\u001b[0m\u001b[0;34m\u001b[0m\u001b[0m\n\u001b[0m\u001b[1;32m   1258\u001b[0m         \u001b[0;32mreturn\u001b[0m \u001b[0;34m\"numeric\"\u001b[0m\u001b[0;34m\u001b[0m\u001b[0;34m\u001b[0m\u001b[0m\n\u001b[1;32m   1259\u001b[0m \u001b[0;34m\u001b[0m\u001b[0m\n",
      "\u001b[0;32m/opt/anaconda3/envs/metis/lib/python3.8/site-packages/seaborn/_core.py\u001b[0m in \u001b[0;36mall_numeric\u001b[0;34m(x)\u001b[0m\n\u001b[1;32m   1250\u001b[0m \u001b[0;34m\u001b[0m\u001b[0m\n\u001b[1;32m   1251\u001b[0m     \u001b[0;32mdef\u001b[0m \u001b[0mall_numeric\u001b[0m\u001b[0;34m(\u001b[0m\u001b[0mx\u001b[0m\u001b[0;34m)\u001b[0m\u001b[0;34m:\u001b[0m\u001b[0;34m\u001b[0m\u001b[0;34m\u001b[0m\u001b[0m\n\u001b[0;32m-> 1252\u001b[0;31m         \u001b[0;32mfor\u001b[0m \u001b[0mx_i\u001b[0m \u001b[0;32min\u001b[0m \u001b[0mx\u001b[0m\u001b[0;34m:\u001b[0m\u001b[0;34m\u001b[0m\u001b[0;34m\u001b[0m\u001b[0m\n\u001b[0m\u001b[1;32m   1253\u001b[0m             \u001b[0;32mif\u001b[0m \u001b[0;32mnot\u001b[0m \u001b[0misinstance\u001b[0m\u001b[0;34m(\u001b[0m\u001b[0mx_i\u001b[0m\u001b[0;34m,\u001b[0m \u001b[0mNumber\u001b[0m\u001b[0;34m)\u001b[0m\u001b[0;34m:\u001b[0m\u001b[0;34m\u001b[0m\u001b[0;34m\u001b[0m\u001b[0m\n\u001b[1;32m   1254\u001b[0m                 \u001b[0;32mreturn\u001b[0m \u001b[0;32mFalse\u001b[0m\u001b[0;34m\u001b[0m\u001b[0;34m\u001b[0m\u001b[0m\n",
      "\u001b[0;32m/opt/anaconda3/envs/metis/lib/python3.8/site-packages/pandas/core/arrays/timedeltas.py\u001b[0m in \u001b[0;36m__iter__\u001b[0;34m(self)\u001b[0m\n\u001b[1;32m    371\u001b[0m                 \u001b[0mstart_i\u001b[0m \u001b[0;34m=\u001b[0m \u001b[0mi\u001b[0m \u001b[0;34m*\u001b[0m \u001b[0mchunksize\u001b[0m\u001b[0;34m\u001b[0m\u001b[0;34m\u001b[0m\u001b[0m\n\u001b[1;32m    372\u001b[0m                 \u001b[0mend_i\u001b[0m \u001b[0;34m=\u001b[0m \u001b[0mmin\u001b[0m\u001b[0;34m(\u001b[0m\u001b[0;34m(\u001b[0m\u001b[0mi\u001b[0m \u001b[0;34m+\u001b[0m \u001b[0;36m1\u001b[0m\u001b[0;34m)\u001b[0m \u001b[0;34m*\u001b[0m \u001b[0mchunksize\u001b[0m\u001b[0;34m,\u001b[0m \u001b[0mlength\u001b[0m\u001b[0;34m)\u001b[0m\u001b[0;34m\u001b[0m\u001b[0;34m\u001b[0m\u001b[0m\n\u001b[0;32m--> 373\u001b[0;31m                 \u001b[0mconverted\u001b[0m \u001b[0;34m=\u001b[0m \u001b[0mints_to_pytimedelta\u001b[0m\u001b[0;34m(\u001b[0m\u001b[0mdata\u001b[0m\u001b[0;34m[\u001b[0m\u001b[0mstart_i\u001b[0m\u001b[0;34m:\u001b[0m\u001b[0mend_i\u001b[0m\u001b[0;34m]\u001b[0m\u001b[0;34m,\u001b[0m \u001b[0mbox\u001b[0m\u001b[0;34m=\u001b[0m\u001b[0;32mTrue\u001b[0m\u001b[0;34m)\u001b[0m\u001b[0;34m\u001b[0m\u001b[0;34m\u001b[0m\u001b[0m\n\u001b[0m\u001b[1;32m    374\u001b[0m                 \u001b[0;32myield\u001b[0m \u001b[0;32mfrom\u001b[0m \u001b[0mconverted\u001b[0m\u001b[0;34m\u001b[0m\u001b[0;34m\u001b[0m\u001b[0m\n\u001b[1;32m    375\u001b[0m \u001b[0;34m\u001b[0m\u001b[0m\n",
      "\u001b[0;32m/opt/anaconda3/envs/metis/lib/python3.8/site-packages/pandas/_libs/tslibs/timedeltas.pyx\u001b[0m in \u001b[0;36mpandas._libs.tslibs.timedeltas.ints_to_pytimedelta\u001b[0;34m()\u001b[0m\n",
      "\u001b[0;32m/opt/anaconda3/envs/metis/lib/python3.8/site-packages/pandas/_libs/tslibs/timedeltas.pyx\u001b[0m in \u001b[0;36mpandas._libs.tslibs.timedeltas.Timedelta.__new__\u001b[0;34m()\u001b[0m\n",
      "\u001b[0;32m/opt/anaconda3/envs/metis/lib/python3.8/site-packages/pandas/_libs/tslibs/timedeltas.pyx\u001b[0m in \u001b[0;36mpandas._libs.tslibs.timedeltas.convert_to_timedelta64\u001b[0;34m()\u001b[0m\n",
      "\u001b[0;32m/opt/anaconda3/envs/metis/lib/python3.8/site-packages/pandas/_libs/tslibs/conversion.pyx\u001b[0m in \u001b[0;36mpandas._libs.tslibs.conversion.cast_from_unit\u001b[0;34m()\u001b[0m\n",
      "\u001b[0;31mKeyboardInterrupt\u001b[0m: "
     ]
    }
   ],
   "source": [
    "sns.pairplot(df_train, hue='fastball')"
   ]
  },
  {
   "cell_type": "markdown",
   "id": "b9893bee",
   "metadata": {},
   "source": [
    "## Baseline Model"
   ]
  },
  {
   "cell_type": "code",
   "execution_count": 1356,
   "id": "92386d45",
   "metadata": {},
   "outputs": [],
   "source": [
    "X = df_train[['b_count', 's_count', 'outs', 'on_1b', 'on_2b','on_3b','inning', 'left_batter', 'top','day_game']]\n",
    "y = df_train['fastball']"
   ]
  },
  {
   "cell_type": "code",
   "execution_count": 435,
   "id": "48b259cc",
   "metadata": {
    "scrolled": true
   },
   "outputs": [
    {
     "data": {
      "text/plain": [
       "0.5871387798787014"
      ]
     },
     "execution_count": 435,
     "metadata": {},
     "output_type": "execute_result"
    }
   ],
   "source": [
    "#y.mean()\n",
    "metrics.accuracy_score(y, [1]*len(y))"
   ]
  },
  {
   "cell_type": "code",
   "execution_count": 483,
   "id": "4978338e",
   "metadata": {},
   "outputs": [
    {
     "name": "stdout",
     "output_type": "stream",
     "text": [
      "[0.6193790149892934, 0.5701284796573876, 0.5722698072805139, 0.5519271948608137, 0.6145610278372591]\n"
     ]
    },
    {
     "data": {
      "text/plain": [
       "0.5856531049250535"
      ]
     },
     "execution_count": 483,
     "metadata": {},
     "output_type": "execute_result"
    }
   ],
   "source": [
    "dummy_cv = []\n",
    "for train_index, test_index in tscv.split(X):\n",
    "    dummy_cv.append(y.iloc[test_index].mean())\n",
    "print(dummy_cv)\n",
    "np.mean(dummy_cv)"
   ]
  },
  {
   "cell_type": "code",
   "execution_count": 437,
   "id": "0a17149d",
   "metadata": {
    "scrolled": false
   },
   "outputs": [
    {
     "data": {
      "text/plain": [
       "0.6027470567249376"
      ]
     },
     "execution_count": 437,
     "metadata": {},
     "output_type": "execute_result"
    }
   ],
   "source": [
    "log_reg = LogisticRegression()\n",
    "log_reg.fit(X,y)\n",
    "log_reg.score(X,y)"
   ]
  },
  {
   "cell_type": "code",
   "execution_count": 438,
   "id": "4e6aec3c",
   "metadata": {},
   "outputs": [
    {
     "name": "stdout",
     "output_type": "stream",
     "text": [
      "Optimization terminated successfully.\n",
      "         Current function value: 0.658913\n",
      "         Iterations 5\n"
     ]
    },
    {
     "data": {
      "text/html": [
       "<table class=\"simpletable\">\n",
       "<caption>Logit Regression Results</caption>\n",
       "<tr>\n",
       "  <th>Dep. Variable:</th>       <td>fastball</td>     <th>  No. Observations:  </th>  <td> 11212</td>  \n",
       "</tr>\n",
       "<tr>\n",
       "  <th>Model:</th>                 <td>Logit</td>      <th>  Df Residuals:      </th>  <td> 11201</td>  \n",
       "</tr>\n",
       "<tr>\n",
       "  <th>Method:</th>                 <td>MLE</td>       <th>  Df Model:          </th>  <td>    10</td>  \n",
       "</tr>\n",
       "<tr>\n",
       "  <th>Date:</th>            <td>Fri, 22 Oct 2021</td> <th>  Pseudo R-squ.:     </th>  <td>0.02798</td> \n",
       "</tr>\n",
       "<tr>\n",
       "  <th>Time:</th>                <td>14:57:03</td>     <th>  Log-Likelihood:    </th> <td> -7387.7</td> \n",
       "</tr>\n",
       "<tr>\n",
       "  <th>converged:</th>             <td>True</td>       <th>  LL-Null:           </th> <td> -7600.4</td> \n",
       "</tr>\n",
       "<tr>\n",
       "  <th>Covariance Type:</th>     <td>nonrobust</td>    <th>  LLR p-value:       </th> <td>3.697e-85</td>\n",
       "</tr>\n",
       "</table>\n",
       "<table class=\"simpletable\">\n",
       "<tr>\n",
       "       <td></td>          <th>coef</th>     <th>std err</th>      <th>z</th>      <th>P>|z|</th>  <th>[0.025</th>    <th>0.975]</th>  \n",
       "</tr>\n",
       "<tr>\n",
       "  <th>const</th>       <td>    0.5856</td> <td>    0.064</td> <td>    9.102</td> <td> 0.000</td> <td>    0.460</td> <td>    0.712</td>\n",
       "</tr>\n",
       "<tr>\n",
       "  <th>b_count</th>     <td>    0.1990</td> <td>    0.023</td> <td>    8.501</td> <td> 0.000</td> <td>    0.153</td> <td>    0.245</td>\n",
       "</tr>\n",
       "<tr>\n",
       "  <th>s_count</th>     <td>   -0.3217</td> <td>    0.025</td> <td>  -12.668</td> <td> 0.000</td> <td>   -0.371</td> <td>   -0.272</td>\n",
       "</tr>\n",
       "<tr>\n",
       "  <th>outs</th>        <td>    0.0020</td> <td>    0.025</td> <td>    0.079</td> <td> 0.937</td> <td>   -0.047</td> <td>    0.051</td>\n",
       "</tr>\n",
       "<tr>\n",
       "  <th>on_1b</th>       <td>    0.0152</td> <td>    0.048</td> <td>    0.317</td> <td> 0.751</td> <td>   -0.079</td> <td>    0.109</td>\n",
       "</tr>\n",
       "<tr>\n",
       "  <th>on_2b</th>       <td>   -0.1884</td> <td>    0.060</td> <td>   -3.167</td> <td> 0.002</td> <td>   -0.305</td> <td>   -0.072</td>\n",
       "</tr>\n",
       "<tr>\n",
       "  <th>on_3b</th>       <td>   -0.1338</td> <td>    0.086</td> <td>   -1.557</td> <td> 0.119</td> <td>   -0.302</td> <td>    0.035</td>\n",
       "</tr>\n",
       "<tr>\n",
       "  <th>inning</th>      <td>   -0.0746</td> <td>    0.009</td> <td>   -7.997</td> <td> 0.000</td> <td>   -0.093</td> <td>   -0.056</td>\n",
       "</tr>\n",
       "<tr>\n",
       "  <th>left_batter</th> <td>    0.4361</td> <td>    0.039</td> <td>   11.079</td> <td> 0.000</td> <td>    0.359</td> <td>    0.513</td>\n",
       "</tr>\n",
       "<tr>\n",
       "  <th>top</th>         <td>    0.0026</td> <td>    0.039</td> <td>    0.066</td> <td> 0.948</td> <td>   -0.074</td> <td>    0.079</td>\n",
       "</tr>\n",
       "<tr>\n",
       "  <th>day_game</th>    <td>    0.0624</td> <td>    0.042</td> <td>    1.499</td> <td> 0.134</td> <td>   -0.019</td> <td>    0.144</td>\n",
       "</tr>\n",
       "</table>"
      ],
      "text/plain": [
       "<class 'statsmodels.iolib.summary.Summary'>\n",
       "\"\"\"\n",
       "                           Logit Regression Results                           \n",
       "==============================================================================\n",
       "Dep. Variable:               fastball   No. Observations:                11212\n",
       "Model:                          Logit   Df Residuals:                    11201\n",
       "Method:                           MLE   Df Model:                           10\n",
       "Date:                Fri, 22 Oct 2021   Pseudo R-squ.:                 0.02798\n",
       "Time:                        14:57:03   Log-Likelihood:                -7387.7\n",
       "converged:                       True   LL-Null:                       -7600.4\n",
       "Covariance Type:            nonrobust   LLR p-value:                 3.697e-85\n",
       "===============================================================================\n",
       "                  coef    std err          z      P>|z|      [0.025      0.975]\n",
       "-------------------------------------------------------------------------------\n",
       "const           0.5856      0.064      9.102      0.000       0.460       0.712\n",
       "b_count         0.1990      0.023      8.501      0.000       0.153       0.245\n",
       "s_count        -0.3217      0.025    -12.668      0.000      -0.371      -0.272\n",
       "outs            0.0020      0.025      0.079      0.937      -0.047       0.051\n",
       "on_1b           0.0152      0.048      0.317      0.751      -0.079       0.109\n",
       "on_2b          -0.1884      0.060     -3.167      0.002      -0.305      -0.072\n",
       "on_3b          -0.1338      0.086     -1.557      0.119      -0.302       0.035\n",
       "inning         -0.0746      0.009     -7.997      0.000      -0.093      -0.056\n",
       "left_batter     0.4361      0.039     11.079      0.000       0.359       0.513\n",
       "top             0.0026      0.039      0.066      0.948      -0.074       0.079\n",
       "day_game        0.0624      0.042      1.499      0.134      -0.019       0.144\n",
       "===============================================================================\n",
       "\"\"\""
      ]
     },
     "execution_count": 438,
     "metadata": {},
     "output_type": "execute_result"
    }
   ],
   "source": [
    "logreg = sm.Logit(y, sm.add_constant(X))\n",
    "logreg = logreg.fit()\n",
    "logreg.summary()"
   ]
  },
  {
   "cell_type": "code",
   "execution_count": 1360,
   "id": "f16c26a5",
   "metadata": {
    "scrolled": true
   },
   "outputs": [
    {
     "name": "stdout",
     "output_type": "stream",
     "text": [
      "[0.60599572 0.59475375 0.59154176 0.56852248 0.61456103]\n"
     ]
    },
    {
     "data": {
      "text/plain": [
       "0.5950749464668095"
      ]
     },
     "execution_count": 1360,
     "metadata": {},
     "output_type": "execute_result"
    }
   ],
   "source": [
    "cv_score = cross_val_score(log_reg, X, y,cv=tscv, scoring='accuracy')\n",
    "print(cv_score)\n",
    "cv_score.mean()"
   ]
  },
  {
   "cell_type": "markdown",
   "id": "22f60c58",
   "metadata": {},
   "source": [
    "## multi-class"
   ]
  },
  {
   "cell_type": "code",
   "execution_count": 118,
   "id": "bf74ffd7",
   "metadata": {},
   "outputs": [],
   "source": [
    "X = df_train[['b_count', 's_count', 'outs', 'on_1b', 'on_2b','on_3b','inning', 'left_batter', 'top','day_game']]\n",
    "y = df_train['pitch_type']"
   ]
  },
  {
   "cell_type": "code",
   "execution_count": 119,
   "id": "53bfee0a",
   "metadata": {
    "scrolled": true
   },
   "outputs": [
    {
     "data": {
      "text/plain": [
       "0.5338922582946842"
      ]
     },
     "execution_count": 119,
     "metadata": {},
     "output_type": "execute_result"
    }
   ],
   "source": [
    "metrics.accuracy_score(y, ['FF']*len(y))"
   ]
  },
  {
   "cell_type": "code",
   "execution_count": 120,
   "id": "7f7b1368",
   "metadata": {
    "scrolled": false
   },
   "outputs": [
    {
     "data": {
      "text/plain": [
       "0.5371922939707456"
      ]
     },
     "execution_count": 120,
     "metadata": {},
     "output_type": "execute_result"
    }
   ],
   "source": [
    "log_reg = LogisticRegression(multi_class='ovr')\n",
    "log_reg.fit(X,y)\n",
    "log_reg.score(X,y)"
   ]
  },
  {
   "cell_type": "code",
   "execution_count": 122,
   "id": "5c55f079",
   "metadata": {
    "scrolled": true
   },
   "outputs": [
    {
     "name": "stdout",
     "output_type": "stream",
     "text": [
      "[0.58029979 0.55192719 0.54443255 0.44486081 0.49518201]\n"
     ]
    },
    {
     "data": {
      "text/plain": [
       "0.523340471092077"
      ]
     },
     "execution_count": 122,
     "metadata": {},
     "output_type": "execute_result"
    }
   ],
   "source": [
    "cv_score = cross_val_score(log_reg, X, y,cv=tscv, scoring='accuracy')\n",
    "print(cv_score)\n",
    "cv_score.mean()"
   ]
  },
  {
   "cell_type": "markdown",
   "id": "495c3912",
   "metadata": {},
   "source": [
    "## Feature Selection"
   ]
  },
  {
   "cell_type": "code",
   "execution_count": 545,
   "id": "b2c85c84",
   "metadata": {},
   "outputs": [
    {
     "data": {
      "text/plain": [
       "Index(['pitch_type', 'fastball', 'start_speed', 'zone', 'code', 'type',\n",
       "       'b_score', 'p_score', 'ab_id', 'pitch_num', 'b_count', 's_count',\n",
       "       'outs', 'on_1b', 'on_2b', 'on_3b', 'event', 'inning', 'left_batter',\n",
       "       'top', 'weather', 'start_time', 'year', 'day_game', 'b_1', 'b_2', 'b_3',\n",
       "       's_1', 's_2', 'o_1', 'o_2', 'after_4_inning', 'abs_diff', 'diff', 'tie',\n",
       "       'ahead', 'behind', 'tempature', 'more_than_70', 'last_pitch_type',\n",
       "       'last_fastball', 'last_code', 'last_type', 'last_b', 'last_s',\n",
       "       'last_inplay', 'last_contact', 'last_pitch', 'last_pa',\n",
       "       'last_pa_homerun', 'last_pa_double_triple', 'last_pa_so', 'last_pa_bb',\n",
       "       'last_pa_dp', 'last_pa_out'],\n",
       "      dtype='object')"
      ]
     },
     "execution_count": 545,
     "metadata": {},
     "output_type": "execute_result"
    }
   ],
   "source": [
    "df_train.columns"
   ]
  },
  {
   "cell_type": "code",
   "execution_count": 564,
   "id": "940a5444",
   "metadata": {},
   "outputs": [],
   "source": [
    "#'b_count', 's_count','outs', \n",
    "#'last_inplay','tie', 'abs_diff','after_4_inning', 'more_than_70',\n",
    "X = df_train[['pitch_num', \n",
    "              'on_1b', 'on_2b', 'on_3b', 'inning', 'left_batter','after_5_inning',\n",
    "              'top', 'day_game', 'b_1', 'b_2', 'b_3','s_1', 's_2', 'o_1', 'o_2',\n",
    "                'diff',  'tempature',\n",
    "              'last_fastball', 'last_b', 'last_s', 'ahead','behind',\n",
    "              'last_contact','last_pa_homerun', 'last_pa_double_triple', \n",
    "              'last_pa_so', 'last_pa_bb','last_pa_dp', 'last_pa_out']]\n",
    "y = df_train['fastball']"
   ]
  },
  {
   "cell_type": "code",
   "execution_count": 565,
   "id": "de40dc99",
   "metadata": {},
   "outputs": [
    {
     "data": {
      "text/plain": [
       "0.6171958615768819"
      ]
     },
     "execution_count": 565,
     "metadata": {},
     "output_type": "execute_result"
    }
   ],
   "source": [
    "log_reg = LogisticRegression()\n",
    "log_reg.fit(X,y)\n",
    "log_reg.score(X,y)"
   ]
  },
  {
   "cell_type": "code",
   "execution_count": 566,
   "id": "99b82815",
   "metadata": {},
   "outputs": [
    {
     "name": "stdout",
     "output_type": "stream",
     "text": [
      "Optimization terminated successfully.\n",
      "         Current function value: 0.650747\n",
      "         Iterations 5\n"
     ]
    },
    {
     "data": {
      "text/html": [
       "<table class=\"simpletable\">\n",
       "<caption>Logit Regression Results</caption>\n",
       "<tr>\n",
       "  <th>Dep. Variable:</th>       <td>fastball</td>     <th>  No. Observations:  </th>   <td> 11212</td>  \n",
       "</tr>\n",
       "<tr>\n",
       "  <th>Model:</th>                 <td>Logit</td>      <th>  Df Residuals:      </th>   <td> 11181</td>  \n",
       "</tr>\n",
       "<tr>\n",
       "  <th>Method:</th>                 <td>MLE</td>       <th>  Df Model:          </th>   <td>    30</td>  \n",
       "</tr>\n",
       "<tr>\n",
       "  <th>Date:</th>            <td>Fri, 22 Oct 2021</td> <th>  Pseudo R-squ.:     </th>   <td>0.04003</td> \n",
       "</tr>\n",
       "<tr>\n",
       "  <th>Time:</th>                <td>19:02:33</td>     <th>  Log-Likelihood:    </th>  <td> -7296.2</td> \n",
       "</tr>\n",
       "<tr>\n",
       "  <th>converged:</th>             <td>True</td>       <th>  LL-Null:           </th>  <td> -7600.4</td> \n",
       "</tr>\n",
       "<tr>\n",
       "  <th>Covariance Type:</th>     <td>nonrobust</td>    <th>  LLR p-value:       </th> <td>5.148e-109</td>\n",
       "</tr>\n",
       "</table>\n",
       "<table class=\"simpletable\">\n",
       "<tr>\n",
       "            <td></td>               <th>coef</th>     <th>std err</th>      <th>z</th>      <th>P>|z|</th>  <th>[0.025</th>    <th>0.975]</th>  \n",
       "</tr>\n",
       "<tr>\n",
       "  <th>const</th>                 <td>    1.3443</td> <td>    0.202</td> <td>    6.664</td> <td> 0.000</td> <td>    0.949</td> <td>    1.740</td>\n",
       "</tr>\n",
       "<tr>\n",
       "  <th>pitch_num</th>             <td>   -0.0996</td> <td>    0.044</td> <td>   -2.264</td> <td> 0.024</td> <td>   -0.186</td> <td>   -0.013</td>\n",
       "</tr>\n",
       "<tr>\n",
       "  <th>on_1b</th>                 <td>   -0.0131</td> <td>    0.070</td> <td>   -0.187</td> <td> 0.852</td> <td>   -0.150</td> <td>    0.124</td>\n",
       "</tr>\n",
       "<tr>\n",
       "  <th>on_2b</th>                 <td>   -0.2251</td> <td>    0.072</td> <td>   -3.110</td> <td> 0.002</td> <td>   -0.367</td> <td>   -0.083</td>\n",
       "</tr>\n",
       "<tr>\n",
       "  <th>on_3b</th>                 <td>   -0.1470</td> <td>    0.089</td> <td>   -1.655</td> <td> 0.098</td> <td>   -0.321</td> <td>    0.027</td>\n",
       "</tr>\n",
       "<tr>\n",
       "  <th>inning</th>                <td>   -0.0502</td> <td>    0.018</td> <td>   -2.770</td> <td> 0.006</td> <td>   -0.086</td> <td>   -0.015</td>\n",
       "</tr>\n",
       "<tr>\n",
       "  <th>left_batter</th>           <td>    0.4676</td> <td>    0.040</td> <td>   11.666</td> <td> 0.000</td> <td>    0.389</td> <td>    0.546</td>\n",
       "</tr>\n",
       "<tr>\n",
       "  <th>after_5_inning</th>        <td>   -0.1358</td> <td>    0.075</td> <td>   -1.809</td> <td> 0.070</td> <td>   -0.283</td> <td>    0.011</td>\n",
       "</tr>\n",
       "<tr>\n",
       "  <th>top</th>                   <td>    0.0095</td> <td>    0.042</td> <td>    0.226</td> <td> 0.821</td> <td>   -0.073</td> <td>    0.092</td>\n",
       "</tr>\n",
       "<tr>\n",
       "  <th>day_game</th>              <td>    0.0796</td> <td>    0.042</td> <td>    1.891</td> <td> 0.059</td> <td>   -0.003</td> <td>    0.162</td>\n",
       "</tr>\n",
       "<tr>\n",
       "  <th>b_1</th>                   <td>    0.3327</td> <td>    0.078</td> <td>    4.253</td> <td> 0.000</td> <td>    0.179</td> <td>    0.486</td>\n",
       "</tr>\n",
       "<tr>\n",
       "  <th>b_2</th>                   <td>    0.7720</td> <td>    0.125</td> <td>    6.192</td> <td> 0.000</td> <td>    0.528</td> <td>    1.016</td>\n",
       "</tr>\n",
       "<tr>\n",
       "  <th>b_3</th>                   <td>    1.4724</td> <td>    0.190</td> <td>    7.732</td> <td> 0.000</td> <td>    1.099</td> <td>    1.846</td>\n",
       "</tr>\n",
       "<tr>\n",
       "  <th>s_1</th>                   <td>   -0.0205</td> <td>    0.073</td> <td>   -0.282</td> <td> 0.778</td> <td>   -0.163</td> <td>    0.122</td>\n",
       "</tr>\n",
       "<tr>\n",
       "  <th>s_2</th>                   <td>   -0.4868</td> <td>    0.116</td> <td>   -4.193</td> <td> 0.000</td> <td>   -0.714</td> <td>   -0.259</td>\n",
       "</tr>\n",
       "<tr>\n",
       "  <th>o_1</th>                   <td>    0.0264</td> <td>    0.049</td> <td>    0.535</td> <td> 0.593</td> <td>   -0.070</td> <td>    0.123</td>\n",
       "</tr>\n",
       "<tr>\n",
       "  <th>o_2</th>                   <td>   -0.0053</td> <td>    0.051</td> <td>   -0.103</td> <td> 0.918</td> <td>   -0.106</td> <td>    0.095</td>\n",
       "</tr>\n",
       "<tr>\n",
       "  <th>diff</th>                  <td>    0.0228</td> <td>    0.013</td> <td>    1.819</td> <td> 0.069</td> <td>   -0.002</td> <td>    0.047</td>\n",
       "</tr>\n",
       "<tr>\n",
       "  <th>tempature</th>             <td>   -0.0033</td> <td>    0.002</td> <td>   -1.669</td> <td> 0.095</td> <td>   -0.007</td> <td>    0.001</td>\n",
       "</tr>\n",
       "<tr>\n",
       "  <th>last_fastball</th>         <td>   -0.3169</td> <td>    0.041</td> <td>   -7.689</td> <td> 0.000</td> <td>   -0.398</td> <td>   -0.236</td>\n",
       "</tr>\n",
       "<tr>\n",
       "  <th>last_b</th>                <td>   -0.4956</td> <td>    0.114</td> <td>   -4.348</td> <td> 0.000</td> <td>   -0.719</td> <td>   -0.272</td>\n",
       "</tr>\n",
       "<tr>\n",
       "  <th>last_s</th>                <td>   -0.0935</td> <td>    0.091</td> <td>   -1.027</td> <td> 0.304</td> <td>   -0.272</td> <td>    0.085</td>\n",
       "</tr>\n",
       "<tr>\n",
       "  <th>ahead</th>                 <td>   -0.1435</td> <td>    0.061</td> <td>   -2.363</td> <td> 0.018</td> <td>   -0.262</td> <td>   -0.024</td>\n",
       "</tr>\n",
       "<tr>\n",
       "  <th>behind</th>                <td>   -0.0160</td> <td>    0.062</td> <td>   -0.259</td> <td> 0.796</td> <td>   -0.138</td> <td>    0.105</td>\n",
       "</tr>\n",
       "<tr>\n",
       "  <th>last_contact</th>          <td>   -0.1645</td> <td>    0.063</td> <td>   -2.632</td> <td> 0.008</td> <td>   -0.287</td> <td>   -0.042</td>\n",
       "</tr>\n",
       "<tr>\n",
       "  <th>last_pa_homerun</th>       <td>   -0.3165</td> <td>    0.147</td> <td>   -2.151</td> <td> 0.031</td> <td>   -0.605</td> <td>   -0.028</td>\n",
       "</tr>\n",
       "<tr>\n",
       "  <th>last_pa_double_triple</th> <td>    0.0257</td> <td>    0.131</td> <td>    0.197</td> <td> 0.844</td> <td>   -0.231</td> <td>    0.282</td>\n",
       "</tr>\n",
       "<tr>\n",
       "  <th>last_pa_so</th>            <td>   -0.0149</td> <td>    0.049</td> <td>   -0.305</td> <td> 0.761</td> <td>   -0.111</td> <td>    0.081</td>\n",
       "</tr>\n",
       "<tr>\n",
       "  <th>last_pa_bb</th>            <td>    0.0346</td> <td>    0.102</td> <td>    0.338</td> <td> 0.736</td> <td>   -0.166</td> <td>    0.235</td>\n",
       "</tr>\n",
       "<tr>\n",
       "  <th>last_pa_dp</th>            <td>   -0.0755</td> <td>    0.144</td> <td>   -0.526</td> <td> 0.599</td> <td>   -0.357</td> <td>    0.206</td>\n",
       "</tr>\n",
       "<tr>\n",
       "  <th>last_pa_out</th>           <td>   -0.0524</td> <td>    0.088</td> <td>   -0.599</td> <td> 0.549</td> <td>   -0.224</td> <td>    0.119</td>\n",
       "</tr>\n",
       "</table>"
      ],
      "text/plain": [
       "<class 'statsmodels.iolib.summary.Summary'>\n",
       "\"\"\"\n",
       "                           Logit Regression Results                           \n",
       "==============================================================================\n",
       "Dep. Variable:               fastball   No. Observations:                11212\n",
       "Model:                          Logit   Df Residuals:                    11181\n",
       "Method:                           MLE   Df Model:                           30\n",
       "Date:                Fri, 22 Oct 2021   Pseudo R-squ.:                 0.04003\n",
       "Time:                        19:02:33   Log-Likelihood:                -7296.2\n",
       "converged:                       True   LL-Null:                       -7600.4\n",
       "Covariance Type:            nonrobust   LLR p-value:                5.148e-109\n",
       "=========================================================================================\n",
       "                            coef    std err          z      P>|z|      [0.025      0.975]\n",
       "-----------------------------------------------------------------------------------------\n",
       "const                     1.3443      0.202      6.664      0.000       0.949       1.740\n",
       "pitch_num                -0.0996      0.044     -2.264      0.024      -0.186      -0.013\n",
       "on_1b                    -0.0131      0.070     -0.187      0.852      -0.150       0.124\n",
       "on_2b                    -0.2251      0.072     -3.110      0.002      -0.367      -0.083\n",
       "on_3b                    -0.1470      0.089     -1.655      0.098      -0.321       0.027\n",
       "inning                   -0.0502      0.018     -2.770      0.006      -0.086      -0.015\n",
       "left_batter               0.4676      0.040     11.666      0.000       0.389       0.546\n",
       "after_5_inning           -0.1358      0.075     -1.809      0.070      -0.283       0.011\n",
       "top                       0.0095      0.042      0.226      0.821      -0.073       0.092\n",
       "day_game                  0.0796      0.042      1.891      0.059      -0.003       0.162\n",
       "b_1                       0.3327      0.078      4.253      0.000       0.179       0.486\n",
       "b_2                       0.7720      0.125      6.192      0.000       0.528       1.016\n",
       "b_3                       1.4724      0.190      7.732      0.000       1.099       1.846\n",
       "s_1                      -0.0205      0.073     -0.282      0.778      -0.163       0.122\n",
       "s_2                      -0.4868      0.116     -4.193      0.000      -0.714      -0.259\n",
       "o_1                       0.0264      0.049      0.535      0.593      -0.070       0.123\n",
       "o_2                      -0.0053      0.051     -0.103      0.918      -0.106       0.095\n",
       "diff                      0.0228      0.013      1.819      0.069      -0.002       0.047\n",
       "tempature                -0.0033      0.002     -1.669      0.095      -0.007       0.001\n",
       "last_fastball            -0.3169      0.041     -7.689      0.000      -0.398      -0.236\n",
       "last_b                   -0.4956      0.114     -4.348      0.000      -0.719      -0.272\n",
       "last_s                   -0.0935      0.091     -1.027      0.304      -0.272       0.085\n",
       "ahead                    -0.1435      0.061     -2.363      0.018      -0.262      -0.024\n",
       "behind                   -0.0160      0.062     -0.259      0.796      -0.138       0.105\n",
       "last_contact             -0.1645      0.063     -2.632      0.008      -0.287      -0.042\n",
       "last_pa_homerun          -0.3165      0.147     -2.151      0.031      -0.605      -0.028\n",
       "last_pa_double_triple     0.0257      0.131      0.197      0.844      -0.231       0.282\n",
       "last_pa_so               -0.0149      0.049     -0.305      0.761      -0.111       0.081\n",
       "last_pa_bb                0.0346      0.102      0.338      0.736      -0.166       0.235\n",
       "last_pa_dp               -0.0755      0.144     -0.526      0.599      -0.357       0.206\n",
       "last_pa_out              -0.0524      0.088     -0.599      0.549      -0.224       0.119\n",
       "=========================================================================================\n",
       "\"\"\""
      ]
     },
     "execution_count": 566,
     "metadata": {},
     "output_type": "execute_result"
    }
   ],
   "source": [
    "logreg = sm.Logit(y, sm.add_constant(X))\n",
    "logreg = logreg.fit()\n",
    "logreg.summary()"
   ]
  },
  {
   "cell_type": "code",
   "execution_count": 567,
   "id": "79c6ca55",
   "metadata": {},
   "outputs": [
    {
     "name": "stdout",
     "output_type": "stream",
     "text": [
      "[0.61509636 0.60171306 0.61509636 0.58940043 0.62205567]\n"
     ]
    },
    {
     "data": {
      "text/plain": [
       "0.6086723768736617"
      ]
     },
     "execution_count": 567,
     "metadata": {},
     "output_type": "execute_result"
    }
   ],
   "source": [
    "cv_score = cross_val_score(log_reg, X, y,cv=tscv, scoring='accuracy')\n",
    "print(cv_score)\n",
    "cv_score.mean()"
   ]
  },
  {
   "cell_type": "code",
   "execution_count": 665,
   "id": "e33537b1",
   "metadata": {},
   "outputs": [],
   "source": [
    "#'b_count', 's_count','outs', \n",
    "#'last_inplay','tie', 'abs_diff','after_5_inning', 'more_than_70',\n",
    "# p-value high: 'o_2','last_pa_double_triple', 'top', 'behind','last_pa_so','on_1b', 'first2ball',\n",
    "X = df_train[['pitch_num', \n",
    "              'on_2b', 'on_3b', 'inning', 'left_batter','after_4_inning',\n",
    "              'day_game', 'b_1', 'b_2', 'b_3','s_1', 's_2', 'o_1', \n",
    "                'diff',  'tempature',\n",
    "              'last_fastball', 'last_b', 'last_s', 'ahead',\n",
    "              'last_contact','last_pa_homerun', \n",
    "               'last_pa_bb','last_pa_dp', 'last_pa_out']]\n",
    "y = df_train['fastball']"
   ]
  },
  {
   "cell_type": "code",
   "execution_count": 666,
   "id": "47469964",
   "metadata": {},
   "outputs": [
    {
     "data": {
      "text/plain": [
       "0.617374241883696"
      ]
     },
     "execution_count": 666,
     "metadata": {},
     "output_type": "execute_result"
    }
   ],
   "source": [
    "log_reg = LogisticRegression()\n",
    "log_reg.fit(X,y)\n",
    "log_reg.score(X,y)"
   ]
  },
  {
   "cell_type": "code",
   "execution_count": 667,
   "id": "cdc1359f",
   "metadata": {},
   "outputs": [
    {
     "name": "stdout",
     "output_type": "stream",
     "text": [
      "Optimization terminated successfully.\n",
      "         Current function value: 0.650764\n",
      "         Iterations 5\n"
     ]
    },
    {
     "data": {
      "text/html": [
       "<table class=\"simpletable\">\n",
       "<caption>Logit Regression Results</caption>\n",
       "<tr>\n",
       "  <th>Dep. Variable:</th>       <td>fastball</td>     <th>  No. Observations:  </th>   <td> 11212</td>  \n",
       "</tr>\n",
       "<tr>\n",
       "  <th>Model:</th>                 <td>Logit</td>      <th>  Df Residuals:      </th>   <td> 11187</td>  \n",
       "</tr>\n",
       "<tr>\n",
       "  <th>Method:</th>                 <td>MLE</td>       <th>  Df Model:          </th>   <td>    24</td>  \n",
       "</tr>\n",
       "<tr>\n",
       "  <th>Date:</th>            <td>Fri, 22 Oct 2021</td> <th>  Pseudo R-squ.:     </th>   <td>0.04000</td> \n",
       "</tr>\n",
       "<tr>\n",
       "  <th>Time:</th>                <td>19:18:18</td>     <th>  Log-Likelihood:    </th>  <td> -7296.4</td> \n",
       "</tr>\n",
       "<tr>\n",
       "  <th>converged:</th>             <td>True</td>       <th>  LL-Null:           </th>  <td> -7600.4</td> \n",
       "</tr>\n",
       "<tr>\n",
       "  <th>Covariance Type:</th>     <td>nonrobust</td>    <th>  LLR p-value:       </th> <td>4.770e-113</td>\n",
       "</tr>\n",
       "</table>\n",
       "<table class=\"simpletable\">\n",
       "<tr>\n",
       "         <td></td>            <th>coef</th>     <th>std err</th>      <th>z</th>      <th>P>|z|</th>  <th>[0.025</th>    <th>0.975]</th>  \n",
       "</tr>\n",
       "<tr>\n",
       "  <th>const</th>           <td>    1.3325</td> <td>    0.187</td> <td>    7.121</td> <td> 0.000</td> <td>    0.966</td> <td>    1.699</td>\n",
       "</tr>\n",
       "<tr>\n",
       "  <th>pitch_num</th>       <td>   -0.0990</td> <td>    0.044</td> <td>   -2.252</td> <td> 0.024</td> <td>   -0.185</td> <td>   -0.013</td>\n",
       "</tr>\n",
       "<tr>\n",
       "  <th>on_2b</th>           <td>   -0.2194</td> <td>    0.066</td> <td>   -3.328</td> <td> 0.001</td> <td>   -0.349</td> <td>   -0.090</td>\n",
       "</tr>\n",
       "<tr>\n",
       "  <th>on_3b</th>           <td>   -0.1490</td> <td>    0.088</td> <td>   -1.702</td> <td> 0.089</td> <td>   -0.321</td> <td>    0.023</td>\n",
       "</tr>\n",
       "<tr>\n",
       "  <th>inning</th>          <td>   -0.0503</td> <td>    0.018</td> <td>   -2.799</td> <td> 0.005</td> <td>   -0.086</td> <td>   -0.015</td>\n",
       "</tr>\n",
       "<tr>\n",
       "  <th>left_batter</th>     <td>    0.4671</td> <td>    0.040</td> <td>   11.695</td> <td> 0.000</td> <td>    0.389</td> <td>    0.545</td>\n",
       "</tr>\n",
       "<tr>\n",
       "  <th>after_4_inning</th>  <td>   -0.1367</td> <td>    0.075</td> <td>   -1.827</td> <td> 0.068</td> <td>   -0.283</td> <td>    0.010</td>\n",
       "</tr>\n",
       "<tr>\n",
       "  <th>day_game</th>        <td>    0.0794</td> <td>    0.042</td> <td>    1.890</td> <td> 0.059</td> <td>   -0.003</td> <td>    0.162</td>\n",
       "</tr>\n",
       "<tr>\n",
       "  <th>b_1</th>             <td>    0.3327</td> <td>    0.078</td> <td>    4.259</td> <td> 0.000</td> <td>    0.180</td> <td>    0.486</td>\n",
       "</tr>\n",
       "<tr>\n",
       "  <th>b_2</th>             <td>    0.7713</td> <td>    0.125</td> <td>    6.193</td> <td> 0.000</td> <td>    0.527</td> <td>    1.015</td>\n",
       "</tr>\n",
       "<tr>\n",
       "  <th>b_3</th>             <td>    1.4703</td> <td>    0.190</td> <td>    7.730</td> <td> 0.000</td> <td>    1.098</td> <td>    1.843</td>\n",
       "</tr>\n",
       "<tr>\n",
       "  <th>s_1</th>             <td>   -0.0188</td> <td>    0.072</td> <td>   -0.260</td> <td> 0.795</td> <td>   -0.160</td> <td>    0.123</td>\n",
       "</tr>\n",
       "<tr>\n",
       "  <th>s_2</th>             <td>   -0.4857</td> <td>    0.116</td> <td>   -4.196</td> <td> 0.000</td> <td>   -0.713</td> <td>   -0.259</td>\n",
       "</tr>\n",
       "<tr>\n",
       "  <th>o_1</th>             <td>    0.0289</td> <td>    0.042</td> <td>    0.692</td> <td> 0.489</td> <td>   -0.053</td> <td>    0.111</td>\n",
       "</tr>\n",
       "<tr>\n",
       "  <th>diff</th>            <td>    0.0238</td> <td>    0.012</td> <td>    2.044</td> <td> 0.041</td> <td>    0.001</td> <td>    0.047</td>\n",
       "</tr>\n",
       "<tr>\n",
       "  <th>tempature</th>       <td>   -0.0032</td> <td>    0.002</td> <td>   -1.648</td> <td> 0.099</td> <td>   -0.007</td> <td>    0.001</td>\n",
       "</tr>\n",
       "<tr>\n",
       "  <th>last_fastball</th>   <td>   -0.3164</td> <td>    0.041</td> <td>   -7.680</td> <td> 0.000</td> <td>   -0.397</td> <td>   -0.236</td>\n",
       "</tr>\n",
       "<tr>\n",
       "  <th>last_b</th>          <td>   -0.5004</td> <td>    0.113</td> <td>   -4.434</td> <td> 0.000</td> <td>   -0.722</td> <td>   -0.279</td>\n",
       "</tr>\n",
       "<tr>\n",
       "  <th>last_s</th>          <td>   -0.0996</td> <td>    0.089</td> <td>   -1.122</td> <td> 0.262</td> <td>   -0.274</td> <td>    0.074</td>\n",
       "</tr>\n",
       "<tr>\n",
       "  <th>ahead</th>           <td>   -0.1414</td> <td>    0.059</td> <td>   -2.385</td> <td> 0.017</td> <td>   -0.258</td> <td>   -0.025</td>\n",
       "</tr>\n",
       "<tr>\n",
       "  <th>last_contact</th>    <td>   -0.1646</td> <td>    0.062</td> <td>   -2.634</td> <td> 0.008</td> <td>   -0.287</td> <td>   -0.042</td>\n",
       "</tr>\n",
       "<tr>\n",
       "  <th>last_pa_homerun</th> <td>   -0.3176</td> <td>    0.133</td> <td>   -2.393</td> <td> 0.017</td> <td>   -0.578</td> <td>   -0.057</td>\n",
       "</tr>\n",
       "<tr>\n",
       "  <th>last_pa_bb</th>      <td>    0.0237</td> <td>    0.096</td> <td>    0.246</td> <td> 0.805</td> <td>   -0.165</td> <td>    0.212</td>\n",
       "</tr>\n",
       "<tr>\n",
       "  <th>last_pa_dp</th>      <td>   -0.0665</td> <td>    0.142</td> <td>   -0.470</td> <td> 0.639</td> <td>   -0.344</td> <td>    0.211</td>\n",
       "</tr>\n",
       "<tr>\n",
       "  <th>last_pa_out</th>     <td>   -0.0569</td> <td>    0.063</td> <td>   -0.901</td> <td> 0.368</td> <td>   -0.181</td> <td>    0.067</td>\n",
       "</tr>\n",
       "</table>"
      ],
      "text/plain": [
       "<class 'statsmodels.iolib.summary.Summary'>\n",
       "\"\"\"\n",
       "                           Logit Regression Results                           \n",
       "==============================================================================\n",
       "Dep. Variable:               fastball   No. Observations:                11212\n",
       "Model:                          Logit   Df Residuals:                    11187\n",
       "Method:                           MLE   Df Model:                           24\n",
       "Date:                Fri, 22 Oct 2021   Pseudo R-squ.:                 0.04000\n",
       "Time:                        19:18:18   Log-Likelihood:                -7296.4\n",
       "converged:                       True   LL-Null:                       -7600.4\n",
       "Covariance Type:            nonrobust   LLR p-value:                4.770e-113\n",
       "===================================================================================\n",
       "                      coef    std err          z      P>|z|      [0.025      0.975]\n",
       "-----------------------------------------------------------------------------------\n",
       "const               1.3325      0.187      7.121      0.000       0.966       1.699\n",
       "pitch_num          -0.0990      0.044     -2.252      0.024      -0.185      -0.013\n",
       "on_2b              -0.2194      0.066     -3.328      0.001      -0.349      -0.090\n",
       "on_3b              -0.1490      0.088     -1.702      0.089      -0.321       0.023\n",
       "inning             -0.0503      0.018     -2.799      0.005      -0.086      -0.015\n",
       "left_batter         0.4671      0.040     11.695      0.000       0.389       0.545\n",
       "after_4_inning     -0.1367      0.075     -1.827      0.068      -0.283       0.010\n",
       "day_game            0.0794      0.042      1.890      0.059      -0.003       0.162\n",
       "b_1                 0.3327      0.078      4.259      0.000       0.180       0.486\n",
       "b_2                 0.7713      0.125      6.193      0.000       0.527       1.015\n",
       "b_3                 1.4703      0.190      7.730      0.000       1.098       1.843\n",
       "s_1                -0.0188      0.072     -0.260      0.795      -0.160       0.123\n",
       "s_2                -0.4857      0.116     -4.196      0.000      -0.713      -0.259\n",
       "o_1                 0.0289      0.042      0.692      0.489      -0.053       0.111\n",
       "diff                0.0238      0.012      2.044      0.041       0.001       0.047\n",
       "tempature          -0.0032      0.002     -1.648      0.099      -0.007       0.001\n",
       "last_fastball      -0.3164      0.041     -7.680      0.000      -0.397      -0.236\n",
       "last_b             -0.5004      0.113     -4.434      0.000      -0.722      -0.279\n",
       "last_s             -0.0996      0.089     -1.122      0.262      -0.274       0.074\n",
       "ahead              -0.1414      0.059     -2.385      0.017      -0.258      -0.025\n",
       "last_contact       -0.1646      0.062     -2.634      0.008      -0.287      -0.042\n",
       "last_pa_homerun    -0.3176      0.133     -2.393      0.017      -0.578      -0.057\n",
       "last_pa_bb          0.0237      0.096      0.246      0.805      -0.165       0.212\n",
       "last_pa_dp         -0.0665      0.142     -0.470      0.639      -0.344       0.211\n",
       "last_pa_out        -0.0569      0.063     -0.901      0.368      -0.181       0.067\n",
       "===================================================================================\n",
       "\"\"\""
      ]
     },
     "execution_count": 667,
     "metadata": {},
     "output_type": "execute_result"
    }
   ],
   "source": [
    "logreg = sm.Logit(y, sm.add_constant(X))\n",
    "logreg = logreg.fit()\n",
    "logreg.summary()"
   ]
  },
  {
   "cell_type": "code",
   "execution_count": 668,
   "id": "016d597b",
   "metadata": {},
   "outputs": [
    {
     "name": "stdout",
     "output_type": "stream",
     "text": [
      "[0.61456103 0.60224839 0.61295503 0.5872591  0.62687366]\n"
     ]
    },
    {
     "data": {
      "text/plain": [
       "0.6087794432548179"
      ]
     },
     "execution_count": 668,
     "metadata": {},
     "output_type": "execute_result"
    }
   ],
   "source": [
    "cv_score = cross_val_score(log_reg, X, y,cv=tscv, scoring='accuracy')\n",
    "print(cv_score)\n",
    "cv_score.mean()"
   ]
  },
  {
   "cell_type": "code",
   "execution_count": 444,
   "id": "c3b75446",
   "metadata": {},
   "outputs": [],
   "source": [
    "X = df_train[['b_count', 's_2', 'on_2b', 'on_3b', 'inning', 'left_batter',\n",
    "       'day_game', 'ahead', 'behind', 'tempature','last_fastball','last_b','last_s', \n",
    "       'last_pa_homerun', 'last_pa_double_triple', 'last_pa_bb','last_pa_out']]\n",
    "y = df_train['fastball']"
   ]
  },
  {
   "cell_type": "code",
   "execution_count": 445,
   "id": "97c116ac",
   "metadata": {
    "scrolled": true
   },
   "outputs": [
    {
     "data": {
      "text/plain": [
       "0.6167499108098466"
      ]
     },
     "execution_count": 445,
     "metadata": {},
     "output_type": "execute_result"
    }
   ],
   "source": [
    "log_reg = LogisticRegression()\n",
    "log_reg.fit(X,y)\n",
    "log_reg.score(X,y)"
   ]
  },
  {
   "cell_type": "code",
   "execution_count": 446,
   "id": "1ae41bde",
   "metadata": {},
   "outputs": [
    {
     "name": "stdout",
     "output_type": "stream",
     "text": [
      "Optimization terminated successfully.\n",
      "         Current function value: 0.652547\n",
      "         Iterations 5\n"
     ]
    },
    {
     "data": {
      "text/html": [
       "<table class=\"simpletable\">\n",
       "<caption>Logit Regression Results</caption>\n",
       "<tr>\n",
       "  <th>Dep. Variable:</th>       <td>fastball</td>     <th>  No. Observations:  </th>   <td> 11212</td>  \n",
       "</tr>\n",
       "<tr>\n",
       "  <th>Model:</th>                 <td>Logit</td>      <th>  Df Residuals:      </th>   <td> 11194</td>  \n",
       "</tr>\n",
       "<tr>\n",
       "  <th>Method:</th>                 <td>MLE</td>       <th>  Df Model:          </th>   <td>    17</td>  \n",
       "</tr>\n",
       "<tr>\n",
       "  <th>Date:</th>            <td>Fri, 22 Oct 2021</td> <th>  Pseudo R-squ.:     </th>   <td>0.03737</td> \n",
       "</tr>\n",
       "<tr>\n",
       "  <th>Time:</th>                <td>15:17:24</td>     <th>  Log-Likelihood:    </th>  <td> -7316.4</td> \n",
       "</tr>\n",
       "<tr>\n",
       "  <th>converged:</th>             <td>True</td>       <th>  LL-Null:           </th>  <td> -7600.4</td> \n",
       "</tr>\n",
       "<tr>\n",
       "  <th>Covariance Type:</th>     <td>nonrobust</td>    <th>  LLR p-value:       </th> <td>7.913e-110</td>\n",
       "</tr>\n",
       "</table>\n",
       "<table class=\"simpletable\">\n",
       "<tr>\n",
       "            <td></td>               <th>coef</th>     <th>std err</th>      <th>z</th>      <th>P>|z|</th>  <th>[0.025</th>    <th>0.975]</th>  \n",
       "</tr>\n",
       "<tr>\n",
       "  <th>const</th>                 <td>    1.0989</td> <td>    0.176</td> <td>    6.235</td> <td> 0.000</td> <td>    0.753</td> <td>    1.444</td>\n",
       "</tr>\n",
       "<tr>\n",
       "  <th>b_count</th>               <td>    0.3106</td> <td>    0.029</td> <td>   10.871</td> <td> 0.000</td> <td>    0.255</td> <td>    0.367</td>\n",
       "</tr>\n",
       "<tr>\n",
       "  <th>s_2</th>                   <td>   -0.6899</td> <td>    0.048</td> <td>  -14.420</td> <td> 0.000</td> <td>   -0.784</td> <td>   -0.596</td>\n",
       "</tr>\n",
       "<tr>\n",
       "  <th>on_2b</th>                 <td>   -0.2279</td> <td>    0.071</td> <td>   -3.200</td> <td> 0.001</td> <td>   -0.367</td> <td>   -0.088</td>\n",
       "</tr>\n",
       "<tr>\n",
       "  <th>on_3b</th>                 <td>   -0.1551</td> <td>    0.088</td> <td>   -1.771</td> <td> 0.077</td> <td>   -0.327</td> <td>    0.017</td>\n",
       "</tr>\n",
       "<tr>\n",
       "  <th>inning</th>                <td>   -0.0749</td> <td>    0.010</td> <td>   -7.238</td> <td> 0.000</td> <td>   -0.095</td> <td>   -0.055</td>\n",
       "</tr>\n",
       "<tr>\n",
       "  <th>left_batter</th>           <td>    0.4587</td> <td>    0.040</td> <td>   11.519</td> <td> 0.000</td> <td>    0.381</td> <td>    0.537</td>\n",
       "</tr>\n",
       "<tr>\n",
       "  <th>day_game</th>              <td>    0.0733</td> <td>    0.042</td> <td>    1.747</td> <td> 0.081</td> <td>   -0.009</td> <td>    0.156</td>\n",
       "</tr>\n",
       "<tr>\n",
       "  <th>ahead</th>                 <td>   -0.0895</td> <td>    0.050</td> <td>   -1.785</td> <td> 0.074</td> <td>   -0.188</td> <td>    0.009</td>\n",
       "</tr>\n",
       "<tr>\n",
       "  <th>behind</th>                <td>   -0.0657</td> <td>    0.057</td> <td>   -1.147</td> <td> 0.251</td> <td>   -0.178</td> <td>    0.047</td>\n",
       "</tr>\n",
       "<tr>\n",
       "  <th>tempature</th>             <td>   -0.0031</td> <td>    0.002</td> <td>   -1.611</td> <td> 0.107</td> <td>   -0.007</td> <td>    0.001</td>\n",
       "</tr>\n",
       "<tr>\n",
       "  <th>last_fastball</th>         <td>   -0.3278</td> <td>    0.041</td> <td>   -8.062</td> <td> 0.000</td> <td>   -0.407</td> <td>   -0.248</td>\n",
       "</tr>\n",
       "<tr>\n",
       "  <th>last_b</th>                <td>   -0.4097</td> <td>    0.074</td> <td>   -5.560</td> <td> 0.000</td> <td>   -0.554</td> <td>   -0.265</td>\n",
       "</tr>\n",
       "<tr>\n",
       "  <th>last_s</th>                <td>   -0.0833</td> <td>    0.062</td> <td>   -1.349</td> <td> 0.177</td> <td>   -0.204</td> <td>    0.038</td>\n",
       "</tr>\n",
       "<tr>\n",
       "  <th>last_pa_homerun</th>       <td>   -0.3011</td> <td>    0.135</td> <td>   -2.231</td> <td> 0.026</td> <td>   -0.566</td> <td>   -0.037</td>\n",
       "</tr>\n",
       "<tr>\n",
       "  <th>last_pa_double_triple</th> <td>    0.0404</td> <td>    0.117</td> <td>    0.347</td> <td> 0.729</td> <td>   -0.188</td> <td>    0.269</td>\n",
       "</tr>\n",
       "<tr>\n",
       "  <th>last_pa_bb</th>            <td>    0.0533</td> <td>    0.101</td> <td>    0.528</td> <td> 0.597</td> <td>   -0.144</td> <td>    0.251</td>\n",
       "</tr>\n",
       "<tr>\n",
       "  <th>last_pa_out</th>           <td>   -0.0344</td> <td>    0.068</td> <td>   -0.509</td> <td> 0.611</td> <td>   -0.167</td> <td>    0.098</td>\n",
       "</tr>\n",
       "</table>"
      ],
      "text/plain": [
       "<class 'statsmodels.iolib.summary.Summary'>\n",
       "\"\"\"\n",
       "                           Logit Regression Results                           \n",
       "==============================================================================\n",
       "Dep. Variable:               fastball   No. Observations:                11212\n",
       "Model:                          Logit   Df Residuals:                    11194\n",
       "Method:                           MLE   Df Model:                           17\n",
       "Date:                Fri, 22 Oct 2021   Pseudo R-squ.:                 0.03737\n",
       "Time:                        15:17:24   Log-Likelihood:                -7316.4\n",
       "converged:                       True   LL-Null:                       -7600.4\n",
       "Covariance Type:            nonrobust   LLR p-value:                7.913e-110\n",
       "=========================================================================================\n",
       "                            coef    std err          z      P>|z|      [0.025      0.975]\n",
       "-----------------------------------------------------------------------------------------\n",
       "const                     1.0989      0.176      6.235      0.000       0.753       1.444\n",
       "b_count                   0.3106      0.029     10.871      0.000       0.255       0.367\n",
       "s_2                      -0.6899      0.048    -14.420      0.000      -0.784      -0.596\n",
       "on_2b                    -0.2279      0.071     -3.200      0.001      -0.367      -0.088\n",
       "on_3b                    -0.1551      0.088     -1.771      0.077      -0.327       0.017\n",
       "inning                   -0.0749      0.010     -7.238      0.000      -0.095      -0.055\n",
       "left_batter               0.4587      0.040     11.519      0.000       0.381       0.537\n",
       "day_game                  0.0733      0.042      1.747      0.081      -0.009       0.156\n",
       "ahead                    -0.0895      0.050     -1.785      0.074      -0.188       0.009\n",
       "behind                   -0.0657      0.057     -1.147      0.251      -0.178       0.047\n",
       "tempature                -0.0031      0.002     -1.611      0.107      -0.007       0.001\n",
       "last_fastball            -0.3278      0.041     -8.062      0.000      -0.407      -0.248\n",
       "last_b                   -0.4097      0.074     -5.560      0.000      -0.554      -0.265\n",
       "last_s                   -0.0833      0.062     -1.349      0.177      -0.204       0.038\n",
       "last_pa_homerun          -0.3011      0.135     -2.231      0.026      -0.566      -0.037\n",
       "last_pa_double_triple     0.0404      0.117      0.347      0.729      -0.188       0.269\n",
       "last_pa_bb                0.0533      0.101      0.528      0.597      -0.144       0.251\n",
       "last_pa_out              -0.0344      0.068     -0.509      0.611      -0.167       0.098\n",
       "=========================================================================================\n",
       "\"\"\""
      ]
     },
     "execution_count": 446,
     "metadata": {},
     "output_type": "execute_result"
    }
   ],
   "source": [
    "logreg = sm.Logit(y, sm.add_constant(X))\n",
    "logreg = logreg.fit()\n",
    "logreg.summary()"
   ]
  },
  {
   "cell_type": "code",
   "execution_count": 447,
   "id": "8ca8e3ae",
   "metadata": {},
   "outputs": [
    {
     "name": "stdout",
     "output_type": "stream",
     "text": [
      "[0.60653105 0.60224839 0.60974304 0.58029979 0.62794433]\n"
     ]
    },
    {
     "data": {
      "text/plain": [
       "0.6053533190578159"
      ]
     },
     "execution_count": 447,
     "metadata": {},
     "output_type": "execute_result"
    }
   ],
   "source": [
    "cv_score = cross_val_score(log_reg, X, y,cv=tscv, scoring='accuracy')\n",
    "print(cv_score)\n",
    "cv_score.mean()"
   ]
  },
  {
   "cell_type": "code",
   "execution_count": 123,
   "id": "dcdc998b",
   "metadata": {},
   "outputs": [
    {
     "data": {
      "text/plain": [
       "0.615947199429183"
      ]
     },
     "execution_count": 123,
     "metadata": {},
     "output_type": "execute_result"
    }
   ],
   "source": [
    "X = df_train[['b_count', 's_2', 'on_2b', 'on_3b', 'inning', 'left_batter',\n",
    "       'day_game', 'ahead', 'behind', 'tempature','last_fastball','last_b','last_s', 'last_pa_homerun']]\n",
    "y = df_train['fastball']\n",
    "\n",
    "log_reg = LogisticRegression()\n",
    "log_reg.fit(X,y)\n",
    "log_reg.score(X,y)"
   ]
  },
  {
   "cell_type": "code",
   "execution_count": 124,
   "id": "220029dd",
   "metadata": {},
   "outputs": [
    {
     "name": "stdout",
     "output_type": "stream",
     "text": [
      "Optimization terminated successfully.\n",
      "         Current function value: 0.652610\n",
      "         Iterations 5\n"
     ]
    },
    {
     "data": {
      "text/html": [
       "<table class=\"simpletable\">\n",
       "<caption>Logit Regression Results</caption>\n",
       "<tr>\n",
       "  <th>Dep. Variable:</th>       <td>fastball</td>     <th>  No. Observations:  </th>   <td> 11212</td>  \n",
       "</tr>\n",
       "<tr>\n",
       "  <th>Model:</th>                 <td>Logit</td>      <th>  Df Residuals:      </th>   <td> 11197</td>  \n",
       "</tr>\n",
       "<tr>\n",
       "  <th>Method:</th>                 <td>MLE</td>       <th>  Df Model:          </th>   <td>    14</td>  \n",
       "</tr>\n",
       "<tr>\n",
       "  <th>Date:</th>            <td>Thu, 21 Oct 2021</td> <th>  Pseudo R-squ.:     </th>   <td>0.03728</td> \n",
       "</tr>\n",
       "<tr>\n",
       "  <th>Time:</th>                <td>22:29:08</td>     <th>  Log-Likelihood:    </th>  <td> -7317.1</td> \n",
       "</tr>\n",
       "<tr>\n",
       "  <th>converged:</th>             <td>True</td>       <th>  LL-Null:           </th>  <td> -7600.4</td> \n",
       "</tr>\n",
       "<tr>\n",
       "  <th>Covariance Type:</th>     <td>nonrobust</td>    <th>  LLR p-value:       </th> <td>6.364e-112</td>\n",
       "</tr>\n",
       "</table>\n",
       "<table class=\"simpletable\">\n",
       "<tr>\n",
       "         <td></td>            <th>coef</th>     <th>std err</th>      <th>z</th>      <th>P>|z|</th>  <th>[0.025</th>    <th>0.975]</th>  \n",
       "</tr>\n",
       "<tr>\n",
       "  <th>const</th>           <td>    1.0726</td> <td>    0.166</td> <td>    6.478</td> <td> 0.000</td> <td>    0.748</td> <td>    1.397</td>\n",
       "</tr>\n",
       "<tr>\n",
       "  <th>b_count</th>         <td>    0.3085</td> <td>    0.028</td> <td>   10.851</td> <td> 0.000</td> <td>    0.253</td> <td>    0.364</td>\n",
       "</tr>\n",
       "<tr>\n",
       "  <th>s_2</th>             <td>   -0.6882</td> <td>    0.048</td> <td>  -14.397</td> <td> 0.000</td> <td>   -0.782</td> <td>   -0.594</td>\n",
       "</tr>\n",
       "<tr>\n",
       "  <th>on_2b</th>           <td>   -0.1925</td> <td>    0.059</td> <td>   -3.242</td> <td> 0.001</td> <td>   -0.309</td> <td>   -0.076</td>\n",
       "</tr>\n",
       "<tr>\n",
       "  <th>on_3b</th>           <td>   -0.1397</td> <td>    0.086</td> <td>   -1.630</td> <td> 0.103</td> <td>   -0.308</td> <td>    0.028</td>\n",
       "</tr>\n",
       "<tr>\n",
       "  <th>inning</th>          <td>   -0.0748</td> <td>    0.010</td> <td>   -7.237</td> <td> 0.000</td> <td>   -0.095</td> <td>   -0.055</td>\n",
       "</tr>\n",
       "<tr>\n",
       "  <th>left_batter</th>     <td>    0.4556</td> <td>    0.040</td> <td>   11.473</td> <td> 0.000</td> <td>    0.378</td> <td>    0.533</td>\n",
       "</tr>\n",
       "<tr>\n",
       "  <th>day_game</th>        <td>    0.0731</td> <td>    0.042</td> <td>    1.743</td> <td> 0.081</td> <td>   -0.009</td> <td>    0.155</td>\n",
       "</tr>\n",
       "<tr>\n",
       "  <th>ahead</th>           <td>   -0.0919</td> <td>    0.050</td> <td>   -1.834</td> <td> 0.067</td> <td>   -0.190</td> <td>    0.006</td>\n",
       "</tr>\n",
       "<tr>\n",
       "  <th>behind</th>          <td>   -0.0650</td> <td>    0.057</td> <td>   -1.134</td> <td> 0.257</td> <td>   -0.177</td> <td>    0.047</td>\n",
       "</tr>\n",
       "<tr>\n",
       "  <th>tempature</th>       <td>   -0.0031</td> <td>    0.002</td> <td>   -1.610</td> <td> 0.108</td> <td>   -0.007</td> <td>    0.001</td>\n",
       "</tr>\n",
       "<tr>\n",
       "  <th>last_fastball</th>   <td>   -0.3268</td> <td>    0.041</td> <td>   -8.041</td> <td> 0.000</td> <td>   -0.407</td> <td>   -0.247</td>\n",
       "</tr>\n",
       "<tr>\n",
       "  <th>last_b</th>          <td>   -0.4031</td> <td>    0.072</td> <td>   -5.582</td> <td> 0.000</td> <td>   -0.545</td> <td>   -0.262</td>\n",
       "</tr>\n",
       "<tr>\n",
       "  <th>last_s</th>          <td>   -0.0831</td> <td>    0.061</td> <td>   -1.364</td> <td> 0.173</td> <td>   -0.203</td> <td>    0.036</td>\n",
       "</tr>\n",
       "<tr>\n",
       "  <th>last_pa_homerun</th> <td>   -0.2752</td> <td>    0.121</td> <td>   -2.273</td> <td> 0.023</td> <td>   -0.512</td> <td>   -0.038</td>\n",
       "</tr>\n",
       "</table>"
      ],
      "text/plain": [
       "<class 'statsmodels.iolib.summary.Summary'>\n",
       "\"\"\"\n",
       "                           Logit Regression Results                           \n",
       "==============================================================================\n",
       "Dep. Variable:               fastball   No. Observations:                11212\n",
       "Model:                          Logit   Df Residuals:                    11197\n",
       "Method:                           MLE   Df Model:                           14\n",
       "Date:                Thu, 21 Oct 2021   Pseudo R-squ.:                 0.03728\n",
       "Time:                        22:29:08   Log-Likelihood:                -7317.1\n",
       "converged:                       True   LL-Null:                       -7600.4\n",
       "Covariance Type:            nonrobust   LLR p-value:                6.364e-112\n",
       "===================================================================================\n",
       "                      coef    std err          z      P>|z|      [0.025      0.975]\n",
       "-----------------------------------------------------------------------------------\n",
       "const               1.0726      0.166      6.478      0.000       0.748       1.397\n",
       "b_count             0.3085      0.028     10.851      0.000       0.253       0.364\n",
       "s_2                -0.6882      0.048    -14.397      0.000      -0.782      -0.594\n",
       "on_2b              -0.1925      0.059     -3.242      0.001      -0.309      -0.076\n",
       "on_3b              -0.1397      0.086     -1.630      0.103      -0.308       0.028\n",
       "inning             -0.0748      0.010     -7.237      0.000      -0.095      -0.055\n",
       "left_batter         0.4556      0.040     11.473      0.000       0.378       0.533\n",
       "day_game            0.0731      0.042      1.743      0.081      -0.009       0.155\n",
       "ahead              -0.0919      0.050     -1.834      0.067      -0.190       0.006\n",
       "behind             -0.0650      0.057     -1.134      0.257      -0.177       0.047\n",
       "tempature          -0.0031      0.002     -1.610      0.108      -0.007       0.001\n",
       "last_fastball      -0.3268      0.041     -8.041      0.000      -0.407      -0.247\n",
       "last_b             -0.4031      0.072     -5.582      0.000      -0.545      -0.262\n",
       "last_s             -0.0831      0.061     -1.364      0.173      -0.203       0.036\n",
       "last_pa_homerun    -0.2752      0.121     -2.273      0.023      -0.512      -0.038\n",
       "===================================================================================\n",
       "\"\"\""
      ]
     },
     "execution_count": 124,
     "metadata": {},
     "output_type": "execute_result"
    }
   ],
   "source": [
    "logreg = sm.Logit(y, sm.add_constant(X))\n",
    "logreg = logreg.fit()\n",
    "logreg.summary()"
   ]
  },
  {
   "cell_type": "code",
   "execution_count": 125,
   "id": "e98c65ea",
   "metadata": {},
   "outputs": [
    {
     "name": "stdout",
     "output_type": "stream",
     "text": [
      "[0.60492505 0.60171306 0.60920771 0.57976445 0.62955032]\n"
     ]
    },
    {
     "data": {
      "text/plain": [
       "0.6050321199143469"
      ]
     },
     "execution_count": 125,
     "metadata": {},
     "output_type": "execute_result"
    }
   ],
   "source": [
    "cv_score = cross_val_score(log_reg, X, y,cv=tscv, scoring='accuracy')\n",
    "print(cv_score)\n",
    "cv_score.mean()"
   ]
  },
  {
   "cell_type": "code",
   "execution_count": 643,
   "id": "8cdcbaa6",
   "metadata": {},
   "outputs": [
    {
     "data": {
      "text/plain": [
       "0.6198715661790938"
      ]
     },
     "execution_count": 643,
     "metadata": {},
     "output_type": "execute_result"
    }
   ],
   "source": [
    "X = df_train[['left_batter','top', 'day_game', 'b_1', 'b_2', 'b_3',\n",
    "              's_1', 's_2', 'o_1', 'o_2', 'after_4_inning', 'ahead','behind', 'more_than_70',\n",
    "              'last_fastball', 'last_b', 'last_s','last_inplay', 'last_contact', \n",
    "              'last_pa_homerun', 'last_pa_double_triple', 'last_pa_so', 'last_pa_bb','last_pa_dp', 'last_pa_out']]\n",
    "y = df_train['fastball']\n",
    "\n",
    "log_reg = LogisticRegression()\n",
    "log_reg.fit(X,y)\n",
    "log_reg.score(X,y)"
   ]
  },
  {
   "cell_type": "code",
   "execution_count": 644,
   "id": "264f1bce",
   "metadata": {},
   "outputs": [
    {
     "name": "stdout",
     "output_type": "stream",
     "text": [
      "Optimization terminated successfully.\n",
      "         Current function value: 0.651932\n",
      "         Iterations 5\n"
     ]
    },
    {
     "data": {
      "text/html": [
       "<table class=\"simpletable\">\n",
       "<caption>Logit Regression Results</caption>\n",
       "<tr>\n",
       "  <th>Dep. Variable:</th>       <td>fastball</td>     <th>  No. Observations:  </th>   <td> 11212</td>  \n",
       "</tr>\n",
       "<tr>\n",
       "  <th>Model:</th>                 <td>Logit</td>      <th>  Df Residuals:      </th>   <td> 11187</td>  \n",
       "</tr>\n",
       "<tr>\n",
       "  <th>Method:</th>                 <td>MLE</td>       <th>  Df Model:          </th>   <td>    24</td>  \n",
       "</tr>\n",
       "<tr>\n",
       "  <th>Date:</th>            <td>Fri, 22 Oct 2021</td> <th>  Pseudo R-squ.:     </th>   <td>0.03828</td> \n",
       "</tr>\n",
       "<tr>\n",
       "  <th>Time:</th>                <td>19:16:31</td>     <th>  Log-Likelihood:    </th>  <td> -7309.5</td> \n",
       "</tr>\n",
       "<tr>\n",
       "  <th>converged:</th>             <td>True</td>       <th>  LL-Null:           </th>  <td> -7600.4</td> \n",
       "</tr>\n",
       "<tr>\n",
       "  <th>Covariance Type:</th>     <td>nonrobust</td>    <th>  LLR p-value:       </th> <td>1.419e-107</td>\n",
       "</tr>\n",
       "</table>\n",
       "<table class=\"simpletable\">\n",
       "<tr>\n",
       "            <td></td>               <th>coef</th>     <th>std err</th>      <th>z</th>      <th>P>|z|</th>  <th>[0.025</th>    <th>0.975]</th>  \n",
       "</tr>\n",
       "<tr>\n",
       "  <th>const</th>                 <td>    0.5294</td> <td> 2.39e+06</td> <td> 2.21e-07</td> <td> 1.000</td> <td>-4.68e+06</td> <td> 4.68e+06</td>\n",
       "</tr>\n",
       "<tr>\n",
       "  <th>left_batter</th>           <td>    0.4665</td> <td>    0.040</td> <td>   11.675</td> <td> 0.000</td> <td>    0.388</td> <td>    0.545</td>\n",
       "</tr>\n",
       "<tr>\n",
       "  <th>top</th>                   <td>    0.0087</td> <td>    0.042</td> <td>    0.208</td> <td> 0.835</td> <td>   -0.074</td> <td>    0.091</td>\n",
       "</tr>\n",
       "<tr>\n",
       "  <th>day_game</th>              <td>    0.0854</td> <td>    0.042</td> <td>    2.029</td> <td> 0.042</td> <td>    0.003</td> <td>    0.168</td>\n",
       "</tr>\n",
       "<tr>\n",
       "  <th>b_1</th>                   <td>    0.2271</td> <td>    0.061</td> <td>    3.739</td> <td> 0.000</td> <td>    0.108</td> <td>    0.346</td>\n",
       "</tr>\n",
       "<tr>\n",
       "  <th>b_2</th>                   <td>    0.5529</td> <td>    0.073</td> <td>    7.527</td> <td> 0.000</td> <td>    0.409</td> <td>    0.697</td>\n",
       "</tr>\n",
       "<tr>\n",
       "  <th>b_3</th>                   <td>    1.1329</td> <td>    0.103</td> <td>   10.974</td> <td> 0.000</td> <td>    0.931</td> <td>    1.335</td>\n",
       "</tr>\n",
       "<tr>\n",
       "  <th>s_1</th>                   <td>   -0.1167</td> <td>    0.060</td> <td>   -1.929</td> <td> 0.054</td> <td>   -0.235</td> <td>    0.002</td>\n",
       "</tr>\n",
       "<tr>\n",
       "  <th>s_2</th>                   <td>   -0.7144</td> <td>    0.065</td> <td>  -11.065</td> <td> 0.000</td> <td>   -0.841</td> <td>   -0.588</td>\n",
       "</tr>\n",
       "<tr>\n",
       "  <th>o_1</th>                   <td>    0.0141</td> <td>    0.049</td> <td>    0.290</td> <td> 0.772</td> <td>   -0.081</td> <td>    0.109</td>\n",
       "</tr>\n",
       "<tr>\n",
       "  <th>o_2</th>                   <td>   -0.0386</td> <td>    0.049</td> <td>   -0.786</td> <td> 0.432</td> <td>   -0.135</td> <td>    0.058</td>\n",
       "</tr>\n",
       "<tr>\n",
       "  <th>after_4_inning</th>        <td>   -0.2992</td> <td>    0.043</td> <td>   -6.898</td> <td> 0.000</td> <td>   -0.384</td> <td>   -0.214</td>\n",
       "</tr>\n",
       "<tr>\n",
       "  <th>ahead</th>                 <td>   -0.1013</td> <td>    0.050</td> <td>   -2.029</td> <td> 0.042</td> <td>   -0.199</td> <td>   -0.003</td>\n",
       "</tr>\n",
       "<tr>\n",
       "  <th>behind</th>                <td>   -0.0691</td> <td>    0.057</td> <td>   -1.203</td> <td> 0.229</td> <td>   -0.182</td> <td>    0.043</td>\n",
       "</tr>\n",
       "<tr>\n",
       "  <th>more_than_70</th>          <td>   -0.0750</td> <td>    0.046</td> <td>   -1.623</td> <td> 0.105</td> <td>   -0.166</td> <td>    0.016</td>\n",
       "</tr>\n",
       "<tr>\n",
       "  <th>last_fastball</th>         <td>   -0.3041</td> <td>    0.041</td> <td>   -7.406</td> <td> 0.000</td> <td>   -0.385</td> <td>   -0.224</td>\n",
       "</tr>\n",
       "<tr>\n",
       "  <th>last_b</th>                <td>   -0.1299</td> <td> 2.39e+06</td> <td>-5.43e-08</td> <td> 1.000</td> <td>-4.68e+06</td> <td> 4.68e+06</td>\n",
       "</tr>\n",
       "<tr>\n",
       "  <th>last_s</th>                <td>    0.2675</td> <td> 2.39e+06</td> <td> 1.12e-07</td> <td> 1.000</td> <td>-4.68e+06</td> <td> 4.68e+06</td>\n",
       "</tr>\n",
       "<tr>\n",
       "  <th>last_inplay</th>           <td>    0.3918</td> <td> 2.39e+06</td> <td> 1.64e-07</td> <td> 1.000</td> <td>-4.68e+06</td> <td> 4.68e+06</td>\n",
       "</tr>\n",
       "<tr>\n",
       "  <th>last_contact</th>          <td>   -0.2029</td> <td>    0.060</td> <td>   -3.388</td> <td> 0.001</td> <td>   -0.320</td> <td>   -0.086</td>\n",
       "</tr>\n",
       "<tr>\n",
       "  <th>last_pa_homerun</th>       <td>   -0.2350</td> <td>    0.133</td> <td>   -1.762</td> <td> 0.078</td> <td>   -0.496</td> <td>    0.026</td>\n",
       "</tr>\n",
       "<tr>\n",
       "  <th>last_pa_double_triple</th> <td>   -0.1236</td> <td>    0.108</td> <td>   -1.149</td> <td> 0.251</td> <td>   -0.335</td> <td>    0.087</td>\n",
       "</tr>\n",
       "<tr>\n",
       "  <th>last_pa_so</th>            <td>   -0.0253</td> <td>    0.049</td> <td>   -0.519</td> <td> 0.604</td> <td>   -0.121</td> <td>    0.070</td>\n",
       "</tr>\n",
       "<tr>\n",
       "  <th>last_pa_bb</th>            <td>    0.0258</td> <td>    0.101</td> <td>    0.255</td> <td> 0.799</td> <td>   -0.173</td> <td>    0.224</td>\n",
       "</tr>\n",
       "<tr>\n",
       "  <th>last_pa_dp</th>            <td>   -0.0627</td> <td>    0.143</td> <td>   -0.438</td> <td> 0.661</td> <td>   -0.343</td> <td>    0.218</td>\n",
       "</tr>\n",
       "<tr>\n",
       "  <th>last_pa_out</th>           <td>    0.0142</td> <td>    0.068</td> <td>    0.209</td> <td> 0.834</td> <td>   -0.119</td> <td>    0.148</td>\n",
       "</tr>\n",
       "</table>"
      ],
      "text/plain": [
       "<class 'statsmodels.iolib.summary.Summary'>\n",
       "\"\"\"\n",
       "                           Logit Regression Results                           \n",
       "==============================================================================\n",
       "Dep. Variable:               fastball   No. Observations:                11212\n",
       "Model:                          Logit   Df Residuals:                    11187\n",
       "Method:                           MLE   Df Model:                           24\n",
       "Date:                Fri, 22 Oct 2021   Pseudo R-squ.:                 0.03828\n",
       "Time:                        19:16:31   Log-Likelihood:                -7309.5\n",
       "converged:                       True   LL-Null:                       -7600.4\n",
       "Covariance Type:            nonrobust   LLR p-value:                1.419e-107\n",
       "=========================================================================================\n",
       "                            coef    std err          z      P>|z|      [0.025      0.975]\n",
       "-----------------------------------------------------------------------------------------\n",
       "const                     0.5294   2.39e+06   2.21e-07      1.000   -4.68e+06    4.68e+06\n",
       "left_batter               0.4665      0.040     11.675      0.000       0.388       0.545\n",
       "top                       0.0087      0.042      0.208      0.835      -0.074       0.091\n",
       "day_game                  0.0854      0.042      2.029      0.042       0.003       0.168\n",
       "b_1                       0.2271      0.061      3.739      0.000       0.108       0.346\n",
       "b_2                       0.5529      0.073      7.527      0.000       0.409       0.697\n",
       "b_3                       1.1329      0.103     10.974      0.000       0.931       1.335\n",
       "s_1                      -0.1167      0.060     -1.929      0.054      -0.235       0.002\n",
       "s_2                      -0.7144      0.065    -11.065      0.000      -0.841      -0.588\n",
       "o_1                       0.0141      0.049      0.290      0.772      -0.081       0.109\n",
       "o_2                      -0.0386      0.049     -0.786      0.432      -0.135       0.058\n",
       "after_4_inning           -0.2992      0.043     -6.898      0.000      -0.384      -0.214\n",
       "ahead                    -0.1013      0.050     -2.029      0.042      -0.199      -0.003\n",
       "behind                   -0.0691      0.057     -1.203      0.229      -0.182       0.043\n",
       "more_than_70             -0.0750      0.046     -1.623      0.105      -0.166       0.016\n",
       "last_fastball            -0.3041      0.041     -7.406      0.000      -0.385      -0.224\n",
       "last_b                   -0.1299   2.39e+06  -5.43e-08      1.000   -4.68e+06    4.68e+06\n",
       "last_s                    0.2675   2.39e+06   1.12e-07      1.000   -4.68e+06    4.68e+06\n",
       "last_inplay               0.3918   2.39e+06   1.64e-07      1.000   -4.68e+06    4.68e+06\n",
       "last_contact             -0.2029      0.060     -3.388      0.001      -0.320      -0.086\n",
       "last_pa_homerun          -0.2350      0.133     -1.762      0.078      -0.496       0.026\n",
       "last_pa_double_triple    -0.1236      0.108     -1.149      0.251      -0.335       0.087\n",
       "last_pa_so               -0.0253      0.049     -0.519      0.604      -0.121       0.070\n",
       "last_pa_bb                0.0258      0.101      0.255      0.799      -0.173       0.224\n",
       "last_pa_dp               -0.0627      0.143     -0.438      0.661      -0.343       0.218\n",
       "last_pa_out               0.0142      0.068      0.209      0.834      -0.119       0.148\n",
       "=========================================================================================\n",
       "\"\"\""
      ]
     },
     "execution_count": 644,
     "metadata": {},
     "output_type": "execute_result"
    }
   ],
   "source": [
    "logreg = sm.Logit(y, sm.add_constant(X))\n",
    "logreg = logreg.fit()\n",
    "logreg.summary()"
   ]
  },
  {
   "cell_type": "code",
   "execution_count": 645,
   "id": "ec6e7f34",
   "metadata": {
    "scrolled": true
   },
   "outputs": [
    {
     "name": "stdout",
     "output_type": "stream",
     "text": [
      "[0.61830835 0.60492505 0.61188437 0.58458244 0.62687366]\n"
     ]
    },
    {
     "data": {
      "text/plain": [
       "0.6093147751605995"
      ]
     },
     "execution_count": 645,
     "metadata": {},
     "output_type": "execute_result"
    }
   ],
   "source": [
    "cv_score = cross_val_score(log_reg, X, y,cv=tscv, scoring='accuracy')\n",
    "print(cv_score)\n",
    "cv_score.mean()"
   ]
  },
  {
   "cell_type": "markdown",
   "id": "f3750298",
   "metadata": {},
   "source": [
    "## best logistic regression features"
   ]
  },
  {
   "cell_type": "code",
   "execution_count": 1630,
   "id": "d8124a16",
   "metadata": {},
   "outputs": [
    {
     "data": {
      "text/plain": [
       "0.6185337138779878"
      ]
     },
     "execution_count": 1630,
     "metadata": {},
     "output_type": "execute_result"
    }
   ],
   "source": [
    "X = df_train[['left_batter', 'b_1', 'b_2', 'b_3', 'last_b','last_fastball','last_pa_out',\n",
    "              's_1', 's_2', 'after_4_inning', 'last_contact','day_game', 'last_pa_so','ahead',\n",
    "              'last_pa_long']]\n",
    "y = df_train['fastball']\n",
    "\n",
    "log_reg = LogisticRegression(penalty='none')\n",
    "log_reg.fit(X,y)\n",
    "log_reg.score(X,y)"
   ]
  },
  {
   "cell_type": "code",
   "execution_count": 1631,
   "id": "24e352e2",
   "metadata": {},
   "outputs": [
    {
     "name": "stdout",
     "output_type": "stream",
     "text": [
      "Optimization terminated successfully.\n",
      "         Current function value: 0.652297\n",
      "         Iterations 5\n"
     ]
    },
    {
     "data": {
      "text/html": [
       "<table class=\"simpletable\">\n",
       "<caption>Logit Regression Results</caption>\n",
       "<tr>\n",
       "  <th>Dep. Variable:</th>       <td>fastball</td>     <th>  No. Observations:  </th>   <td> 11212</td>  \n",
       "</tr>\n",
       "<tr>\n",
       "  <th>Model:</th>                 <td>Logit</td>      <th>  Df Residuals:      </th>   <td> 11196</td>  \n",
       "</tr>\n",
       "<tr>\n",
       "  <th>Method:</th>                 <td>MLE</td>       <th>  Df Model:          </th>   <td>    15</td>  \n",
       "</tr>\n",
       "<tr>\n",
       "  <th>Date:</th>            <td>Sun, 24 Oct 2021</td> <th>  Pseudo R-squ.:     </th>   <td>0.03774</td> \n",
       "</tr>\n",
       "<tr>\n",
       "  <th>Time:</th>                <td>22:22:29</td>     <th>  Log-Likelihood:    </th>  <td> -7313.6</td> \n",
       "</tr>\n",
       "<tr>\n",
       "  <th>converged:</th>             <td>True</td>       <th>  LL-Null:           </th>  <td> -7600.4</td> \n",
       "</tr>\n",
       "<tr>\n",
       "  <th>Covariance Type:</th>     <td>nonrobust</td>    <th>  LLR p-value:       </th> <td>1.335e-112</td>\n",
       "</tr>\n",
       "</table>\n",
       "<table class=\"simpletable\">\n",
       "<tr>\n",
       "         <td></td>           <th>coef</th>     <th>std err</th>      <th>z</th>      <th>P>|z|</th>  <th>[0.025</th>    <th>0.975]</th>  \n",
       "</tr>\n",
       "<tr>\n",
       "  <th>const</th>          <td>    0.7615</td> <td>    0.078</td> <td>    9.725</td> <td> 0.000</td> <td>    0.608</td> <td>    0.915</td>\n",
       "</tr>\n",
       "<tr>\n",
       "  <th>left_batter</th>    <td>    0.4668</td> <td>    0.040</td> <td>   11.718</td> <td> 0.000</td> <td>    0.389</td> <td>    0.545</td>\n",
       "</tr>\n",
       "<tr>\n",
       "  <th>b_1</th>            <td>    0.2067</td> <td>    0.059</td> <td>    3.497</td> <td> 0.000</td> <td>    0.091</td> <td>    0.323</td>\n",
       "</tr>\n",
       "<tr>\n",
       "  <th>b_2</th>            <td>    0.5362</td> <td>    0.073</td> <td>    7.374</td> <td> 0.000</td> <td>    0.394</td> <td>    0.679</td>\n",
       "</tr>\n",
       "<tr>\n",
       "  <th>b_3</th>            <td>    1.1209</td> <td>    0.103</td> <td>   10.906</td> <td> 0.000</td> <td>    0.919</td> <td>    1.322</td>\n",
       "</tr>\n",
       "<tr>\n",
       "  <th>last_b</th>         <td>   -0.3913</td> <td>    0.065</td> <td>   -5.981</td> <td> 0.000</td> <td>   -0.520</td> <td>   -0.263</td>\n",
       "</tr>\n",
       "<tr>\n",
       "  <th>last_fastball</th>  <td>   -0.3060</td> <td>    0.041</td> <td>   -7.483</td> <td> 0.000</td> <td>   -0.386</td> <td>   -0.226</td>\n",
       "</tr>\n",
       "<tr>\n",
       "  <th>last_pa_out</th>    <td>    0.0121</td> <td>    0.057</td> <td>    0.213</td> <td> 0.831</td> <td>   -0.099</td> <td>    0.123</td>\n",
       "</tr>\n",
       "<tr>\n",
       "  <th>s_1</th>            <td>   -0.1552</td> <td>    0.053</td> <td>   -2.912</td> <td> 0.004</td> <td>   -0.260</td> <td>   -0.051</td>\n",
       "</tr>\n",
       "<tr>\n",
       "  <th>s_2</th>            <td>   -0.7593</td> <td>    0.055</td> <td>  -13.897</td> <td> 0.000</td> <td>   -0.866</td> <td>   -0.652</td>\n",
       "</tr>\n",
       "<tr>\n",
       "  <th>after_4_inning</th> <td>   -0.3118</td> <td>    0.043</td> <td>   -7.320</td> <td> 0.000</td> <td>   -0.395</td> <td>   -0.228</td>\n",
       "</tr>\n",
       "<tr>\n",
       "  <th>last_contact</th>   <td>   -0.1611</td> <td>    0.051</td> <td>   -3.143</td> <td> 0.002</td> <td>   -0.262</td> <td>   -0.061</td>\n",
       "</tr>\n",
       "<tr>\n",
       "  <th>day_game</th>       <td>    0.0779</td> <td>    0.042</td> <td>    1.859</td> <td> 0.063</td> <td>   -0.004</td> <td>    0.160</td>\n",
       "</tr>\n",
       "<tr>\n",
       "  <th>last_pa_so</th>     <td>   -0.0394</td> <td>    0.047</td> <td>   -0.842</td> <td> 0.400</td> <td>   -0.131</td> <td>    0.052</td>\n",
       "</tr>\n",
       "<tr>\n",
       "  <th>ahead</th>          <td>   -0.0607</td> <td>    0.042</td> <td>   -1.436</td> <td> 0.151</td> <td>   -0.144</td> <td>    0.022</td>\n",
       "</tr>\n",
       "<tr>\n",
       "  <th>last_pa_long</th>   <td>   -0.1712</td> <td>    0.086</td> <td>   -1.999</td> <td> 0.046</td> <td>   -0.339</td> <td>   -0.003</td>\n",
       "</tr>\n",
       "</table>"
      ],
      "text/plain": [
       "<class 'statsmodels.iolib.summary.Summary'>\n",
       "\"\"\"\n",
       "                           Logit Regression Results                           \n",
       "==============================================================================\n",
       "Dep. Variable:               fastball   No. Observations:                11212\n",
       "Model:                          Logit   Df Residuals:                    11196\n",
       "Method:                           MLE   Df Model:                           15\n",
       "Date:                Sun, 24 Oct 2021   Pseudo R-squ.:                 0.03774\n",
       "Time:                        22:22:29   Log-Likelihood:                -7313.6\n",
       "converged:                       True   LL-Null:                       -7600.4\n",
       "Covariance Type:            nonrobust   LLR p-value:                1.335e-112\n",
       "==================================================================================\n",
       "                     coef    std err          z      P>|z|      [0.025      0.975]\n",
       "----------------------------------------------------------------------------------\n",
       "const              0.7615      0.078      9.725      0.000       0.608       0.915\n",
       "left_batter        0.4668      0.040     11.718      0.000       0.389       0.545\n",
       "b_1                0.2067      0.059      3.497      0.000       0.091       0.323\n",
       "b_2                0.5362      0.073      7.374      0.000       0.394       0.679\n",
       "b_3                1.1209      0.103     10.906      0.000       0.919       1.322\n",
       "last_b            -0.3913      0.065     -5.981      0.000      -0.520      -0.263\n",
       "last_fastball     -0.3060      0.041     -7.483      0.000      -0.386      -0.226\n",
       "last_pa_out        0.0121      0.057      0.213      0.831      -0.099       0.123\n",
       "s_1               -0.1552      0.053     -2.912      0.004      -0.260      -0.051\n",
       "s_2               -0.7593      0.055    -13.897      0.000      -0.866      -0.652\n",
       "after_4_inning    -0.3118      0.043     -7.320      0.000      -0.395      -0.228\n",
       "last_contact      -0.1611      0.051     -3.143      0.002      -0.262      -0.061\n",
       "day_game           0.0779      0.042      1.859      0.063      -0.004       0.160\n",
       "last_pa_so        -0.0394      0.047     -0.842      0.400      -0.131       0.052\n",
       "ahead             -0.0607      0.042     -1.436      0.151      -0.144       0.022\n",
       "last_pa_long      -0.1712      0.086     -1.999      0.046      -0.339      -0.003\n",
       "==================================================================================\n",
       "\"\"\""
      ]
     },
     "execution_count": 1631,
     "metadata": {},
     "output_type": "execute_result"
    }
   ],
   "source": [
    "logreg = sm.Logit(y, sm.add_constant(X))\n",
    "logreg = logreg.fit()\n",
    "logreg.summary()"
   ]
  },
  {
   "cell_type": "code",
   "execution_count": 1632,
   "id": "651f50bd",
   "metadata": {},
   "outputs": [
    {
     "name": "stdout",
     "output_type": "stream",
     "text": [
      "[0.63008565 0.60224839 0.62205567 0.58672377 0.62740899]\n"
     ]
    },
    {
     "data": {
      "text/plain": [
       "0.6137044967880085"
      ]
     },
     "execution_count": 1632,
     "metadata": {},
     "output_type": "execute_result"
    }
   ],
   "source": [
    "cv_score = cross_val_score(log_reg, X, y,cv=tscv, scoring='accuracy')\n",
    "print(cv_score)\n",
    "cv_score.mean()"
   ]
  },
  {
   "cell_type": "code",
   "execution_count": 1633,
   "id": "d7a4261a",
   "metadata": {},
   "outputs": [
    {
     "data": {
      "text/plain": [
       "0.6179985729575455"
      ]
     },
     "execution_count": 1633,
     "metadata": {},
     "output_type": "execute_result"
    }
   ],
   "source": [
    "metrics.accuracy_score(y, log_reg.predict_proba(X)[:,1]>0.467)"
   ]
  },
  {
   "cell_type": "markdown",
   "id": "de9d3bc6",
   "metadata": {},
   "source": [
    "## Logistic - pitch type"
   ]
  },
  {
   "cell_type": "code",
   "execution_count": 1637,
   "id": "72efbd13",
   "metadata": {},
   "outputs": [
    {
     "data": {
      "text/plain": [
       "0.5416518016410988"
      ]
     },
     "execution_count": 1637,
     "metadata": {},
     "output_type": "execute_result"
    }
   ],
   "source": [
    "X = df_train[['b_count', 's_2', 'on_2b', 'on_3b', 'inning', 'left_batter',\n",
    "       'day_game', 'ahead', 'behind', 'tempature','last_fastball','last_b','last_s', 'last_pa_homerun']]\n",
    "y = df_train['pitch_type']\n",
    "\n",
    "log_reg = LogisticRegression()\n",
    "log_reg.fit(X,y)\n",
    "log_reg.score(X,y)"
   ]
  },
  {
   "cell_type": "code",
   "execution_count": 1638,
   "id": "a9f49772",
   "metadata": {},
   "outputs": [
    {
     "name": "stdout",
     "output_type": "stream",
     "text": [
      "[0.59207709 0.54443255 0.54978587 0.44057816 0.49089936]\n"
     ]
    },
    {
     "data": {
      "text/plain": [
       "0.5235546038543897"
      ]
     },
     "execution_count": 1638,
     "metadata": {},
     "output_type": "execute_result"
    }
   ],
   "source": [
    "cv_score = cross_val_score(log_reg, X, y,cv=tscv, scoring='accuracy')\n",
    "print(cv_score)\n",
    "cv_score.mean()"
   ]
  },
  {
   "cell_type": "markdown",
   "id": "4cf17865",
   "metadata": {},
   "source": [
    "## Logistic  - Lasso/Ridge"
   ]
  },
  {
   "cell_type": "code",
   "execution_count": 1485,
   "id": "68a21147",
   "metadata": {},
   "outputs": [
    {
     "data": {
      "text/plain": [
       "Index(['pitch_type', 'fastball', 'start_speed', 'zone', 'code', 'type',\n",
       "       'b_score', 'p_score', 'ab_id', 'pitch_num', 'b_count', 's_count',\n",
       "       'outs', 'on_1b', 'on_2b', 'on_3b', 'event', 'inning', 'left_batter',\n",
       "       'top', 'weather', 'start_time', 'year', 'day_game', 'b_0', 'b_1', 'b_2',\n",
       "       'b_3', 's_0', 's_1', 's_2', 'o_0', 'o_1', 'o_2', 'after_4_inning',\n",
       "       'after_5_inning', 'first2ball', 'abs_diff', 'diff', 'tie', 'ahead',\n",
       "       'behind', 'tempature', 'more_than_70', 'last_pitch_type',\n",
       "       'last_fastball', 'last_code', 'last_type', 'last_b', 'last_s',\n",
       "       'last_inplay', 'last_contact', 'last_pitch', 'last_pa', 'last_num',\n",
       "       'game_pitch', 'last_over_8', 'over_30_pitches', 'last_pa_homerun',\n",
       "       'last_pa_double_triple', 'last_pa_long', 'last_pa_so', 'last_pa_bb',\n",
       "       'last_pa_dp', 'last_pa_out'],\n",
       "      dtype='object')"
      ]
     },
     "execution_count": 1485,
     "metadata": {},
     "output_type": "execute_result"
    }
   ],
   "source": [
    "df_train.columns"
   ]
  },
  {
   "cell_type": "code",
   "execution_count": 1586,
   "id": "834a857c",
   "metadata": {},
   "outputs": [
    {
     "data": {
      "text/plain": [
       "0.6183553335711738"
      ]
     },
     "execution_count": 1586,
     "metadata": {},
     "output_type": "execute_result"
    }
   ],
   "source": [
    "X = df_train[['left_batter', 'b_1', 'b_2', 'b_3', 'last_b','last_fastball','last_pa_out',\n",
    "              's_1', 's_2', 'after_4_inning', 'last_contact','day_game', 'last_pa_so','ahead',\n",
    "              'last_pa_long']]\n",
    "y = df_train['fastball']\n",
    "scaler = StandardScaler()\n",
    "X_scaled = scaler.fit_transform(X)\n",
    "\n",
    "log_reg = LogisticRegression(C=0.1, penalty = 'l2', solver='liblinear')\n",
    "log_reg.fit(X_scaled,y)\n",
    "log_reg.score(X_scaled,y)"
   ]
  },
  {
   "cell_type": "code",
   "execution_count": 1587,
   "id": "4161c5c6",
   "metadata": {},
   "outputs": [
    {
     "data": {
      "text/plain": [
       "array([[ 0.23180441,  0.08967501,  0.18879508,  0.26632172, -0.17595823,\n",
       "        -0.14969818,  0.00567727, -0.06792551, -0.35429594, -0.15405525,\n",
       "        -0.07614607,  0.03647026, -0.01788301, -0.03034163, -0.04477225]])"
      ]
     },
     "execution_count": 1587,
     "metadata": {},
     "output_type": "execute_result"
    }
   ],
   "source": [
    "log_reg.coef_"
   ]
  },
  {
   "cell_type": "code",
   "execution_count": 1588,
   "id": "3412f059",
   "metadata": {},
   "outputs": [
    {
     "name": "stdout",
     "output_type": "stream",
     "text": [
      "[0.63276231 0.60331906 0.62312634 0.58618844 0.62687366]\n"
     ]
    },
    {
     "data": {
      "text/plain": [
       "0.6144539614561028"
      ]
     },
     "execution_count": 1588,
     "metadata": {},
     "output_type": "execute_result"
    }
   ],
   "source": [
    "cv_score = cross_val_score(log_reg, X_scaled, y,cv=tscv, scoring='accuracy')\n",
    "print(cv_score)\n",
    "cv_score.mean()"
   ]
  },
  {
   "cell_type": "code",
   "execution_count": 1612,
   "id": "af839961",
   "metadata": {},
   "outputs": [
    {
     "data": {
      "text/plain": [
       "0.6179093828041384"
      ]
     },
     "execution_count": 1612,
     "metadata": {},
     "output_type": "execute_result"
    }
   ],
   "source": [
    "metrics.accuracy_score(y, log_reg.predict_proba(X_scaled)[:,1]>0.467)\n",
    "#log_reg.score(np.array(log_reg.predict_proba(X_scaled)[:,1]>0.48).reshape(-1, 1),y)"
   ]
  },
  {
   "cell_type": "code",
   "execution_count": 1613,
   "id": "659cd9e0",
   "metadata": {},
   "outputs": [
    {
     "data": {
      "text/plain": [
       "(array([0.58713878, 0.58710195, 0.58718544, ..., 0.5       , 0.33333333,\n",
       "        1.        ]),\n",
       " array([1.00000000e+00, 9.99848094e-01, 9.99544281e-01, ...,\n",
       "        3.03812851e-04, 1.51906426e-04, 0.00000000e+00]),\n",
       " array([0.26430963, 0.26918814, 0.27630737, ..., 0.87514017, 0.87607835,\n",
       "        0.87657736]))"
      ]
     },
     "execution_count": 1613,
     "metadata": {},
     "output_type": "execute_result"
    }
   ],
   "source": [
    "metrics.precision_recall_curve(y, log_reg.predict_proba(X_scaled)[:,1])"
   ]
  },
  {
   "cell_type": "code",
   "execution_count": 1540,
   "id": "bc16482c",
   "metadata": {
    "scrolled": true
   },
   "outputs": [
    {
     "data": {
      "text/plain": [
       "GridSearchCV(cv=TimeSeriesSplit(gap=0, max_train_size=None, n_splits=5, test_size=None),\n",
       "             estimator=LogisticRegression(C=0.1, solver='liblinear'),\n",
       "             param_grid={'C': [0.001, 0.01, 0.1, 1, 10, 100, 1000, 10000],\n",
       "                         'penalty': ['l1', 'l2', 'none'],\n",
       "                         'solver': ['liblinear']},\n",
       "             scoring='accuracy')"
      ]
     },
     "execution_count": 1540,
     "metadata": {},
     "output_type": "execute_result"
    }
   ],
   "source": [
    "log_grid = GridSearchCV(log_reg, \n",
    "                        param_grid={'C':[0.001,0.01,0.1,1,10,100,1000,10000],'penalty': ['l1','l2','none'],\n",
    "                                    'solver': ['liblinear']}, cv=tscv, scoring='accuracy')\n",
    "log_grid.fit(X_scaled,y)"
   ]
  },
  {
   "cell_type": "code",
   "execution_count": 1541,
   "id": "ae896630",
   "metadata": {},
   "outputs": [
    {
     "name": "stdout",
     "output_type": "stream",
     "text": [
      "Best params:  {'C': 0.1, 'penalty': 'l2', 'solver': 'liblinear'}\n",
      "Best estimator:  LogisticRegression(C=0.1, solver='liblinear')\n",
      "Best score:  0.6144539614561028\n"
     ]
    }
   ],
   "source": [
    "print(\"Best params: \", log_grid.best_params_)\n",
    "print(\"Best estimator: \", log_grid.best_estimator_)\n",
    "print(\"Best score: \", log_grid.best_score_)"
   ]
  },
  {
   "cell_type": "markdown",
   "id": "34c11a1f",
   "metadata": {},
   "source": [
    "## KNN"
   ]
  },
  {
   "cell_type": "code",
   "execution_count": 981,
   "id": "2aa2e7ba",
   "metadata": {},
   "outputs": [],
   "source": [
    "#Standardize\n",
    "#['left_batter','day_game', 'b_1', 'b_2', 'b_3', 'last_b','last_fastball',\n",
    "#              's_1', 's_2', 'after_4_inning', 'last_contact', 'last_pa_so','ahead',\n",
    "#              'last_pa_long']]\n",
    "        \n",
    "X = df_train[['b_count', 's_2', 'on_2b', 'on_3b', 'inning', 'left_batter',\n",
    "       'day_game', 'ahead', 'behind', 'tempature','last_fastball','last_b','last_s', 'last_pa_homerun']]\n",
    "y = df_train['fastball']\n",
    "scaler = StandardScaler()\n",
    "X_scaled = scaler.fit_transform(X)"
   ]
  },
  {
   "cell_type": "code",
   "execution_count": 982,
   "id": "2687024d",
   "metadata": {},
   "outputs": [
    {
     "data": {
      "text/plain": [
       "array([[-0.84876287, -0.71316997, -0.38004206, ..., -0.67087823,\n",
       "        -1.07139755, -0.16665903],\n",
       "       [-0.84876287, -0.71316997, -0.38004206, ..., -0.67087823,\n",
       "         0.93336035, -0.16665903],\n",
       "       [-0.84876287,  1.40219027, -0.38004206, ..., -0.67087823,\n",
       "         0.93336035, -0.16665903],\n",
       "       ...,\n",
       "       [ 0.23670871,  1.40219027, -0.38004206, ..., -0.67087823,\n",
       "         0.93336035, -0.16665903],\n",
       "       [ 1.32218029,  1.40219027, -0.38004206, ...,  1.49058347,\n",
       "        -1.07139755, -0.16665903],\n",
       "       [-0.84876287, -0.71316997, -0.38004206, ..., -0.67087823,\n",
       "        -1.07139755, -0.16665903]])"
      ]
     },
     "execution_count": 982,
     "metadata": {},
     "output_type": "execute_result"
    }
   ],
   "source": [
    "X_scaled"
   ]
  },
  {
   "cell_type": "code",
   "execution_count": 983,
   "id": "15cb53df",
   "metadata": {},
   "outputs": [
    {
     "data": {
      "text/plain": [
       "0.9040313949339993"
      ]
     },
     "execution_count": 983,
     "metadata": {},
     "output_type": "execute_result"
    }
   ],
   "source": [
    "knn = KNeighborsClassifier(n_neighbors=1)\n",
    "knn.fit(X_scaled, y)\n",
    "metrics.accuracy_score(y, knn.predict(X_scaled))"
   ]
  },
  {
   "cell_type": "code",
   "execution_count": 984,
   "id": "2ac7fd43",
   "metadata": {},
   "outputs": [
    {
     "name": "stdout",
     "output_type": "stream",
     "text": [
      "[0.55728051 0.5503212  0.55460385 0.53907923 0.54710921]\n"
     ]
    },
    {
     "data": {
      "text/plain": [
       "0.549678800856531"
      ]
     },
     "execution_count": 984,
     "metadata": {},
     "output_type": "execute_result"
    }
   ],
   "source": [
    "cv_score =  cross_val_score(knn, X_scaled, y,cv=tscv, scoring='accuracy')\n",
    "print(cv_score)\n",
    "cv_score.mean()"
   ]
  },
  {
   "cell_type": "code",
   "execution_count": 985,
   "id": "2aa6c267",
   "metadata": {},
   "outputs": [
    {
     "data": {
      "text/plain": [
       "0.6255797359971459"
      ]
     },
     "execution_count": 985,
     "metadata": {},
     "output_type": "execute_result"
    }
   ],
   "source": [
    "knn = KNeighborsClassifier(n_neighbors=79)\n",
    "knn.fit(X_scaled, y)\n",
    "metrics.accuracy_score(y, knn.predict(X_scaled))"
   ]
  },
  {
   "cell_type": "code",
   "execution_count": 986,
   "id": "ac591c6c",
   "metadata": {
    "scrolled": true
   },
   "outputs": [
    {
     "name": "stdout",
     "output_type": "stream",
     "text": [
      "[0.59743041 0.58672377 0.60920771 0.58404711 0.62955032]\n"
     ]
    },
    {
     "data": {
      "text/plain": [
       "0.6013918629550321"
      ]
     },
     "execution_count": 986,
     "metadata": {},
     "output_type": "execute_result"
    }
   ],
   "source": [
    "cv_score =  cross_val_score(knn, X_scaled, y,cv=tscv, scoring='accuracy')\n",
    "print(cv_score)\n",
    "cv_score.mean()"
   ]
  },
  {
   "cell_type": "code",
   "execution_count": 98,
   "id": "13cc25a8",
   "metadata": {},
   "outputs": [],
   "source": [
    "knn_grid = GridSearchCV(knn, dict(n_neighbors=list(range(1, 100)), \n",
    "                        weights=['uniform', 'distance']), cv=tscv, scoring='accuracy')"
   ]
  },
  {
   "cell_type": "code",
   "execution_count": 99,
   "id": "c8415120",
   "metadata": {},
   "outputs": [
    {
     "data": {
      "text/plain": [
       "GridSearchCV(cv=TimeSeriesSplit(gap=0, max_train_size=None, n_splits=5, test_size=None),\n",
       "             estimator=KNeighborsClassifier(n_neighbors=1),\n",
       "             param_grid={'n_neighbors': [1, 2, 3, 4, 5, 6, 7, 8, 9, 10, 11, 12,\n",
       "                                         13, 14, 15, 16, 17, 18, 19, 20, 21, 22,\n",
       "                                         23, 24, 25, 26, 27, 28, 29, 30, ...],\n",
       "                         'weights': ['uniform', 'distance']},\n",
       "             scoring='accuracy')"
      ]
     },
     "execution_count": 99,
     "metadata": {},
     "output_type": "execute_result"
    }
   ],
   "source": [
    "knn_grid.fit(X_scaled, y)"
   ]
  },
  {
   "cell_type": "code",
   "execution_count": 100,
   "id": "b2a2cbe7",
   "metadata": {},
   "outputs": [
    {
     "data": {
      "text/html": [
       "<div>\n",
       "<style scoped>\n",
       "    .dataframe tbody tr th:only-of-type {\n",
       "        vertical-align: middle;\n",
       "    }\n",
       "\n",
       "    .dataframe tbody tr th {\n",
       "        vertical-align: top;\n",
       "    }\n",
       "\n",
       "    .dataframe thead th {\n",
       "        text-align: right;\n",
       "    }\n",
       "</style>\n",
       "<table border=\"1\" class=\"dataframe\">\n",
       "  <thead>\n",
       "    <tr style=\"text-align: right;\">\n",
       "      <th></th>\n",
       "      <th>mean_fit_time</th>\n",
       "      <th>std_fit_time</th>\n",
       "      <th>mean_score_time</th>\n",
       "      <th>std_score_time</th>\n",
       "      <th>param_n_neighbors</th>\n",
       "      <th>param_weights</th>\n",
       "      <th>params</th>\n",
       "      <th>split0_test_score</th>\n",
       "      <th>split1_test_score</th>\n",
       "      <th>split2_test_score</th>\n",
       "      <th>split3_test_score</th>\n",
       "      <th>split4_test_score</th>\n",
       "      <th>mean_test_score</th>\n",
       "      <th>std_test_score</th>\n",
       "      <th>rank_test_score</th>\n",
       "    </tr>\n",
       "  </thead>\n",
       "  <tbody>\n",
       "    <tr>\n",
       "      <th>0</th>\n",
       "      <td>0.051404</td>\n",
       "      <td>0.040572</td>\n",
       "      <td>0.142717</td>\n",
       "      <td>0.023271</td>\n",
       "      <td>1</td>\n",
       "      <td>uniform</td>\n",
       "      <td>{'n_neighbors': 1, 'weights': 'uniform'}</td>\n",
       "      <td>0.557281</td>\n",
       "      <td>0.550321</td>\n",
       "      <td>0.554604</td>\n",
       "      <td>0.539079</td>\n",
       "      <td>0.547109</td>\n",
       "      <td>0.549679</td>\n",
       "      <td>0.006347</td>\n",
       "      <td>193</td>\n",
       "    </tr>\n",
       "    <tr>\n",
       "      <th>1</th>\n",
       "      <td>0.047414</td>\n",
       "      <td>0.037334</td>\n",
       "      <td>0.068829</td>\n",
       "      <td>0.021987</td>\n",
       "      <td>1</td>\n",
       "      <td>distance</td>\n",
       "      <td>{'n_neighbors': 1, 'weights': 'distance'}</td>\n",
       "      <td>0.557281</td>\n",
       "      <td>0.550321</td>\n",
       "      <td>0.554604</td>\n",
       "      <td>0.539079</td>\n",
       "      <td>0.547109</td>\n",
       "      <td>0.549679</td>\n",
       "      <td>0.006347</td>\n",
       "      <td>193</td>\n",
       "    </tr>\n",
       "    <tr>\n",
       "      <th>2</th>\n",
       "      <td>0.047198</td>\n",
       "      <td>0.038343</td>\n",
       "      <td>0.133071</td>\n",
       "      <td>0.030185</td>\n",
       "      <td>2</td>\n",
       "      <td>uniform</td>\n",
       "      <td>{'n_neighbors': 2, 'weights': 'uniform'}</td>\n",
       "      <td>0.513383</td>\n",
       "      <td>0.526231</td>\n",
       "      <td>0.522484</td>\n",
       "      <td>0.527837</td>\n",
       "      <td>0.491970</td>\n",
       "      <td>0.516381</td>\n",
       "      <td>0.013194</td>\n",
       "      <td>198</td>\n",
       "    </tr>\n",
       "    <tr>\n",
       "      <th>3</th>\n",
       "      <td>0.047062</td>\n",
       "      <td>0.037158</td>\n",
       "      <td>0.080419</td>\n",
       "      <td>0.026766</td>\n",
       "      <td>2</td>\n",
       "      <td>distance</td>\n",
       "      <td>{'n_neighbors': 2, 'weights': 'distance'}</td>\n",
       "      <td>0.546574</td>\n",
       "      <td>0.539615</td>\n",
       "      <td>0.550857</td>\n",
       "      <td>0.533726</td>\n",
       "      <td>0.533726</td>\n",
       "      <td>0.540899</td>\n",
       "      <td>0.006869</td>\n",
       "      <td>196</td>\n",
       "    </tr>\n",
       "    <tr>\n",
       "      <th>4</th>\n",
       "      <td>0.046759</td>\n",
       "      <td>0.037382</td>\n",
       "      <td>0.139557</td>\n",
       "      <td>0.031787</td>\n",
       "      <td>3</td>\n",
       "      <td>uniform</td>\n",
       "      <td>{'n_neighbors': 3, 'weights': 'uniform'}</td>\n",
       "      <td>0.571734</td>\n",
       "      <td>0.573340</td>\n",
       "      <td>0.561028</td>\n",
       "      <td>0.554069</td>\n",
       "      <td>0.550321</td>\n",
       "      <td>0.562099</td>\n",
       "      <td>0.009204</td>\n",
       "      <td>186</td>\n",
       "    </tr>\n",
       "  </tbody>\n",
       "</table>\n",
       "</div>"
      ],
      "text/plain": [
       "   mean_fit_time  std_fit_time  mean_score_time  std_score_time  \\\n",
       "0       0.051404      0.040572         0.142717        0.023271   \n",
       "1       0.047414      0.037334         0.068829        0.021987   \n",
       "2       0.047198      0.038343         0.133071        0.030185   \n",
       "3       0.047062      0.037158         0.080419        0.026766   \n",
       "4       0.046759      0.037382         0.139557        0.031787   \n",
       "\n",
       "  param_n_neighbors param_weights                                     params  \\\n",
       "0                 1       uniform   {'n_neighbors': 1, 'weights': 'uniform'}   \n",
       "1                 1      distance  {'n_neighbors': 1, 'weights': 'distance'}   \n",
       "2                 2       uniform   {'n_neighbors': 2, 'weights': 'uniform'}   \n",
       "3                 2      distance  {'n_neighbors': 2, 'weights': 'distance'}   \n",
       "4                 3       uniform   {'n_neighbors': 3, 'weights': 'uniform'}   \n",
       "\n",
       "   split0_test_score  split1_test_score  split2_test_score  split3_test_score  \\\n",
       "0           0.557281           0.550321           0.554604           0.539079   \n",
       "1           0.557281           0.550321           0.554604           0.539079   \n",
       "2           0.513383           0.526231           0.522484           0.527837   \n",
       "3           0.546574           0.539615           0.550857           0.533726   \n",
       "4           0.571734           0.573340           0.561028           0.554069   \n",
       "\n",
       "   split4_test_score  mean_test_score  std_test_score  rank_test_score  \n",
       "0           0.547109         0.549679        0.006347              193  \n",
       "1           0.547109         0.549679        0.006347              193  \n",
       "2           0.491970         0.516381        0.013194              198  \n",
       "3           0.533726         0.540899        0.006869              196  \n",
       "4           0.550321         0.562099        0.009204              186  "
      ]
     },
     "execution_count": 100,
     "metadata": {},
     "output_type": "execute_result"
    }
   ],
   "source": [
    "pd.DataFrame(knn_grid.cv_results_).head()"
   ]
  },
  {
   "cell_type": "code",
   "execution_count": 101,
   "id": "dc03fb52",
   "metadata": {},
   "outputs": [
    {
     "data": {
      "text/html": [
       "<div>\n",
       "<style scoped>\n",
       "    .dataframe tbody tr th:only-of-type {\n",
       "        vertical-align: middle;\n",
       "    }\n",
       "\n",
       "    .dataframe tbody tr th {\n",
       "        vertical-align: top;\n",
       "    }\n",
       "\n",
       "    .dataframe thead th {\n",
       "        text-align: right;\n",
       "    }\n",
       "</style>\n",
       "<table border=\"1\" class=\"dataframe\">\n",
       "  <thead>\n",
       "    <tr style=\"text-align: right;\">\n",
       "      <th></th>\n",
       "      <th>mean_test_score</th>\n",
       "    </tr>\n",
       "  </thead>\n",
       "  <tbody>\n",
       "    <tr>\n",
       "      <th>0</th>\n",
       "      <td>0.549679</td>\n",
       "    </tr>\n",
       "    <tr>\n",
       "      <th>2</th>\n",
       "      <td>0.516381</td>\n",
       "    </tr>\n",
       "    <tr>\n",
       "      <th>4</th>\n",
       "      <td>0.562099</td>\n",
       "    </tr>\n",
       "    <tr>\n",
       "      <th>6</th>\n",
       "      <td>0.536510</td>\n",
       "    </tr>\n",
       "    <tr>\n",
       "      <th>8</th>\n",
       "      <td>0.564026</td>\n",
       "    </tr>\n",
       "    <tr>\n",
       "      <th>...</th>\n",
       "      <td>...</td>\n",
       "    </tr>\n",
       "    <tr>\n",
       "      <th>188</th>\n",
       "      <td>0.600214</td>\n",
       "    </tr>\n",
       "    <tr>\n",
       "      <th>190</th>\n",
       "      <td>0.598608</td>\n",
       "    </tr>\n",
       "    <tr>\n",
       "      <th>192</th>\n",
       "      <td>0.599358</td>\n",
       "    </tr>\n",
       "    <tr>\n",
       "      <th>194</th>\n",
       "      <td>0.599786</td>\n",
       "    </tr>\n",
       "    <tr>\n",
       "      <th>196</th>\n",
       "      <td>0.601178</td>\n",
       "    </tr>\n",
       "  </tbody>\n",
       "</table>\n",
       "<p>99 rows × 1 columns</p>\n",
       "</div>"
      ],
      "text/plain": [
       "     mean_test_score\n",
       "0           0.549679\n",
       "2           0.516381\n",
       "4           0.562099\n",
       "6           0.536510\n",
       "8           0.564026\n",
       "..               ...\n",
       "188         0.600214\n",
       "190         0.598608\n",
       "192         0.599358\n",
       "194         0.599786\n",
       "196         0.601178\n",
       "\n",
       "[99 rows x 1 columns]"
      ]
     },
     "execution_count": 101,
     "metadata": {},
     "output_type": "execute_result"
    }
   ],
   "source": [
    "pd.DataFrame(knn_grid.cv_results_)[['mean_test_score','param_n_neighbors']].iloc[::2,0:1:]"
   ]
  },
  {
   "cell_type": "code",
   "execution_count": 103,
   "id": "06c06796",
   "metadata": {},
   "outputs": [
    {
     "data": {
      "image/png": "[encoded data removed]",
      "text/plain": [
       "<Figure size 432x288 with 1 Axes>"
      ]
     },
     "metadata": {
      "needs_background": "light"
     },
     "output_type": "display_data"
    }
   ],
   "source": [
    "plt.plot(list(range(1, 100)),\n",
    "         pd.DataFrame(knn_grid.cv_results_)[['mean_test_score','param_n_neighbors']].iloc[::2,0:1:])\n",
    "plt.xlabel('Value of K for KNN')\n",
    "plt.ylabel('Cross-Validated Accuracy');"
   ]
  },
  {
   "cell_type": "code",
   "execution_count": 104,
   "id": "0aac51fe",
   "metadata": {
    "scrolled": true
   },
   "outputs": [
    {
     "name": "stdout",
     "output_type": "stream",
     "text": [
      "Best params:  {'n_neighbors': 79, 'weights': 'uniform'}\n",
      "Best estimator:  KNeighborsClassifier(n_neighbors=79)\n",
      "Best score:  0.6013918629550321\n"
     ]
    }
   ],
   "source": [
    "print(\"Best params: \", knn_grid.best_params_)\n",
    "print(\"Best estimator: \", knn_grid.best_estimator_)\n",
    "print(\"Best score: \", knn_grid.best_score_)"
   ]
  },
  {
   "cell_type": "code",
   "execution_count": 940,
   "id": "fb241a7f",
   "metadata": {},
   "outputs": [],
   "source": [
    "#Standardize\n",
    "X = df_train[['left_batter','day_game', 'b_1', 'b_2', 'b_3', 'last_b','last_fastball',\n",
    "              's_1', 's_2', 'after_4_inning', 'last_contact', 'last_pa_so','ahead',\n",
    "              'last_pa_long']]\n",
    "y = df_train['fastball']\n",
    "scaler = StandardScaler()\n",
    "X_scaled = scaler.fit_transform(X)"
   ]
  },
  {
   "cell_type": "code",
   "execution_count": 977,
   "id": "4031977a",
   "metadata": {},
   "outputs": [
    {
     "data": {
      "text/plain": [
       "0.6455583303603282"
      ]
     },
     "execution_count": 977,
     "metadata": {},
     "output_type": "execute_result"
    }
   ],
   "source": [
    "knn = KNeighborsClassifier(n_neighbors=5)\n",
    "knn.fit(X_scaled, y)\n",
    "metrics.accuracy_score(y, knn.predict(X_scaled))"
   ]
  },
  {
   "cell_type": "code",
   "execution_count": 978,
   "id": "2e3941dc",
   "metadata": {},
   "outputs": [
    {
     "name": "stdout",
     "output_type": "stream",
     "text": [
      "[0.58404711 0.55299786 0.58083512 0.55353319 0.56316916]\n"
     ]
    },
    {
     "data": {
      "text/plain": [
       "0.5669164882226981"
      ]
     },
     "execution_count": 978,
     "metadata": {},
     "output_type": "execute_result"
    }
   ],
   "source": [
    "cv_score =  cross_val_score(knn, X_scaled, y,cv=tscv, scoring='accuracy')\n",
    "print(cv_score)\n",
    "cv_score.mean()"
   ]
  },
  {
   "cell_type": "code",
   "execution_count": 974,
   "id": "9647aa4d",
   "metadata": {},
   "outputs": [
    {
     "data": {
      "text/plain": [
       "0.6252229753835177"
      ]
     },
     "execution_count": 974,
     "metadata": {},
     "output_type": "execute_result"
    }
   ],
   "source": [
    "knn = KNeighborsClassifier(n_neighbors=68)\n",
    "knn.fit(X_scaled, y)\n",
    "metrics.accuracy_score(y, knn.predict(X_scaled))"
   ]
  },
  {
   "cell_type": "code",
   "execution_count": 975,
   "id": "3d7d8cbb",
   "metadata": {
    "scrolled": true
   },
   "outputs": [
    {
     "name": "stdout",
     "output_type": "stream",
     "text": [
      "[0.61884368 0.58672377 0.61134904 0.57655246 0.62633833]\n"
     ]
    },
    {
     "data": {
      "text/plain": [
       "0.6039614561027837"
      ]
     },
     "execution_count": 975,
     "metadata": {},
     "output_type": "execute_result"
    }
   ],
   "source": [
    "cv_score =  cross_val_score(knn, X_scaled, y,cv=tscv, scoring='accuracy')\n",
    "print(cv_score)\n",
    "cv_score.mean()"
   ]
  },
  {
   "cell_type": "code",
   "execution_count": 947,
   "id": "de10177c",
   "metadata": {},
   "outputs": [],
   "source": [
    "knn_grid = GridSearchCV(knn, dict(n_neighbors=list(range(1, 200)), \n",
    "                        weights=['uniform', 'distance']), cv=tscv, scoring='accuracy')"
   ]
  },
  {
   "cell_type": "code",
   "execution_count": 948,
   "id": "72305cd0",
   "metadata": {},
   "outputs": [
    {
     "data": {
      "text/plain": [
       "GridSearchCV(cv=TimeSeriesSplit(gap=0, max_train_size=None, n_splits=5, test_size=None),\n",
       "             estimator=KNeighborsClassifier(n_neighbors=79),\n",
       "             param_grid={'n_neighbors': [1, 2, 3, 4, 5, 6, 7, 8, 9, 10, 11, 12,\n",
       "                                         13, 14, 15, 16, 17, 18, 19, 20, 21, 22,\n",
       "                                         23, 24, 25, 26, 27, 28, 29, 30, ...],\n",
       "                         'weights': ['uniform', 'distance']},\n",
       "             scoring='accuracy')"
      ]
     },
     "execution_count": 948,
     "metadata": {},
     "output_type": "execute_result"
    }
   ],
   "source": [
    "knn_grid.fit(X_scaled, y)"
   ]
  },
  {
   "cell_type": "code",
   "execution_count": 949,
   "id": "f329b4e1",
   "metadata": {},
   "outputs": [
    {
     "data": {
      "text/html": [
       "<div>\n",
       "<style scoped>\n",
       "    .dataframe tbody tr th:only-of-type {\n",
       "        vertical-align: middle;\n",
       "    }\n",
       "\n",
       "    .dataframe tbody tr th {\n",
       "        vertical-align: top;\n",
       "    }\n",
       "\n",
       "    .dataframe thead th {\n",
       "        text-align: right;\n",
       "    }\n",
       "</style>\n",
       "<table border=\"1\" class=\"dataframe\">\n",
       "  <thead>\n",
       "    <tr style=\"text-align: right;\">\n",
       "      <th></th>\n",
       "      <th>mean_fit_time</th>\n",
       "      <th>std_fit_time</th>\n",
       "      <th>mean_score_time</th>\n",
       "      <th>std_score_time</th>\n",
       "      <th>param_n_neighbors</th>\n",
       "      <th>param_weights</th>\n",
       "      <th>params</th>\n",
       "      <th>split0_test_score</th>\n",
       "      <th>split1_test_score</th>\n",
       "      <th>split2_test_score</th>\n",
       "      <th>split3_test_score</th>\n",
       "      <th>split4_test_score</th>\n",
       "      <th>mean_test_score</th>\n",
       "      <th>std_test_score</th>\n",
       "      <th>rank_test_score</th>\n",
       "    </tr>\n",
       "  </thead>\n",
       "  <tbody>\n",
       "    <tr>\n",
       "      <th>0</th>\n",
       "      <td>0.051027</td>\n",
       "      <td>0.042737</td>\n",
       "      <td>0.165706</td>\n",
       "      <td>0.059961</td>\n",
       "      <td>1</td>\n",
       "      <td>uniform</td>\n",
       "      <td>{'n_neighbors': 1, 'weights': 'uniform'}</td>\n",
       "      <td>0.552998</td>\n",
       "      <td>0.548715</td>\n",
       "      <td>0.554069</td>\n",
       "      <td>0.543362</td>\n",
       "      <td>0.563169</td>\n",
       "      <td>0.552463</td>\n",
       "      <td>0.006548</td>\n",
       "      <td>391</td>\n",
       "    </tr>\n",
       "    <tr>\n",
       "      <th>1</th>\n",
       "      <td>0.057198</td>\n",
       "      <td>0.041268</td>\n",
       "      <td>0.117323</td>\n",
       "      <td>0.060116</td>\n",
       "      <td>1</td>\n",
       "      <td>distance</td>\n",
       "      <td>{'n_neighbors': 1, 'weights': 'distance'}</td>\n",
       "      <td>0.552998</td>\n",
       "      <td>0.548715</td>\n",
       "      <td>0.554069</td>\n",
       "      <td>0.543362</td>\n",
       "      <td>0.563169</td>\n",
       "      <td>0.552463</td>\n",
       "      <td>0.006548</td>\n",
       "      <td>391</td>\n",
       "    </tr>\n",
       "    <tr>\n",
       "      <th>2</th>\n",
       "      <td>0.048268</td>\n",
       "      <td>0.036881</td>\n",
       "      <td>0.143758</td>\n",
       "      <td>0.025097</td>\n",
       "      <td>2</td>\n",
       "      <td>uniform</td>\n",
       "      <td>{'n_neighbors': 2, 'weights': 'uniform'}</td>\n",
       "      <td>0.505889</td>\n",
       "      <td>0.530514</td>\n",
       "      <td>0.519272</td>\n",
       "      <td>0.517131</td>\n",
       "      <td>0.524090</td>\n",
       "      <td>0.519379</td>\n",
       "      <td>0.008164</td>\n",
       "      <td>398</td>\n",
       "    </tr>\n",
       "    <tr>\n",
       "      <th>3</th>\n",
       "      <td>0.046766</td>\n",
       "      <td>0.037274</td>\n",
       "      <td>0.088991</td>\n",
       "      <td>0.032758</td>\n",
       "      <td>2</td>\n",
       "      <td>distance</td>\n",
       "      <td>{'n_neighbors': 2, 'weights': 'distance'}</td>\n",
       "      <td>0.521949</td>\n",
       "      <td>0.541221</td>\n",
       "      <td>0.523019</td>\n",
       "      <td>0.525161</td>\n",
       "      <td>0.532120</td>\n",
       "      <td>0.528694</td>\n",
       "      <td>0.007195</td>\n",
       "      <td>397</td>\n",
       "    </tr>\n",
       "    <tr>\n",
       "      <th>4</th>\n",
       "      <td>0.052230</td>\n",
       "      <td>0.041295</td>\n",
       "      <td>0.154632</td>\n",
       "      <td>0.046369</td>\n",
       "      <td>3</td>\n",
       "      <td>uniform</td>\n",
       "      <td>{'n_neighbors': 3, 'weights': 'uniform'}</td>\n",
       "      <td>0.552463</td>\n",
       "      <td>0.549786</td>\n",
       "      <td>0.572805</td>\n",
       "      <td>0.550321</td>\n",
       "      <td>0.561028</td>\n",
       "      <td>0.557281</td>\n",
       "      <td>0.008751</td>\n",
       "      <td>388</td>\n",
       "    </tr>\n",
       "  </tbody>\n",
       "</table>\n",
       "</div>"
      ],
      "text/plain": [
       "   mean_fit_time  std_fit_time  mean_score_time  std_score_time  \\\n",
       "0       0.051027      0.042737         0.165706        0.059961   \n",
       "1       0.057198      0.041268         0.117323        0.060116   \n",
       "2       0.048268      0.036881         0.143758        0.025097   \n",
       "3       0.046766      0.037274         0.088991        0.032758   \n",
       "4       0.052230      0.041295         0.154632        0.046369   \n",
       "\n",
       "  param_n_neighbors param_weights                                     params  \\\n",
       "0                 1       uniform   {'n_neighbors': 1, 'weights': 'uniform'}   \n",
       "1                 1      distance  {'n_neighbors': 1, 'weights': 'distance'}   \n",
       "2                 2       uniform   {'n_neighbors': 2, 'weights': 'uniform'}   \n",
       "3                 2      distance  {'n_neighbors': 2, 'weights': 'distance'}   \n",
       "4                 3       uniform   {'n_neighbors': 3, 'weights': 'uniform'}   \n",
       "\n",
       "   split0_test_score  split1_test_score  split2_test_score  split3_test_score  \\\n",
       "0           0.552998           0.548715           0.554069           0.543362   \n",
       "1           0.552998           0.548715           0.554069           0.543362   \n",
       "2           0.505889           0.530514           0.519272           0.517131   \n",
       "3           0.521949           0.541221           0.523019           0.525161   \n",
       "4           0.552463           0.549786           0.572805           0.550321   \n",
       "\n",
       "   split4_test_score  mean_test_score  std_test_score  rank_test_score  \n",
       "0           0.563169         0.552463        0.006548              391  \n",
       "1           0.563169         0.552463        0.006548              391  \n",
       "2           0.524090         0.519379        0.008164              398  \n",
       "3           0.532120         0.528694        0.007195              397  \n",
       "4           0.561028         0.557281        0.008751              388  "
      ]
     },
     "execution_count": 949,
     "metadata": {},
     "output_type": "execute_result"
    }
   ],
   "source": [
    "pd.DataFrame(knn_grid.cv_results_).head()"
   ]
  },
  {
   "cell_type": "code",
   "execution_count": 950,
   "id": "7c837055",
   "metadata": {},
   "outputs": [
    {
     "data": {
      "text/html": [
       "<div>\n",
       "<style scoped>\n",
       "    .dataframe tbody tr th:only-of-type {\n",
       "        vertical-align: middle;\n",
       "    }\n",
       "\n",
       "    .dataframe tbody tr th {\n",
       "        vertical-align: top;\n",
       "    }\n",
       "\n",
       "    .dataframe thead th {\n",
       "        text-align: right;\n",
       "    }\n",
       "</style>\n",
       "<table border=\"1\" class=\"dataframe\">\n",
       "  <thead>\n",
       "    <tr style=\"text-align: right;\">\n",
       "      <th></th>\n",
       "      <th>mean_test_score</th>\n",
       "    </tr>\n",
       "  </thead>\n",
       "  <tbody>\n",
       "    <tr>\n",
       "      <th>0</th>\n",
       "      <td>0.552463</td>\n",
       "    </tr>\n",
       "    <tr>\n",
       "      <th>2</th>\n",
       "      <td>0.519379</td>\n",
       "    </tr>\n",
       "    <tr>\n",
       "      <th>4</th>\n",
       "      <td>0.557281</td>\n",
       "    </tr>\n",
       "    <tr>\n",
       "      <th>6</th>\n",
       "      <td>0.541006</td>\n",
       "    </tr>\n",
       "    <tr>\n",
       "      <th>8</th>\n",
       "      <td>0.566916</td>\n",
       "    </tr>\n",
       "    <tr>\n",
       "      <th>...</th>\n",
       "      <td>...</td>\n",
       "    </tr>\n",
       "    <tr>\n",
       "      <th>388</th>\n",
       "      <td>0.598501</td>\n",
       "    </tr>\n",
       "    <tr>\n",
       "      <th>390</th>\n",
       "      <td>0.599358</td>\n",
       "    </tr>\n",
       "    <tr>\n",
       "      <th>392</th>\n",
       "      <td>0.599143</td>\n",
       "    </tr>\n",
       "    <tr>\n",
       "      <th>394</th>\n",
       "      <td>0.598501</td>\n",
       "    </tr>\n",
       "    <tr>\n",
       "      <th>396</th>\n",
       "      <td>0.597966</td>\n",
       "    </tr>\n",
       "  </tbody>\n",
       "</table>\n",
       "<p>199 rows × 1 columns</p>\n",
       "</div>"
      ],
      "text/plain": [
       "     mean_test_score\n",
       "0           0.552463\n",
       "2           0.519379\n",
       "4           0.557281\n",
       "6           0.541006\n",
       "8           0.566916\n",
       "..               ...\n",
       "388         0.598501\n",
       "390         0.599358\n",
       "392         0.599143\n",
       "394         0.598501\n",
       "396         0.597966\n",
       "\n",
       "[199 rows x 1 columns]"
      ]
     },
     "execution_count": 950,
     "metadata": {},
     "output_type": "execute_result"
    }
   ],
   "source": [
    "pd.DataFrame(knn_grid.cv_results_)[['mean_test_score','param_n_neighbors']].iloc[::2,0:1:]"
   ]
  },
  {
   "cell_type": "code",
   "execution_count": 972,
   "id": "a5f66aa3",
   "metadata": {},
   "outputs": [
    {
     "data": {
      "image/png": "[encoded data removed]",
      "text/plain": [
       "<Figure size 432x288 with 1 Axes>"
      ]
     },
     "metadata": {
      "needs_background": "light"
     },
     "output_type": "display_data"
    }
   ],
   "source": [
    "plt.plot(list(range(1, 200)),\n",
    "         pd.DataFrame(knn_grid.cv_results_)[['mean_test_score','param_n_neighbors']].iloc[::2,0:1:])\n",
    "plt.xlabel('Value of K for KNN')\n",
    "plt.ylabel('Cross-Validated Accuracy');"
   ]
  },
  {
   "cell_type": "code",
   "execution_count": 973,
   "id": "9474b0d0",
   "metadata": {
    "scrolled": true
   },
   "outputs": [
    {
     "name": "stdout",
     "output_type": "stream",
     "text": [
      "Best params:  {'n_neighbors': 68, 'weights': 'uniform'}\n",
      "Best estimator:  KNeighborsClassifier(n_neighbors=68)\n",
      "Best score:  0.6039614561027837\n"
     ]
    }
   ],
   "source": [
    "print(\"Best params: \", knn_grid.best_params_)\n",
    "print(\"Best estimator: \", knn_grid.best_estimator_)\n",
    "print(\"Best score: \", knn_grid.best_score_)"
   ]
  },
  {
   "cell_type": "markdown",
   "id": "92f61398",
   "metadata": {},
   "source": [
    "## KNN-different features"
   ]
  },
  {
   "cell_type": "code",
   "execution_count": 1692,
   "id": "eedba00b",
   "metadata": {
    "scrolled": true
   },
   "outputs": [
    {
     "data": {
      "text/plain": [
       "Index(['pitch_type', 'fastball', 'start_speed', 'zone', 'code', 'type',\n",
       "       'b_score', 'p_score', 'ab_id', 'pitch_num', 'b_count', 's_count',\n",
       "       'outs', 'on_1b', 'on_2b', 'on_3b', 'event', 'inning', 'left_batter',\n",
       "       'top', 'weather', 'start_time', 'year', 'day_game', 'b_0', 'b_1', 'b_2',\n",
       "       'b_3', 's_0', 's_1', 's_2', 'o_0', 'o_1', 'o_2', 'after_4_inning',\n",
       "       'after_5_inning', 'first2ball', 'abs_diff', 'diff', 'tie', 'ahead',\n",
       "       'behind', 'tempature', 'more_than_70', 'last_pitch_type',\n",
       "       'last_fastball', 'last_code', 'last_type', 'last_b', 'last_s',\n",
       "       'last_inplay', 'last_contact', 'last_pitch', 'last_pa', 'last_num',\n",
       "       'game_pitch', 'last_over_8', 'over_30_pitches', 'last_pa_homerun',\n",
       "       'last_pa_double_triple', 'last_pa_long', 'last_pa_so', 'last_pa_bb',\n",
       "       'last_pa_dp', 'last_pa_out'],\n",
       "      dtype='object')"
      ]
     },
     "execution_count": 1692,
     "metadata": {},
     "output_type": "execute_result"
    }
   ],
   "source": [
    "df_train.columns"
   ]
  },
  {
   "cell_type": "code",
   "execution_count": 1693,
   "id": "da44393c",
   "metadata": {},
   "outputs": [],
   "source": [
    "#Standardize\n",
    "X = df_train[['left_batter','top', 'day_game', 'b_1', 'b_2', 'b_3',\n",
    "              's_1', 's_2', 'o_1', 'o_2', 'after_4_inning', 'tie', 'ahead','behind', 'more_than_70',\n",
    "              'last_fastball', 'last_b', 'last_s','last_inplay', 'last_contact', \n",
    "              'last_pa_homerun', 'last_pa_double_triple', 'last_pa_so', 'last_pa_bb','last_pa_dp', 'last_pa_out']]\n",
    "y = df_train['fastball']\n",
    "scaler = StandardScaler()\n",
    "X_scaled = scaler.fit_transform(X)"
   ]
  },
  {
   "cell_type": "code",
   "execution_count": 1694,
   "id": "582578fe",
   "metadata": {},
   "outputs": [
    {
     "data": {
      "text/plain": [
       "0.8719229397074563"
      ]
     },
     "execution_count": 1694,
     "metadata": {},
     "output_type": "execute_result"
    }
   ],
   "source": [
    "knn = KNeighborsClassifier(n_neighbors=1)\n",
    "knn.fit(X_scaled, y)\n",
    "metrics.accuracy_score(y, knn.predict(X_scaled))"
   ]
  },
  {
   "cell_type": "code",
   "execution_count": 1695,
   "id": "0a1c2c78",
   "metadata": {},
   "outputs": [
    {
     "data": {
      "text/plain": [
       "array([[0., 1.],\n",
       "       [0., 1.],\n",
       "       [0., 1.],\n",
       "       ...,\n",
       "       [0., 1.],\n",
       "       [1., 0.],\n",
       "       [0., 1.]])"
      ]
     },
     "execution_count": 1695,
     "metadata": {},
     "output_type": "execute_result"
    }
   ],
   "source": [
    "knn.predict_proba(X)"
   ]
  },
  {
   "cell_type": "code",
   "execution_count": 320,
   "id": "7dfce376",
   "metadata": {},
   "outputs": [
    {
     "name": "stdout",
     "output_type": "stream",
     "text": [
      "[0.55835118 0.54657388 0.54710921 0.53586724 0.56477516]\n"
     ]
    },
    {
     "data": {
      "text/plain": [
       "0.5505353319057816"
      ]
     },
     "execution_count": 320,
     "metadata": {},
     "output_type": "execute_result"
    }
   ],
   "source": [
    "cv_score =  cross_val_score(knn, X_scaled, y,cv=tscv, scoring='accuracy')\n",
    "print(cv_score)\n",
    "cv_score.mean()"
   ]
  },
  {
   "cell_type": "code",
   "execution_count": 329,
   "id": "f16e88f4",
   "metadata": {},
   "outputs": [
    {
     "data": {
      "text/plain": [
       "0.6175526221905102"
      ]
     },
     "execution_count": 329,
     "metadata": {},
     "output_type": "execute_result"
    }
   ],
   "source": [
    "knn = KNeighborsClassifier(n_neighbors=89)\n",
    "knn.fit(X_scaled, y)\n",
    "metrics.accuracy_score(y, knn.predict(X_scaled))"
   ]
  },
  {
   "cell_type": "code",
   "execution_count": 330,
   "id": "4ac5d021",
   "metadata": {},
   "outputs": [
    {
     "name": "stdout",
     "output_type": "stream",
     "text": [
      "[0.61295503 0.58672377 0.61134904 0.56263383 0.60385439]\n"
     ]
    },
    {
     "data": {
      "text/plain": [
       "0.5955032119914347"
      ]
     },
     "execution_count": 330,
     "metadata": {},
     "output_type": "execute_result"
    }
   ],
   "source": [
    "cv_score =  cross_val_score(knn, X_scaled, y,cv=tscv, scoring='accuracy')\n",
    "print(cv_score)\n",
    "cv_score.mean()"
   ]
  },
  {
   "cell_type": "code",
   "execution_count": 323,
   "id": "b030e5eb",
   "metadata": {},
   "outputs": [],
   "source": [
    "knn_grid = GridSearchCV(knn, dict(n_neighbors=list(range(1, 100)), \n",
    "                        weights=['uniform', 'distance']), cv=tscv, scoring='accuracy')"
   ]
  },
  {
   "cell_type": "code",
   "execution_count": 324,
   "id": "8aca93ae",
   "metadata": {},
   "outputs": [
    {
     "data": {
      "text/plain": [
       "GridSearchCV(cv=TimeSeriesSplit(gap=0, max_train_size=None, n_splits=5, test_size=None),\n",
       "             estimator=KNeighborsClassifier(n_neighbors=67),\n",
       "             param_grid={'n_neighbors': [1, 2, 3, 4, 5, 6, 7, 8, 9, 10, 11, 12,\n",
       "                                         13, 14, 15, 16, 17, 18, 19, 20, 21, 22,\n",
       "                                         23, 24, 25, 26, 27, 28, 29, 30, ...],\n",
       "                         'weights': ['uniform', 'distance']},\n",
       "             scoring='accuracy')"
      ]
     },
     "execution_count": 324,
     "metadata": {},
     "output_type": "execute_result"
    }
   ],
   "source": [
    "knn_grid.fit(X_scaled, y)"
   ]
  },
  {
   "cell_type": "code",
   "execution_count": 325,
   "id": "41c4c692",
   "metadata": {},
   "outputs": [
    {
     "data": {
      "text/html": [
       "<div>\n",
       "<style scoped>\n",
       "    .dataframe tbody tr th:only-of-type {\n",
       "        vertical-align: middle;\n",
       "    }\n",
       "\n",
       "    .dataframe tbody tr th {\n",
       "        vertical-align: top;\n",
       "    }\n",
       "\n",
       "    .dataframe thead th {\n",
       "        text-align: right;\n",
       "    }\n",
       "</style>\n",
       "<table border=\"1\" class=\"dataframe\">\n",
       "  <thead>\n",
       "    <tr style=\"text-align: right;\">\n",
       "      <th></th>\n",
       "      <th>mean_fit_time</th>\n",
       "      <th>std_fit_time</th>\n",
       "      <th>mean_score_time</th>\n",
       "      <th>std_score_time</th>\n",
       "      <th>param_n_neighbors</th>\n",
       "      <th>param_weights</th>\n",
       "      <th>params</th>\n",
       "      <th>split0_test_score</th>\n",
       "      <th>split1_test_score</th>\n",
       "      <th>split2_test_score</th>\n",
       "      <th>split3_test_score</th>\n",
       "      <th>split4_test_score</th>\n",
       "      <th>mean_test_score</th>\n",
       "      <th>std_test_score</th>\n",
       "      <th>rank_test_score</th>\n",
       "    </tr>\n",
       "  </thead>\n",
       "  <tbody>\n",
       "    <tr>\n",
       "      <th>0</th>\n",
       "      <td>0.002599</td>\n",
       "      <td>0.000585</td>\n",
       "      <td>0.251517</td>\n",
       "      <td>0.099024</td>\n",
       "      <td>1</td>\n",
       "      <td>uniform</td>\n",
       "      <td>{'n_neighbors': 1, 'weights': 'uniform'}</td>\n",
       "      <td>0.558351</td>\n",
       "      <td>0.546574</td>\n",
       "      <td>0.547109</td>\n",
       "      <td>0.535867</td>\n",
       "      <td>0.564775</td>\n",
       "      <td>0.550535</td>\n",
       "      <td>0.010064</td>\n",
       "      <td>193</td>\n",
       "    </tr>\n",
       "    <tr>\n",
       "      <th>1</th>\n",
       "      <td>0.001788</td>\n",
       "      <td>0.000404</td>\n",
       "      <td>0.163386</td>\n",
       "      <td>0.070647</td>\n",
       "      <td>1</td>\n",
       "      <td>distance</td>\n",
       "      <td>{'n_neighbors': 1, 'weights': 'distance'}</td>\n",
       "      <td>0.558351</td>\n",
       "      <td>0.546574</td>\n",
       "      <td>0.547109</td>\n",
       "      <td>0.535867</td>\n",
       "      <td>0.564775</td>\n",
       "      <td>0.550535</td>\n",
       "      <td>0.010064</td>\n",
       "      <td>193</td>\n",
       "    </tr>\n",
       "    <tr>\n",
       "      <th>2</th>\n",
       "      <td>0.001789</td>\n",
       "      <td>0.000372</td>\n",
       "      <td>0.237851</td>\n",
       "      <td>0.117081</td>\n",
       "      <td>2</td>\n",
       "      <td>uniform</td>\n",
       "      <td>{'n_neighbors': 2, 'weights': 'uniform'}</td>\n",
       "      <td>0.498929</td>\n",
       "      <td>0.512313</td>\n",
       "      <td>0.519807</td>\n",
       "      <td>0.497323</td>\n",
       "      <td>0.503747</td>\n",
       "      <td>0.506424</td>\n",
       "      <td>0.008485</td>\n",
       "      <td>198</td>\n",
       "    </tr>\n",
       "    <tr>\n",
       "      <th>3</th>\n",
       "      <td>0.001958</td>\n",
       "      <td>0.000440</td>\n",
       "      <td>0.176542</td>\n",
       "      <td>0.076641</td>\n",
       "      <td>2</td>\n",
       "      <td>distance</td>\n",
       "      <td>{'n_neighbors': 2, 'weights': 'distance'}</td>\n",
       "      <td>0.546574</td>\n",
       "      <td>0.538009</td>\n",
       "      <td>0.538544</td>\n",
       "      <td>0.520343</td>\n",
       "      <td>0.544433</td>\n",
       "      <td>0.537580</td>\n",
       "      <td>0.009231</td>\n",
       "      <td>196</td>\n",
       "    </tr>\n",
       "    <tr>\n",
       "      <th>4</th>\n",
       "      <td>0.002055</td>\n",
       "      <td>0.000425</td>\n",
       "      <td>0.301039</td>\n",
       "      <td>0.083238</td>\n",
       "      <td>3</td>\n",
       "      <td>uniform</td>\n",
       "      <td>{'n_neighbors': 3, 'weights': 'uniform'}</td>\n",
       "      <td>0.565310</td>\n",
       "      <td>0.555675</td>\n",
       "      <td>0.566916</td>\n",
       "      <td>0.541756</td>\n",
       "      <td>0.572270</td>\n",
       "      <td>0.560385</td>\n",
       "      <td>0.010746</td>\n",
       "      <td>187</td>\n",
       "    </tr>\n",
       "  </tbody>\n",
       "</table>\n",
       "</div>"
      ],
      "text/plain": [
       "   mean_fit_time  std_fit_time  mean_score_time  std_score_time  \\\n",
       "0       0.002599      0.000585         0.251517        0.099024   \n",
       "1       0.001788      0.000404         0.163386        0.070647   \n",
       "2       0.001789      0.000372         0.237851        0.117081   \n",
       "3       0.001958      0.000440         0.176542        0.076641   \n",
       "4       0.002055      0.000425         0.301039        0.083238   \n",
       "\n",
       "  param_n_neighbors param_weights                                     params  \\\n",
       "0                 1       uniform   {'n_neighbors': 1, 'weights': 'uniform'}   \n",
       "1                 1      distance  {'n_neighbors': 1, 'weights': 'distance'}   \n",
       "2                 2       uniform   {'n_neighbors': 2, 'weights': 'uniform'}   \n",
       "3                 2      distance  {'n_neighbors': 2, 'weights': 'distance'}   \n",
       "4                 3       uniform   {'n_neighbors': 3, 'weights': 'uniform'}   \n",
       "\n",
       "   split0_test_score  split1_test_score  split2_test_score  split3_test_score  \\\n",
       "0           0.558351           0.546574           0.547109           0.535867   \n",
       "1           0.558351           0.546574           0.547109           0.535867   \n",
       "2           0.498929           0.512313           0.519807           0.497323   \n",
       "3           0.546574           0.538009           0.538544           0.520343   \n",
       "4           0.565310           0.555675           0.566916           0.541756   \n",
       "\n",
       "   split4_test_score  mean_test_score  std_test_score  rank_test_score  \n",
       "0           0.564775         0.550535        0.010064              193  \n",
       "1           0.564775         0.550535        0.010064              193  \n",
       "2           0.503747         0.506424        0.008485              198  \n",
       "3           0.544433         0.537580        0.009231              196  \n",
       "4           0.572270         0.560385        0.010746              187  "
      ]
     },
     "execution_count": 325,
     "metadata": {},
     "output_type": "execute_result"
    }
   ],
   "source": [
    "pd.DataFrame(knn_grid.cv_results_).head()"
   ]
  },
  {
   "cell_type": "code",
   "execution_count": 326,
   "id": "dd9dfef6",
   "metadata": {},
   "outputs": [
    {
     "data": {
      "text/html": [
       "<div>\n",
       "<style scoped>\n",
       "    .dataframe tbody tr th:only-of-type {\n",
       "        vertical-align: middle;\n",
       "    }\n",
       "\n",
       "    .dataframe tbody tr th {\n",
       "        vertical-align: top;\n",
       "    }\n",
       "\n",
       "    .dataframe thead th {\n",
       "        text-align: right;\n",
       "    }\n",
       "</style>\n",
       "<table border=\"1\" class=\"dataframe\">\n",
       "  <thead>\n",
       "    <tr style=\"text-align: right;\">\n",
       "      <th></th>\n",
       "      <th>mean_test_score</th>\n",
       "    </tr>\n",
       "  </thead>\n",
       "  <tbody>\n",
       "    <tr>\n",
       "      <th>0</th>\n",
       "      <td>0.550535</td>\n",
       "    </tr>\n",
       "    <tr>\n",
       "      <th>2</th>\n",
       "      <td>0.506424</td>\n",
       "    </tr>\n",
       "    <tr>\n",
       "      <th>4</th>\n",
       "      <td>0.560385</td>\n",
       "    </tr>\n",
       "    <tr>\n",
       "      <th>6</th>\n",
       "      <td>0.532227</td>\n",
       "    </tr>\n",
       "    <tr>\n",
       "      <th>8</th>\n",
       "      <td>0.564989</td>\n",
       "    </tr>\n",
       "    <tr>\n",
       "      <th>...</th>\n",
       "      <td>...</td>\n",
       "    </tr>\n",
       "    <tr>\n",
       "      <th>188</th>\n",
       "      <td>0.592291</td>\n",
       "    </tr>\n",
       "    <tr>\n",
       "      <th>190</th>\n",
       "      <td>0.590578</td>\n",
       "    </tr>\n",
       "    <tr>\n",
       "      <th>192</th>\n",
       "      <td>0.590899</td>\n",
       "    </tr>\n",
       "    <tr>\n",
       "      <th>194</th>\n",
       "      <td>0.591542</td>\n",
       "    </tr>\n",
       "    <tr>\n",
       "      <th>196</th>\n",
       "      <td>0.592505</td>\n",
       "    </tr>\n",
       "  </tbody>\n",
       "</table>\n",
       "<p>99 rows × 1 columns</p>\n",
       "</div>"
      ],
      "text/plain": [
       "     mean_test_score\n",
       "0           0.550535\n",
       "2           0.506424\n",
       "4           0.560385\n",
       "6           0.532227\n",
       "8           0.564989\n",
       "..               ...\n",
       "188         0.592291\n",
       "190         0.590578\n",
       "192         0.590899\n",
       "194         0.591542\n",
       "196         0.592505\n",
       "\n",
       "[99 rows x 1 columns]"
      ]
     },
     "execution_count": 326,
     "metadata": {},
     "output_type": "execute_result"
    }
   ],
   "source": [
    "pd.DataFrame(knn_grid.cv_results_)[['mean_test_score','param_n_neighbors']].iloc[::2,0:1:]"
   ]
  },
  {
   "cell_type": "code",
   "execution_count": 327,
   "id": "139ec979",
   "metadata": {},
   "outputs": [
    {
     "data": {
      "image/png": "[encoded data removed]",
      "text/plain": [
       "<Figure size 432x288 with 1 Axes>"
      ]
     },
     "metadata": {
      "needs_background": "light"
     },
     "output_type": "display_data"
    }
   ],
   "source": [
    "plt.plot(list(range(1, 100)),\n",
    "         pd.DataFrame(knn_grid.cv_results_)[['mean_test_score','param_n_neighbors']].iloc[::2,0:1:])\n",
    "plt.xlabel('Value of K for KNN')\n",
    "plt.ylabel('Cross-Validated Accuracy');"
   ]
  },
  {
   "cell_type": "code",
   "execution_count": 328,
   "id": "0994d683",
   "metadata": {
    "scrolled": true
   },
   "outputs": [
    {
     "name": "stdout",
     "output_type": "stream",
     "text": [
      "Best params:  {'n_neighbors': 89, 'weights': 'uniform'}\n",
      "Best estimator:  KNeighborsClassifier(n_neighbors=89)\n",
      "Best score:  0.5955032119914347\n"
     ]
    }
   ],
   "source": [
    "print(\"Best params: \", knn_grid.best_params_)\n",
    "print(\"Best estimator: \", knn_grid.best_estimator_)\n",
    "print(\"Best score: \", knn_grid.best_score_)"
   ]
  },
  {
   "cell_type": "markdown",
   "id": "5d6d8c7a",
   "metadata": {},
   "source": [
    "# KNN - pitch type"
   ]
  },
  {
   "cell_type": "code",
   "execution_count": 381,
   "id": "22e1e3fa",
   "metadata": {},
   "outputs": [],
   "source": [
    "#Standardize\n",
    "X = df_train[['b_count', 's_2', 'on_2b', 'on_3b', 'inning', 'left_batter',\n",
    "       'day_game', 'ahead', 'behind', 'tempature','last_fastball','last_b','last_s', 'last_pa_homerun']]\n",
    "y = df_train['pitch_type']\n",
    "scaler = StandardScaler()\n",
    "X_scaled = scaler.fit_transform(X)"
   ]
  },
  {
   "cell_type": "code",
   "execution_count": 382,
   "id": "ec2a19ab",
   "metadata": {},
   "outputs": [
    {
     "data": {
      "text/plain": [
       "array([[-0.84876287, -0.71316997, -0.38004206, ..., -0.67087823,\n",
       "        -1.07139755, -0.16665903],\n",
       "       [-0.84876287, -0.71316997, -0.38004206, ..., -0.67087823,\n",
       "         0.93336035, -0.16665903],\n",
       "       [-0.84876287,  1.40219027, -0.38004206, ..., -0.67087823,\n",
       "         0.93336035, -0.16665903],\n",
       "       ...,\n",
       "       [ 0.23670871,  1.40219027, -0.38004206, ..., -0.67087823,\n",
       "         0.93336035, -0.16665903],\n",
       "       [ 1.32218029,  1.40219027, -0.38004206, ...,  1.49058347,\n",
       "        -1.07139755, -0.16665903],\n",
       "       [-0.84876287, -0.71316997, -0.38004206, ..., -0.67087823,\n",
       "        -1.07139755, -0.16665903]])"
      ]
     },
     "execution_count": 382,
     "metadata": {},
     "output_type": "execute_result"
    }
   ],
   "source": [
    "X_scaled"
   ]
  },
  {
   "cell_type": "code",
   "execution_count": 383,
   "id": "5dec1964",
   "metadata": {},
   "outputs": [
    {
     "data": {
      "text/plain": [
       "0.881377095968605"
      ]
     },
     "execution_count": 383,
     "metadata": {},
     "output_type": "execute_result"
    }
   ],
   "source": [
    "knn = KNeighborsClassifier(n_neighbors=1)\n",
    "knn.fit(X_scaled, y)\n",
    "metrics.accuracy_score(y, knn.predict(X_scaled))"
   ]
  },
  {
   "cell_type": "code",
   "execution_count": 384,
   "id": "4778bf88",
   "metadata": {},
   "outputs": [
    {
     "name": "stdout",
     "output_type": "stream",
     "text": [
      "[0.46466809 0.45770878 0.44539615 0.39453961 0.40417559]\n"
     ]
    },
    {
     "data": {
      "text/plain": [
       "0.4332976445396145"
      ]
     },
     "execution_count": 384,
     "metadata": {},
     "output_type": "execute_result"
    }
   ],
   "source": [
    "cv_score =  cross_val_score(knn, X_scaled, y,cv=tscv, scoring='accuracy')\n",
    "print(cv_score)\n",
    "cv_score.mean()"
   ]
  },
  {
   "cell_type": "code",
   "execution_count": 385,
   "id": "59363133",
   "metadata": {},
   "outputs": [
    {
     "data": {
      "text/plain": [
       "0.555833036032822"
      ]
     },
     "execution_count": 385,
     "metadata": {},
     "output_type": "execute_result"
    }
   ],
   "source": [
    "knn = KNeighborsClassifier(n_neighbors=63)\n",
    "knn.fit(X_scaled, y)\n",
    "metrics.accuracy_score(y, knn.predict(X_scaled))"
   ]
  },
  {
   "cell_type": "code",
   "execution_count": 386,
   "id": "2f00d136",
   "metadata": {},
   "outputs": [
    {
     "name": "stdout",
     "output_type": "stream",
     "text": [
      "[0.60331906 0.54550321 0.55192719 0.44432548 0.50535332]\n"
     ]
    },
    {
     "data": {
      "text/plain": [
       "0.5300856531049251"
      ]
     },
     "execution_count": 386,
     "metadata": {},
     "output_type": "execute_result"
    }
   ],
   "source": [
    "cv_score =  cross_val_score(knn, X_scaled, y,cv=tscv, scoring='accuracy')\n",
    "print(cv_score)\n",
    "cv_score.mean()"
   ]
  },
  {
   "cell_type": "code",
   "execution_count": 161,
   "id": "f79cbbf3",
   "metadata": {},
   "outputs": [],
   "source": [
    "knn_grid = GridSearchCV(knn, dict(n_neighbors=list(range(1, 100)), \n",
    "                        weights=['uniform', 'distance']), cv=tscv, scoring='accuracy')"
   ]
  },
  {
   "cell_type": "code",
   "execution_count": 162,
   "id": "5275a5fc",
   "metadata": {},
   "outputs": [
    {
     "data": {
      "text/plain": [
       "GridSearchCV(cv=TimeSeriesSplit(gap=0, max_train_size=None, n_splits=5, test_size=None),\n",
       "             estimator=KNeighborsClassifier(n_neighbors=79),\n",
       "             param_grid={'n_neighbors': [1, 2, 3, 4, 5, 6, 7, 8, 9, 10, 11, 12,\n",
       "                                         13, 14, 15, 16, 17, 18, 19, 20, 21, 22,\n",
       "                                         23, 24, 25, 26, 27, 28, 29, 30, ...],\n",
       "                         'weights': ['uniform', 'distance']},\n",
       "             scoring='accuracy')"
      ]
     },
     "execution_count": 162,
     "metadata": {},
     "output_type": "execute_result"
    }
   ],
   "source": [
    "knn_grid.fit(X_scaled, y)"
   ]
  },
  {
   "cell_type": "code",
   "execution_count": 163,
   "id": "7cb44d65",
   "metadata": {},
   "outputs": [
    {
     "data": {
      "text/html": [
       "<div>\n",
       "<style scoped>\n",
       "    .dataframe tbody tr th:only-of-type {\n",
       "        vertical-align: middle;\n",
       "    }\n",
       "\n",
       "    .dataframe tbody tr th {\n",
       "        vertical-align: top;\n",
       "    }\n",
       "\n",
       "    .dataframe thead th {\n",
       "        text-align: right;\n",
       "    }\n",
       "</style>\n",
       "<table border=\"1\" class=\"dataframe\">\n",
       "  <thead>\n",
       "    <tr style=\"text-align: right;\">\n",
       "      <th></th>\n",
       "      <th>mean_fit_time</th>\n",
       "      <th>std_fit_time</th>\n",
       "      <th>mean_score_time</th>\n",
       "      <th>std_score_time</th>\n",
       "      <th>param_n_neighbors</th>\n",
       "      <th>param_weights</th>\n",
       "      <th>params</th>\n",
       "      <th>split0_test_score</th>\n",
       "      <th>split1_test_score</th>\n",
       "      <th>split2_test_score</th>\n",
       "      <th>split3_test_score</th>\n",
       "      <th>split4_test_score</th>\n",
       "      <th>mean_test_score</th>\n",
       "      <th>std_test_score</th>\n",
       "      <th>rank_test_score</th>\n",
       "    </tr>\n",
       "  </thead>\n",
       "  <tbody>\n",
       "    <tr>\n",
       "      <th>0</th>\n",
       "      <td>0.060837</td>\n",
       "      <td>0.035967</td>\n",
       "      <td>0.141836</td>\n",
       "      <td>0.033862</td>\n",
       "      <td>1</td>\n",
       "      <td>uniform</td>\n",
       "      <td>{'n_neighbors': 1, 'weights': 'uniform'}</td>\n",
       "      <td>0.464668</td>\n",
       "      <td>0.457709</td>\n",
       "      <td>0.445396</td>\n",
       "      <td>0.394540</td>\n",
       "      <td>0.404176</td>\n",
       "      <td>0.433298</td>\n",
       "      <td>0.028554</td>\n",
       "      <td>195</td>\n",
       "    </tr>\n",
       "    <tr>\n",
       "      <th>1</th>\n",
       "      <td>0.054726</td>\n",
       "      <td>0.040503</td>\n",
       "      <td>0.075505</td>\n",
       "      <td>0.024178</td>\n",
       "      <td>1</td>\n",
       "      <td>distance</td>\n",
       "      <td>{'n_neighbors': 1, 'weights': 'distance'}</td>\n",
       "      <td>0.464668</td>\n",
       "      <td>0.457709</td>\n",
       "      <td>0.445396</td>\n",
       "      <td>0.394540</td>\n",
       "      <td>0.404176</td>\n",
       "      <td>0.433298</td>\n",
       "      <td>0.028554</td>\n",
       "      <td>195</td>\n",
       "    </tr>\n",
       "    <tr>\n",
       "      <th>2</th>\n",
       "      <td>0.056149</td>\n",
       "      <td>0.047111</td>\n",
       "      <td>0.132332</td>\n",
       "      <td>0.027491</td>\n",
       "      <td>2</td>\n",
       "      <td>uniform</td>\n",
       "      <td>{'n_neighbors': 2, 'weights': 'uniform'}</td>\n",
       "      <td>0.435760</td>\n",
       "      <td>0.423983</td>\n",
       "      <td>0.405246</td>\n",
       "      <td>0.351713</td>\n",
       "      <td>0.364026</td>\n",
       "      <td>0.396146</td>\n",
       "      <td>0.032964</td>\n",
       "      <td>198</td>\n",
       "    </tr>\n",
       "    <tr>\n",
       "      <th>3</th>\n",
       "      <td>0.052666</td>\n",
       "      <td>0.040997</td>\n",
       "      <td>0.084049</td>\n",
       "      <td>0.030238</td>\n",
       "      <td>2</td>\n",
       "      <td>distance</td>\n",
       "      <td>{'n_neighbors': 2, 'weights': 'distance'}</td>\n",
       "      <td>0.456103</td>\n",
       "      <td>0.453426</td>\n",
       "      <td>0.437366</td>\n",
       "      <td>0.385439</td>\n",
       "      <td>0.389722</td>\n",
       "      <td>0.424411</td>\n",
       "      <td>0.030777</td>\n",
       "      <td>197</td>\n",
       "    </tr>\n",
       "    <tr>\n",
       "      <th>4</th>\n",
       "      <td>0.055605</td>\n",
       "      <td>0.044818</td>\n",
       "      <td>0.141446</td>\n",
       "      <td>0.031440</td>\n",
       "      <td>3</td>\n",
       "      <td>uniform</td>\n",
       "      <td>{'n_neighbors': 3, 'weights': 'uniform'}</td>\n",
       "      <td>0.490899</td>\n",
       "      <td>0.482334</td>\n",
       "      <td>0.449143</td>\n",
       "      <td>0.397216</td>\n",
       "      <td>0.398822</td>\n",
       "      <td>0.443683</td>\n",
       "      <td>0.039811</td>\n",
       "      <td>194</td>\n",
       "    </tr>\n",
       "  </tbody>\n",
       "</table>\n",
       "</div>"
      ],
      "text/plain": [
       "   mean_fit_time  std_fit_time  mean_score_time  std_score_time  \\\n",
       "0       0.060837      0.035967         0.141836        0.033862   \n",
       "1       0.054726      0.040503         0.075505        0.024178   \n",
       "2       0.056149      0.047111         0.132332        0.027491   \n",
       "3       0.052666      0.040997         0.084049        0.030238   \n",
       "4       0.055605      0.044818         0.141446        0.031440   \n",
       "\n",
       "  param_n_neighbors param_weights                                     params  \\\n",
       "0                 1       uniform   {'n_neighbors': 1, 'weights': 'uniform'}   \n",
       "1                 1      distance  {'n_neighbors': 1, 'weights': 'distance'}   \n",
       "2                 2       uniform   {'n_neighbors': 2, 'weights': 'uniform'}   \n",
       "3                 2      distance  {'n_neighbors': 2, 'weights': 'distance'}   \n",
       "4                 3       uniform   {'n_neighbors': 3, 'weights': 'uniform'}   \n",
       "\n",
       "   split0_test_score  split1_test_score  split2_test_score  split3_test_score  \\\n",
       "0           0.464668           0.457709           0.445396           0.394540   \n",
       "1           0.464668           0.457709           0.445396           0.394540   \n",
       "2           0.435760           0.423983           0.405246           0.351713   \n",
       "3           0.456103           0.453426           0.437366           0.385439   \n",
       "4           0.490899           0.482334           0.449143           0.397216   \n",
       "\n",
       "   split4_test_score  mean_test_score  std_test_score  rank_test_score  \n",
       "0           0.404176         0.433298        0.028554              195  \n",
       "1           0.404176         0.433298        0.028554              195  \n",
       "2           0.364026         0.396146        0.032964              198  \n",
       "3           0.389722         0.424411        0.030777              197  \n",
       "4           0.398822         0.443683        0.039811              194  "
      ]
     },
     "execution_count": 163,
     "metadata": {},
     "output_type": "execute_result"
    }
   ],
   "source": [
    "pd.DataFrame(knn_grid.cv_results_).head()"
   ]
  },
  {
   "cell_type": "code",
   "execution_count": 164,
   "id": "fd6130c5",
   "metadata": {},
   "outputs": [
    {
     "data": {
      "text/html": [
       "<div>\n",
       "<style scoped>\n",
       "    .dataframe tbody tr th:only-of-type {\n",
       "        vertical-align: middle;\n",
       "    }\n",
       "\n",
       "    .dataframe tbody tr th {\n",
       "        vertical-align: top;\n",
       "    }\n",
       "\n",
       "    .dataframe thead th {\n",
       "        text-align: right;\n",
       "    }\n",
       "</style>\n",
       "<table border=\"1\" class=\"dataframe\">\n",
       "  <thead>\n",
       "    <tr style=\"text-align: right;\">\n",
       "      <th></th>\n",
       "      <th>mean_test_score</th>\n",
       "    </tr>\n",
       "  </thead>\n",
       "  <tbody>\n",
       "    <tr>\n",
       "      <th>0</th>\n",
       "      <td>0.433298</td>\n",
       "    </tr>\n",
       "    <tr>\n",
       "      <th>2</th>\n",
       "      <td>0.396146</td>\n",
       "    </tr>\n",
       "    <tr>\n",
       "      <th>4</th>\n",
       "      <td>0.443683</td>\n",
       "    </tr>\n",
       "    <tr>\n",
       "      <th>6</th>\n",
       "      <td>0.462741</td>\n",
       "    </tr>\n",
       "    <tr>\n",
       "      <th>8</th>\n",
       "      <td>0.469593</td>\n",
       "    </tr>\n",
       "    <tr>\n",
       "      <th>...</th>\n",
       "      <td>...</td>\n",
       "    </tr>\n",
       "    <tr>\n",
       "      <th>188</th>\n",
       "      <td>0.523769</td>\n",
       "    </tr>\n",
       "    <tr>\n",
       "      <th>190</th>\n",
       "      <td>0.524411</td>\n",
       "    </tr>\n",
       "    <tr>\n",
       "      <th>192</th>\n",
       "      <td>0.523662</td>\n",
       "    </tr>\n",
       "    <tr>\n",
       "      <th>194</th>\n",
       "      <td>0.524732</td>\n",
       "    </tr>\n",
       "    <tr>\n",
       "      <th>196</th>\n",
       "      <td>0.524625</td>\n",
       "    </tr>\n",
       "  </tbody>\n",
       "</table>\n",
       "<p>99 rows × 1 columns</p>\n",
       "</div>"
      ],
      "text/plain": [
       "     mean_test_score\n",
       "0           0.433298\n",
       "2           0.396146\n",
       "4           0.443683\n",
       "6           0.462741\n",
       "8           0.469593\n",
       "..               ...\n",
       "188         0.523769\n",
       "190         0.524411\n",
       "192         0.523662\n",
       "194         0.524732\n",
       "196         0.524625\n",
       "\n",
       "[99 rows x 1 columns]"
      ]
     },
     "execution_count": 164,
     "metadata": {},
     "output_type": "execute_result"
    }
   ],
   "source": [
    "pd.DataFrame(knn_grid.cv_results_)[['mean_test_score','param_n_neighbors']].iloc[::2,0:1:]"
   ]
  },
  {
   "cell_type": "code",
   "execution_count": 165,
   "id": "644dcc85",
   "metadata": {},
   "outputs": [
    {
     "data": {
      "image/png": "[encoded data removed]",
      "text/plain": [
       "<Figure size 432x288 with 1 Axes>"
      ]
     },
     "metadata": {
      "needs_background": "light"
     },
     "output_type": "display_data"
    }
   ],
   "source": [
    "plt.plot(list(range(1, 100)),\n",
    "         pd.DataFrame(knn_grid.cv_results_)[['mean_test_score','param_n_neighbors']].iloc[::2,0:1:])\n",
    "plt.xlabel('Value of K for KNN')\n",
    "plt.ylabel('Cross-Validated Accuracy');"
   ]
  },
  {
   "cell_type": "code",
   "execution_count": 166,
   "id": "da6e2972",
   "metadata": {
    "scrolled": true
   },
   "outputs": [
    {
     "name": "stdout",
     "output_type": "stream",
     "text": [
      "Best params:  {'n_neighbors': 63, 'weights': 'uniform'}\n",
      "Best estimator:  KNeighborsClassifier(n_neighbors=63)\n",
      "Best score:  0.5300856531049251\n"
     ]
    }
   ],
   "source": [
    "print(\"Best params: \", knn_grid.best_params_)\n",
    "print(\"Best estimator: \", knn_grid.best_estimator_)\n",
    "print(\"Best score: \", knn_grid.best_score_)"
   ]
  },
  {
   "cell_type": "markdown",
   "id": "a0fc60cf",
   "metadata": {},
   "source": [
    "## tree"
   ]
  },
  {
   "cell_type": "code",
   "execution_count": 991,
   "id": "bd5a200f",
   "metadata": {},
   "outputs": [],
   "source": [
    "X = df_train[['b_count', 's_2', 'on_2b', 'on_3b', 'inning', 'left_batter',\n",
    "       'day_game', 'ahead', 'behind', 'tempature','last_fastball','last_b','last_s', 'last_pa_homerun']]\n",
    "y = df_train['fastball']"
   ]
  },
  {
   "cell_type": "code",
   "execution_count": 992,
   "id": "f5e2db83",
   "metadata": {
    "scrolled": true
   },
   "outputs": [
    {
     "data": {
      "text/plain": [
       "0.9110774170531574"
      ]
     },
     "execution_count": 992,
     "metadata": {},
     "output_type": "execute_result"
    }
   ],
   "source": [
    "randomforest = RandomForestClassifier(n_estimators=200, max_features='log2')\n",
    "randomforest.fit(X, y)\n",
    "randomforest.score(X,y)"
   ]
  },
  {
   "cell_type": "code",
   "execution_count": 993,
   "id": "2578c226",
   "metadata": {},
   "outputs": [
    {
     "name": "stdout",
     "output_type": "stream",
     "text": [
      "[0.57012848 0.57869379 0.57655246 0.55085653 0.56798715]\n"
     ]
    },
    {
     "data": {
      "text/plain": [
       "0.5688436830835117"
      ]
     },
     "execution_count": 993,
     "metadata": {},
     "output_type": "execute_result"
    }
   ],
   "source": [
    "cv_score = cross_val_score(randomforest, X, y,cv=tscv, scoring='accuracy')\n",
    "print(cv_score)\n",
    "cv_score.mean()"
   ]
  },
  {
   "cell_type": "code",
   "execution_count": 997,
   "id": "fcf44575",
   "metadata": {},
   "outputs": [],
   "source": [
    "X = df_train[['left_batter','day_game', 'b_1', 'b_2', 'b_3', 'last_b','last_fastball',\n",
    "              's_1', 's_2', 'after_4_inning', 'last_contact', 'last_pa_so','ahead',\n",
    "              'last_pa_long']]\n",
    "y = df_train['fastball']"
   ]
  },
  {
   "cell_type": "code",
   "execution_count": 998,
   "id": "5d54067c",
   "metadata": {},
   "outputs": [
    {
     "data": {
      "text/plain": [
       "0.6863182304673564"
      ]
     },
     "execution_count": 998,
     "metadata": {},
     "output_type": "execute_result"
    }
   ],
   "source": [
    "randomforest = RandomForestClassifier(n_estimators=400)\n",
    "randomforest.fit(X, y)\n",
    "randomforest.score(X,y)"
   ]
  },
  {
   "cell_type": "code",
   "execution_count": 999,
   "id": "ffbbcfe0",
   "metadata": {
    "scrolled": true
   },
   "outputs": [
    {
     "name": "stdout",
     "output_type": "stream",
     "text": [
      "[0.5754818  0.56905782 0.59743041 0.55995717 0.59154176]\n"
     ]
    },
    {
     "data": {
      "text/plain": [
       "0.578693790149893"
      ]
     },
     "execution_count": 999,
     "metadata": {},
     "output_type": "execute_result"
    }
   ],
   "source": [
    "cv_score = cross_val_score(randomforest, X, y,cv=tscv, scoring='accuracy')\n",
    "print(cv_score)\n",
    "cv_score.mean()"
   ]
  },
  {
   "cell_type": "code",
   "execution_count": 1189,
   "id": "e071f7b8",
   "metadata": {},
   "outputs": [],
   "source": [
    "X = df_train[['b_count', 's_count','outs', 'on_1b', 'on_2b', 'on_3b', 'left_batter', 'last_num',\n",
    "              'top', 'day_game', 'ahead', 'behind','last_fastball', 'last_b', 'tempature','diff','inning', \n",
    "              'last_s', 'last_pa_so',  'last_pa_out']]\n",
    "y = df_train['fastball']"
   ]
  },
  {
   "cell_type": "code",
   "execution_count": 1190,
   "id": "571ec150",
   "metadata": {},
   "outputs": [
    {
     "data": {
      "text/plain": [
       "0.9828754905458438"
      ]
     },
     "execution_count": 1190,
     "metadata": {},
     "output_type": "execute_result"
    }
   ],
   "source": [
    "randomforest = RandomForestClassifier(n_estimators=400, max_features='auto')\n",
    "randomforest.fit(X, y)\n",
    "randomforest.score(X,y)"
   ]
  },
  {
   "cell_type": "code",
   "execution_count": 1191,
   "id": "da7c3405",
   "metadata": {
    "scrolled": true
   },
   "outputs": [
    {
     "name": "stdout",
     "output_type": "stream",
     "text": [
      "[0.5990364  0.58672377 0.59368308 0.5637045  0.59100642]\n"
     ]
    },
    {
     "data": {
      "text/plain": [
       "0.586830835117773"
      ]
     },
     "execution_count": 1191,
     "metadata": {},
     "output_type": "execute_result"
    }
   ],
   "source": [
    "cv_score = cross_val_score(randomforest, X, y,cv=tscv, scoring='accuracy')\n",
    "print(cv_score)\n",
    "cv_score.mean()"
   ]
  },
  {
   "cell_type": "code",
   "execution_count": 1192,
   "id": "4c3acdb0",
   "metadata": {},
   "outputs": [
    {
     "data": {
      "text/plain": [
       "array([0.07572039, 0.06689632, 0.06366598, 0.02378312, 0.01689357,\n",
       "       0.01206173, 0.02571355, 0.12224679, 0.03421249, 0.03243723,\n",
       "       0.01552929, 0.01396557, 0.03277732, 0.02285091, 0.17126919,\n",
       "       0.08634932, 0.10959218, 0.0255326 , 0.02825543, 0.02024701])"
      ]
     },
     "execution_count": 1192,
     "metadata": {},
     "output_type": "execute_result"
    }
   ],
   "source": [
    "randomforest.feature_importances_"
   ]
  },
  {
   "cell_type": "code",
   "execution_count": 1193,
   "id": "b1995f6e",
   "metadata": {},
   "outputs": [
    {
     "data": {
      "image/png": "[encoded data removed]",
      "text/plain": [
       "<Figure size 432x288 with 1 Axes>"
      ]
     },
     "metadata": {
      "needs_background": "light"
     },
     "output_type": "display_data"
    }
   ],
   "source": [
    "forest_importances = pd.Series(randomforest.feature_importances_, index=X.columns)\n",
    "fig, ax = plt.subplots()\n",
    "forest_importances.plot.bar()\n",
    "ax.set_title(\"Feature importances using MDI\")\n",
    "ax.set_ylabel(\"Mean decrease in impurity\")\n",
    "fig.tight_layout();"
   ]
  },
  {
   "cell_type": "code",
   "execution_count": 1194,
   "id": "f5b6a989",
   "metadata": {},
   "outputs": [
    {
     "data": {
      "text/plain": [
       "<AxesSubplot:ylabel='feature'>"
      ]
     },
     "execution_count": 1194,
     "metadata": {},
     "output_type": "execute_result"
    },
    {
     "data": {
      "image/png": "[encoded data removed]",
      "text/plain": [
       "<Figure size 432x288 with 1 Axes>"
      ]
     },
     "metadata": {
      "needs_background": "light"
     },
     "output_type": "display_data"
    }
   ],
   "source": [
    "feat_imps = list(zip(X.columns,randomforest.feature_importances_))\n",
    "feat_imps = sorted(feat_imps, key = lambda x: x[1], reverse=False)\n",
    "feat_imps = pd.DataFrame(feat_imps, columns=['feature','importance'])\n",
    "\n",
    "feat_imps.plot(x='feature',y='importance',kind='barh')"
   ]
  },
  {
   "cell_type": "code",
   "execution_count": 271,
   "id": "78db7dcc",
   "metadata": {
    "scrolled": true
   },
   "outputs": [
    {
     "data": {
      "text/html": [
       "<div>\n",
       "<style scoped>\n",
       "    .dataframe tbody tr th:only-of-type {\n",
       "        vertical-align: middle;\n",
       "    }\n",
       "\n",
       "    .dataframe tbody tr th {\n",
       "        vertical-align: top;\n",
       "    }\n",
       "\n",
       "    .dataframe thead th {\n",
       "        text-align: right;\n",
       "    }\n",
       "</style>\n",
       "<table border=\"1\" class=\"dataframe\">\n",
       "  <thead>\n",
       "    <tr style=\"text-align: right;\">\n",
       "      <th></th>\n",
       "      <th>feature</th>\n",
       "      <th>importance</th>\n",
       "    </tr>\n",
       "  </thead>\n",
       "  <tbody>\n",
       "    <tr>\n",
       "      <th>18</th>\n",
       "      <td>tempature</td>\n",
       "      <td>0.214631</td>\n",
       "    </tr>\n",
       "    <tr>\n",
       "      <th>17</th>\n",
       "      <td>inning</td>\n",
       "      <td>0.135693</td>\n",
       "    </tr>\n",
       "    <tr>\n",
       "      <th>16</th>\n",
       "      <td>diff</td>\n",
       "      <td>0.098458</td>\n",
       "    </tr>\n",
       "    <tr>\n",
       "      <th>15</th>\n",
       "      <td>b_count</td>\n",
       "      <td>0.077225</td>\n",
       "    </tr>\n",
       "    <tr>\n",
       "      <th>14</th>\n",
       "      <td>outs</td>\n",
       "      <td>0.076910</td>\n",
       "    </tr>\n",
       "    <tr>\n",
       "      <th>13</th>\n",
       "      <td>s_count</td>\n",
       "      <td>0.065550</td>\n",
       "    </tr>\n",
       "    <tr>\n",
       "      <th>12</th>\n",
       "      <td>top</td>\n",
       "      <td>0.039357</td>\n",
       "    </tr>\n",
       "    <tr>\n",
       "      <th>11</th>\n",
       "      <td>day_game</td>\n",
       "      <td>0.036565</td>\n",
       "    </tr>\n",
       "    <tr>\n",
       "      <th>10</th>\n",
       "      <td>last_fastball</td>\n",
       "      <td>0.034721</td>\n",
       "    </tr>\n",
       "    <tr>\n",
       "      <th>9</th>\n",
       "      <td>last_pa_so</td>\n",
       "      <td>0.033708</td>\n",
       "    </tr>\n",
       "    <tr>\n",
       "      <th>8</th>\n",
       "      <td>on_1b</td>\n",
       "      <td>0.027235</td>\n",
       "    </tr>\n",
       "    <tr>\n",
       "      <th>7</th>\n",
       "      <td>left_batter</td>\n",
       "      <td>0.026606</td>\n",
       "    </tr>\n",
       "    <tr>\n",
       "      <th>6</th>\n",
       "      <td>last_s</td>\n",
       "      <td>0.024732</td>\n",
       "    </tr>\n",
       "    <tr>\n",
       "      <th>5</th>\n",
       "      <td>last_pa_out</td>\n",
       "      <td>0.023082</td>\n",
       "    </tr>\n",
       "    <tr>\n",
       "      <th>4</th>\n",
       "      <td>last_b</td>\n",
       "      <td>0.021965</td>\n",
       "    </tr>\n",
       "    <tr>\n",
       "      <th>3</th>\n",
       "      <td>on_2b</td>\n",
       "      <td>0.018401</td>\n",
       "    </tr>\n",
       "    <tr>\n",
       "      <th>2</th>\n",
       "      <td>ahead</td>\n",
       "      <td>0.016294</td>\n",
       "    </tr>\n",
       "    <tr>\n",
       "      <th>1</th>\n",
       "      <td>behind</td>\n",
       "      <td>0.015046</td>\n",
       "    </tr>\n",
       "    <tr>\n",
       "      <th>0</th>\n",
       "      <td>on_3b</td>\n",
       "      <td>0.013820</td>\n",
       "    </tr>\n",
       "  </tbody>\n",
       "</table>\n",
       "</div>"
      ],
      "text/plain": [
       "          feature  importance\n",
       "18      tempature    0.214631\n",
       "17         inning    0.135693\n",
       "16           diff    0.098458\n",
       "15        b_count    0.077225\n",
       "14           outs    0.076910\n",
       "13        s_count    0.065550\n",
       "12            top    0.039357\n",
       "11       day_game    0.036565\n",
       "10  last_fastball    0.034721\n",
       "9      last_pa_so    0.033708\n",
       "8           on_1b    0.027235\n",
       "7     left_batter    0.026606\n",
       "6          last_s    0.024732\n",
       "5     last_pa_out    0.023082\n",
       "4          last_b    0.021965\n",
       "3           on_2b    0.018401\n",
       "2           ahead    0.016294\n",
       "1          behind    0.015046\n",
       "0           on_3b    0.013820"
      ]
     },
     "execution_count": 271,
     "metadata": {},
     "output_type": "execute_result"
    }
   ],
   "source": [
    "feat_imps.sort_index(ascending=False)"
   ]
  },
  {
   "cell_type": "code",
   "execution_count": 1102,
   "id": "23d29e1e",
   "metadata": {},
   "outputs": [],
   "source": [
    "X = df_train[['on_1b', 'on_2b', 'on_3b', 'left_batter',\n",
    "       'top','day_game', 'b_1', 'b_2', 'b_3',\n",
    "       's_1', 's_2', 'o_1', 'o_2', 'after_4_inning',\n",
    "       'first2ball', 'tie', 'ahead', 'behind','more_than_70', 'last_fastball', \n",
    "       'last_b', 'last_contact','last_s',\n",
    "       'last_pa_long', 'last_pa_so', 'last_pa_out']]\n",
    "y = df_train['fastball']"
   ]
  },
  {
   "cell_type": "code",
   "execution_count": 1103,
   "id": "44183de2",
   "metadata": {},
   "outputs": [
    {
     "data": {
      "text/plain": [
       "0.9019800214056368"
      ]
     },
     "execution_count": 1103,
     "metadata": {},
     "output_type": "execute_result"
    }
   ],
   "source": [
    "randomforest = RandomForestClassifier(n_estimators=300, max_features='auto')\n",
    "randomforest.fit(X, y)\n",
    "randomforest.score(X,y)"
   ]
  },
  {
   "cell_type": "code",
   "execution_count": 1104,
   "id": "9fb0d039",
   "metadata": {},
   "outputs": [
    {
     "name": "stdout",
     "output_type": "stream",
     "text": [
      "[0.59154176 0.58190578 0.58511777 0.5487152  0.58511777]\n"
     ]
    },
    {
     "data": {
      "text/plain": [
       "0.5784796573875803"
      ]
     },
     "execution_count": 1104,
     "metadata": {},
     "output_type": "execute_result"
    }
   ],
   "source": [
    "cv_score = cross_val_score(randomforest, X, y,cv=tscv, scoring='accuracy')\n",
    "print(cv_score)\n",
    "cv_score.mean()"
   ]
  },
  {
   "cell_type": "code",
   "execution_count": 1100,
   "id": "57d5f5a9",
   "metadata": {},
   "outputs": [
    {
     "data": {
      "text/plain": [
       "<AxesSubplot:ylabel='feature'>"
      ]
     },
     "execution_count": 1100,
     "metadata": {},
     "output_type": "execute_result"
    },
    {
     "data": {
      "image/png": "[encoded data removed]",
      "text/plain": [
       "<Figure size 432x288 with 1 Axes>"
      ]
     },
     "metadata": {
      "needs_background": "light"
     },
     "output_type": "display_data"
    }
   ],
   "source": [
    "feat_imps = list(zip(X.columns,randomforest.feature_importances_))\n",
    "feat_imps = sorted(feat_imps, key = lambda x: x[1], reverse=False)\n",
    "feat_imps = pd.DataFrame(feat_imps, columns=['feature','importance'])\n",
    "\n",
    "feat_imps.plot(x='feature',y='importance',kind='barh')"
   ]
  },
  {
   "cell_type": "code",
   "execution_count": 1101,
   "id": "d5f9f736",
   "metadata": {},
   "outputs": [
    {
     "name": "stdout",
     "output_type": "stream",
     "text": [
      "{'max_features': 'auto', 'n_estimators': 300}\n"
     ]
    }
   ],
   "source": [
    "rfc = RandomForestClassifier() \n",
    "param_grid = {'n_estimators': list(range(50,501,50)),'max_features': ['auto', 'sqrt', 'log2']}\n",
    "CV_rfc = GridSearchCV(estimator=rfc, param_grid=param_grid, cv=tscv)\n",
    "CV_rfc.fit(X, y)\n",
    "print(CV_rfc.best_params_)"
   ]
  },
  {
   "cell_type": "code",
   "execution_count": 433,
   "id": "c1d5043a",
   "metadata": {
    "scrolled": true
   },
   "outputs": [
    {
     "data": {
      "text/html": [
       "<div>\n",
       "<style scoped>\n",
       "    .dataframe tbody tr th:only-of-type {\n",
       "        vertical-align: middle;\n",
       "    }\n",
       "\n",
       "    .dataframe tbody tr th {\n",
       "        vertical-align: top;\n",
       "    }\n",
       "\n",
       "    .dataframe thead th {\n",
       "        text-align: right;\n",
       "    }\n",
       "</style>\n",
       "<table border=\"1\" class=\"dataframe\">\n",
       "  <thead>\n",
       "    <tr style=\"text-align: right;\">\n",
       "      <th></th>\n",
       "      <th>mean_fit_time</th>\n",
       "      <th>std_fit_time</th>\n",
       "      <th>mean_score_time</th>\n",
       "      <th>std_score_time</th>\n",
       "      <th>param_max_features</th>\n",
       "      <th>param_n_estimators</th>\n",
       "      <th>params</th>\n",
       "      <th>split0_test_score</th>\n",
       "      <th>split1_test_score</th>\n",
       "      <th>split2_test_score</th>\n",
       "      <th>split3_test_score</th>\n",
       "      <th>split4_test_score</th>\n",
       "      <th>mean_test_score</th>\n",
       "      <th>std_test_score</th>\n",
       "      <th>rank_test_score</th>\n",
       "    </tr>\n",
       "  </thead>\n",
       "  <tbody>\n",
       "    <tr>\n",
       "      <th>0</th>\n",
       "      <td>0.310565</td>\n",
       "      <td>0.113226</td>\n",
       "      <td>0.022534</td>\n",
       "      <td>0.003089</td>\n",
       "      <td>auto</td>\n",
       "      <td>50</td>\n",
       "      <td>{'max_features': 'auto', 'n_estimators': 50}</td>\n",
       "      <td>0.599036</td>\n",
       "      <td>0.583512</td>\n",
       "      <td>0.584047</td>\n",
       "      <td>0.554604</td>\n",
       "      <td>0.581370</td>\n",
       "      <td>0.580514</td>\n",
       "      <td>0.014399</td>\n",
       "      <td>10</td>\n",
       "    </tr>\n",
       "    <tr>\n",
       "      <th>1</th>\n",
       "      <td>0.619333</td>\n",
       "      <td>0.167396</td>\n",
       "      <td>0.058764</td>\n",
       "      <td>0.033853</td>\n",
       "      <td>auto</td>\n",
       "      <td>100</td>\n",
       "      <td>{'max_features': 'auto', 'n_estimators': 100}</td>\n",
       "      <td>0.591006</td>\n",
       "      <td>0.582976</td>\n",
       "      <td>0.580835</td>\n",
       "      <td>0.564240</td>\n",
       "      <td>0.592612</td>\n",
       "      <td>0.582334</td>\n",
       "      <td>0.010109</td>\n",
       "      <td>7</td>\n",
       "    </tr>\n",
       "    <tr>\n",
       "      <th>2</th>\n",
       "      <td>1.372577</td>\n",
       "      <td>0.759921</td>\n",
       "      <td>0.093591</td>\n",
       "      <td>0.032799</td>\n",
       "      <td>auto</td>\n",
       "      <td>200</td>\n",
       "      <td>{'max_features': 'auto', 'n_estimators': 200}</td>\n",
       "      <td>0.593683</td>\n",
       "      <td>0.596360</td>\n",
       "      <td>0.582976</td>\n",
       "      <td>0.559422</td>\n",
       "      <td>0.583512</td>\n",
       "      <td>0.583191</td>\n",
       "      <td>0.013028</td>\n",
       "      <td>5</td>\n",
       "    </tr>\n",
       "    <tr>\n",
       "      <th>3</th>\n",
       "      <td>2.966293</td>\n",
       "      <td>1.058058</td>\n",
       "      <td>0.215345</td>\n",
       "      <td>0.063936</td>\n",
       "      <td>auto</td>\n",
       "      <td>400</td>\n",
       "      <td>{'max_features': 'auto', 'n_estimators': 400}</td>\n",
       "      <td>0.597430</td>\n",
       "      <td>0.591006</td>\n",
       "      <td>0.594218</td>\n",
       "      <td>0.561563</td>\n",
       "      <td>0.587259</td>\n",
       "      <td>0.586296</td>\n",
       "      <td>0.012818</td>\n",
       "      <td>2</td>\n",
       "    </tr>\n",
       "    <tr>\n",
       "      <th>4</th>\n",
       "      <td>0.347618</td>\n",
       "      <td>0.195025</td>\n",
       "      <td>0.030936</td>\n",
       "      <td>0.014767</td>\n",
       "      <td>sqrt</td>\n",
       "      <td>50</td>\n",
       "      <td>{'max_features': 'sqrt', 'n_estimators': 50}</td>\n",
       "      <td>0.592077</td>\n",
       "      <td>0.577623</td>\n",
       "      <td>0.592612</td>\n",
       "      <td>0.558887</td>\n",
       "      <td>0.592077</td>\n",
       "      <td>0.582655</td>\n",
       "      <td>0.013168</td>\n",
       "      <td>6</td>\n",
       "    </tr>\n",
       "    <tr>\n",
       "      <th>5</th>\n",
       "      <td>0.751442</td>\n",
       "      <td>0.271762</td>\n",
       "      <td>0.061861</td>\n",
       "      <td>0.027751</td>\n",
       "      <td>sqrt</td>\n",
       "      <td>100</td>\n",
       "      <td>{'max_features': 'sqrt', 'n_estimators': 100}</td>\n",
       "      <td>0.594754</td>\n",
       "      <td>0.584047</td>\n",
       "      <td>0.590471</td>\n",
       "      <td>0.547645</td>\n",
       "      <td>0.582976</td>\n",
       "      <td>0.579979</td>\n",
       "      <td>0.016730</td>\n",
       "      <td>11</td>\n",
       "    </tr>\n",
       "    <tr>\n",
       "      <th>6</th>\n",
       "      <td>1.344366</td>\n",
       "      <td>0.568938</td>\n",
       "      <td>0.095336</td>\n",
       "      <td>0.026940</td>\n",
       "      <td>sqrt</td>\n",
       "      <td>200</td>\n",
       "      <td>{'max_features': 'sqrt', 'n_estimators': 200}</td>\n",
       "      <td>0.595289</td>\n",
       "      <td>0.579764</td>\n",
       "      <td>0.587259</td>\n",
       "      <td>0.554069</td>\n",
       "      <td>0.588865</td>\n",
       "      <td>0.581049</td>\n",
       "      <td>0.014367</td>\n",
       "      <td>9</td>\n",
       "    </tr>\n",
       "    <tr>\n",
       "      <th>7</th>\n",
       "      <td>2.671186</td>\n",
       "      <td>0.748278</td>\n",
       "      <td>0.214334</td>\n",
       "      <td>0.060014</td>\n",
       "      <td>sqrt</td>\n",
       "      <td>400</td>\n",
       "      <td>{'max_features': 'sqrt', 'n_estimators': 400}</td>\n",
       "      <td>0.598501</td>\n",
       "      <td>0.586188</td>\n",
       "      <td>0.589936</td>\n",
       "      <td>0.554604</td>\n",
       "      <td>0.589936</td>\n",
       "      <td>0.583833</td>\n",
       "      <td>0.015163</td>\n",
       "      <td>4</td>\n",
       "    </tr>\n",
       "    <tr>\n",
       "      <th>8</th>\n",
       "      <td>0.351715</td>\n",
       "      <td>0.220202</td>\n",
       "      <td>0.021495</td>\n",
       "      <td>0.002111</td>\n",
       "      <td>log2</td>\n",
       "      <td>50</td>\n",
       "      <td>{'max_features': 'log2', 'n_estimators': 50}</td>\n",
       "      <td>0.587794</td>\n",
       "      <td>0.584582</td>\n",
       "      <td>0.579764</td>\n",
       "      <td>0.555139</td>\n",
       "      <td>0.582441</td>\n",
       "      <td>0.577944</td>\n",
       "      <td>0.011702</td>\n",
       "      <td>12</td>\n",
       "    </tr>\n",
       "    <tr>\n",
       "      <th>9</th>\n",
       "      <td>0.718826</td>\n",
       "      <td>0.255056</td>\n",
       "      <td>0.067445</td>\n",
       "      <td>0.038417</td>\n",
       "      <td>log2</td>\n",
       "      <td>100</td>\n",
       "      <td>{'max_features': 'log2', 'n_estimators': 100}</td>\n",
       "      <td>0.598501</td>\n",
       "      <td>0.589400</td>\n",
       "      <td>0.593148</td>\n",
       "      <td>0.553533</td>\n",
       "      <td>0.586724</td>\n",
       "      <td>0.584261</td>\n",
       "      <td>0.015865</td>\n",
       "      <td>3</td>\n",
       "    </tr>\n",
       "    <tr>\n",
       "      <th>10</th>\n",
       "      <td>1.146244</td>\n",
       "      <td>0.421201</td>\n",
       "      <td>0.081737</td>\n",
       "      <td>0.011417</td>\n",
       "      <td>log2</td>\n",
       "      <td>200</td>\n",
       "      <td>{'max_features': 'log2', 'n_estimators': 200}</td>\n",
       "      <td>0.605460</td>\n",
       "      <td>0.580835</td>\n",
       "      <td>0.586188</td>\n",
       "      <td>0.554604</td>\n",
       "      <td>0.582441</td>\n",
       "      <td>0.581906</td>\n",
       "      <td>0.016248</td>\n",
       "      <td>8</td>\n",
       "    </tr>\n",
       "    <tr>\n",
       "      <th>11</th>\n",
       "      <td>2.288673</td>\n",
       "      <td>0.837446</td>\n",
       "      <td>0.163434</td>\n",
       "      <td>0.018978</td>\n",
       "      <td>log2</td>\n",
       "      <td>400</td>\n",
       "      <td>{'max_features': 'log2', 'n_estimators': 400}</td>\n",
       "      <td>0.595824</td>\n",
       "      <td>0.590471</td>\n",
       "      <td>0.589400</td>\n",
       "      <td>0.559422</td>\n",
       "      <td>0.597430</td>\n",
       "      <td>0.586510</td>\n",
       "      <td>0.013884</td>\n",
       "      <td>1</td>\n",
       "    </tr>\n",
       "  </tbody>\n",
       "</table>\n",
       "</div>"
      ],
      "text/plain": [
       "    mean_fit_time  std_fit_time  mean_score_time  std_score_time  \\\n",
       "0        0.310565      0.113226         0.022534        0.003089   \n",
       "1        0.619333      0.167396         0.058764        0.033853   \n",
       "2        1.372577      0.759921         0.093591        0.032799   \n",
       "3        2.966293      1.058058         0.215345        0.063936   \n",
       "4        0.347618      0.195025         0.030936        0.014767   \n",
       "5        0.751442      0.271762         0.061861        0.027751   \n",
       "6        1.344366      0.568938         0.095336        0.026940   \n",
       "7        2.671186      0.748278         0.214334        0.060014   \n",
       "8        0.351715      0.220202         0.021495        0.002111   \n",
       "9        0.718826      0.255056         0.067445        0.038417   \n",
       "10       1.146244      0.421201         0.081737        0.011417   \n",
       "11       2.288673      0.837446         0.163434        0.018978   \n",
       "\n",
       "   param_max_features param_n_estimators  \\\n",
       "0                auto                 50   \n",
       "1                auto                100   \n",
       "2                auto                200   \n",
       "3                auto                400   \n",
       "4                sqrt                 50   \n",
       "5                sqrt                100   \n",
       "6                sqrt                200   \n",
       "7                sqrt                400   \n",
       "8                log2                 50   \n",
       "9                log2                100   \n",
       "10               log2                200   \n",
       "11               log2                400   \n",
       "\n",
       "                                           params  split0_test_score  \\\n",
       "0    {'max_features': 'auto', 'n_estimators': 50}           0.599036   \n",
       "1   {'max_features': 'auto', 'n_estimators': 100}           0.591006   \n",
       "2   {'max_features': 'auto', 'n_estimators': 200}           0.593683   \n",
       "3   {'max_features': 'auto', 'n_estimators': 400}           0.597430   \n",
       "4    {'max_features': 'sqrt', 'n_estimators': 50}           0.592077   \n",
       "5   {'max_features': 'sqrt', 'n_estimators': 100}           0.594754   \n",
       "6   {'max_features': 'sqrt', 'n_estimators': 200}           0.595289   \n",
       "7   {'max_features': 'sqrt', 'n_estimators': 400}           0.598501   \n",
       "8    {'max_features': 'log2', 'n_estimators': 50}           0.587794   \n",
       "9   {'max_features': 'log2', 'n_estimators': 100}           0.598501   \n",
       "10  {'max_features': 'log2', 'n_estimators': 200}           0.605460   \n",
       "11  {'max_features': 'log2', 'n_estimators': 400}           0.595824   \n",
       "\n",
       "    split1_test_score  split2_test_score  split3_test_score  \\\n",
       "0            0.583512           0.584047           0.554604   \n",
       "1            0.582976           0.580835           0.564240   \n",
       "2            0.596360           0.582976           0.559422   \n",
       "3            0.591006           0.594218           0.561563   \n",
       "4            0.577623           0.592612           0.558887   \n",
       "5            0.584047           0.590471           0.547645   \n",
       "6            0.579764           0.587259           0.554069   \n",
       "7            0.586188           0.589936           0.554604   \n",
       "8            0.584582           0.579764           0.555139   \n",
       "9            0.589400           0.593148           0.553533   \n",
       "10           0.580835           0.586188           0.554604   \n",
       "11           0.590471           0.589400           0.559422   \n",
       "\n",
       "    split4_test_score  mean_test_score  std_test_score  rank_test_score  \n",
       "0            0.581370         0.580514        0.014399               10  \n",
       "1            0.592612         0.582334        0.010109                7  \n",
       "2            0.583512         0.583191        0.013028                5  \n",
       "3            0.587259         0.586296        0.012818                2  \n",
       "4            0.592077         0.582655        0.013168                6  \n",
       "5            0.582976         0.579979        0.016730               11  \n",
       "6            0.588865         0.581049        0.014367                9  \n",
       "7            0.589936         0.583833        0.015163                4  \n",
       "8            0.582441         0.577944        0.011702               12  \n",
       "9            0.586724         0.584261        0.015865                3  \n",
       "10           0.582441         0.581906        0.016248                8  \n",
       "11           0.597430         0.586510        0.013884                1  "
      ]
     },
     "execution_count": 433,
     "metadata": {},
     "output_type": "execute_result"
    }
   ],
   "source": [
    "pd.DataFrame(CV_rfc.cv_results_)"
   ]
  },
  {
   "cell_type": "code",
   "execution_count": 1291,
   "id": "69c742d5",
   "metadata": {},
   "outputs": [
    {
     "data": {
      "text/plain": [
       "Index(['pitch_type', 'fastball', 'start_speed', 'zone', 'code', 'type',\n",
       "       'b_score', 'p_score', 'ab_id', 'pitch_num', 'b_count', 's_count',\n",
       "       'outs', 'on_1b', 'on_2b', 'on_3b', 'event', 'inning', 'left_batter',\n",
       "       'top', 'weather', 'start_time', 'year', 'day_game', 'b_0', 'b_1', 'b_2',\n",
       "       'b_3', 's_0', 's_1', 's_2', 'o_0', 'o_1', 'o_2', 'after_4_inning',\n",
       "       'after_5_inning', 'first2ball', 'abs_diff', 'diff', 'tie', 'ahead',\n",
       "       'behind', 'tempature', 'more_than_70', 'last_pitch_type',\n",
       "       'last_fastball', 'last_code', 'last_type', 'last_b', 'last_s',\n",
       "       'last_inplay', 'last_contact', 'last_pitch', 'last_pa', 'last_num',\n",
       "       'game_pitch', 'last_over_8', 'over_30_pitches', 'last_pa_homerun',\n",
       "       'last_pa_double_triple', 'last_pa_long', 'last_pa_so', 'last_pa_bb',\n",
       "       'last_pa_dp', 'last_pa_out'],\n",
       "      dtype='object')"
      ]
     },
     "execution_count": 1291,
     "metadata": {},
     "output_type": "execute_result"
    }
   ],
   "source": [
    "df_train.columns"
   ]
  },
  {
   "cell_type": "code",
   "execution_count": 1292,
   "id": "a4adaf92",
   "metadata": {},
   "outputs": [],
   "source": [
    "X = df_train[['b_score', 'p_score', 'pitch_num', 'b_count', 's_count',\n",
    "       'outs', 'on_1b', 'on_2b', 'on_3b', 'inning', 'left_batter',\n",
    "       'top', 'day_game', 'b_0', 'b_1', 'b_2','b_3', 's_0', 's_1', 's_2', 'o_0', 'o_1', 'o_2', \n",
    "       'after_4_inning', 'after_5_inning','first2ball', 'abs_diff', 'diff', 'tie', 'ahead', 'behind', \n",
    "       'tempature','more_than_70', 'last_fastball', 'last_b', 'last_s', 'last_inplay', 'last_contact',\n",
    "       'last_num', 'game_pitch', 'last_over_8','over_30_pitches', 'last_pa_homerun', 'last_pa_double_triple',\n",
    "       'last_pa_long', 'last_pa_so', 'last_pa_bb', 'last_pa_dp','last_pa_out']]\n",
    "y = df_train['fastball']"
   ]
  },
  {
   "cell_type": "code",
   "execution_count": 1293,
   "id": "3f415379",
   "metadata": {},
   "outputs": [
    {
     "data": {
      "text/plain": [
       "0.999910809846593"
      ]
     },
     "execution_count": 1293,
     "metadata": {},
     "output_type": "execute_result"
    }
   ],
   "source": [
    "randomforest = RandomForestClassifier(n_estimators=250, max_features='log2')\n",
    "randomforest.fit(X, y)\n",
    "randomforest.score(X,y)"
   ]
  },
  {
   "cell_type": "code",
   "execution_count": 1294,
   "id": "44dd59bd",
   "metadata": {},
   "outputs": [
    {
     "name": "stdout",
     "output_type": "stream",
     "text": [
      "[0.60653105 0.59154176 0.58297645 0.55835118 0.59421842]\n"
     ]
    },
    {
     "data": {
      "text/plain": [
       "0.5867237687366167"
      ]
     },
     "execution_count": 1294,
     "metadata": {},
     "output_type": "execute_result"
    }
   ],
   "source": [
    "cv_score = cross_val_score(randomforest, X, y,cv=tscv, scoring='accuracy')\n",
    "print(cv_score)\n",
    "cv_score.mean()"
   ]
  },
  {
   "cell_type": "code",
   "execution_count": 1295,
   "id": "0923eb32",
   "metadata": {},
   "outputs": [
    {
     "data": {
      "text/plain": [
       "<AxesSubplot:ylabel='feature'>"
      ]
     },
     "execution_count": 1295,
     "metadata": {},
     "output_type": "execute_result"
    },
    {
     "data": {
      "image/png": "[encoded data removed]",
      "text/plain": [
       "<Figure size 720x1080 with 1 Axes>"
      ]
     },
     "metadata": {
      "needs_background": "light"
     },
     "output_type": "display_data"
    }
   ],
   "source": [
    "feat_imps = list(zip(X.columns,randomforest.feature_importances_))\n",
    "feat_imps = sorted(feat_imps, key = lambda x: x[1], reverse=False)\n",
    "feat_imps = pd.DataFrame(feat_imps, columns=['feature','importance'])\n",
    "\n",
    "feat_imps.plot(x='feature',y='importance',kind='barh',figsize=(10,15))"
   ]
  },
  {
   "cell_type": "code",
   "execution_count": 1271,
   "id": "ef686230",
   "metadata": {},
   "outputs": [
    {
     "name": "stdout",
     "output_type": "stream",
     "text": [
      "{'max_features': 'log2', 'n_estimators': 250}\n"
     ]
    }
   ],
   "source": [
    "rfc = RandomForestClassifier() \n",
    "param_grid = {'n_estimators': list(range(50,501,50)),'max_features': ['auto', 'sqrt', 'log2']}\n",
    "CV_rfc = GridSearchCV(estimator=rfc, param_grid=param_grid, cv=tscv)\n",
    "CV_rfc.fit(X, y)\n",
    "print(CV_rfc.best_params_)"
   ]
  },
  {
   "cell_type": "code",
   "execution_count": 1307,
   "id": "73a725fd",
   "metadata": {},
   "outputs": [],
   "source": [
    "X = df_train[['on_1b', 'on_2b', 'on_3b', 'left_batter','top', 'day_game', 'b_0','b_1', 'b_2', 'b_3',\n",
    "              's_0', 's_1', 's_2', 'o_0', 'o_1', 'o_2', 'after_4_inning', 'after_5_inning','first2ball', \n",
    "              'tie', 'ahead', 'behind', 'more_than_70', 'last_fastball', 'last_b', 'last_s', 'last_inplay', \n",
    "              'last_contact','last_over_8','over_30_pitches', 'last_pa_homerun', 'last_pa_double_triple',\n",
    "              'last_pa_long', 'last_pa_so', 'last_pa_bb', 'last_pa_dp','last_pa_out']]\n",
    "y = df_train['fastball']"
   ]
  },
  {
   "cell_type": "code",
   "execution_count": 1308,
   "id": "4ec2653d",
   "metadata": {},
   "outputs": [
    {
     "data": {
      "text/plain": [
       "0.9283803068141278"
      ]
     },
     "execution_count": 1308,
     "metadata": {},
     "output_type": "execute_result"
    }
   ],
   "source": [
    "randomforest = RandomForestClassifier(n_estimators=500, max_features='log2')\n",
    "randomforest.fit(X, y)\n",
    "randomforest.score(X,y)"
   ]
  },
  {
   "cell_type": "code",
   "execution_count": 1309,
   "id": "20ecf340",
   "metadata": {},
   "outputs": [
    {
     "name": "stdout",
     "output_type": "stream",
     "text": [
      "[0.59047109 0.58029979 0.57815846 0.54925054 0.57976445]\n"
     ]
    },
    {
     "data": {
      "text/plain": [
       "0.5755888650963599"
      ]
     },
     "execution_count": 1309,
     "metadata": {},
     "output_type": "execute_result"
    }
   ],
   "source": [
    "cv_score = cross_val_score(randomforest, X, y,cv=tscv, scoring='accuracy')\n",
    "print(cv_score)\n",
    "cv_score.mean()"
   ]
  },
  {
   "cell_type": "code",
   "execution_count": 1310,
   "id": "d92abd2a",
   "metadata": {
    "scrolled": true
   },
   "outputs": [
    {
     "data": {
      "text/plain": [
       "<AxesSubplot:ylabel='feature'>"
      ]
     },
     "execution_count": 1310,
     "metadata": {},
     "output_type": "execute_result"
    },
    {
     "data": {
      "image/png": "[encoded data removed]",
      "text/plain": [
       "<Figure size 720x1080 with 1 Axes>"
      ]
     },
     "metadata": {
      "needs_background": "light"
     },
     "output_type": "display_data"
    }
   ],
   "source": [
    "feat_imps = list(zip(X.columns,randomforest.feature_importances_))\n",
    "feat_imps = sorted(feat_imps, key = lambda x: x[1], reverse=False)\n",
    "feat_imps = pd.DataFrame(feat_imps, columns=['feature','importance'])\n",
    "\n",
    "feat_imps.plot(x='feature',y='importance',kind='barh',figsize=(10,15))"
   ]
  },
  {
   "cell_type": "code",
   "execution_count": 1305,
   "id": "a1af37ab",
   "metadata": {},
   "outputs": [
    {
     "name": "stdout",
     "output_type": "stream",
     "text": [
      "{'max_features': 'log2', 'n_estimators': 500}\n"
     ]
    }
   ],
   "source": [
    "rfc = RandomForestClassifier() \n",
    "param_grid = {'n_estimators': list(range(50,501,50)),'max_features': ['sqrt', 'log2']}\n",
    "CV_rfc = GridSearchCV(estimator=rfc, param_grid=param_grid, cv=tscv)\n",
    "CV_rfc.fit(X, y)\n",
    "print(CV_rfc.best_params_)"
   ]
  },
  {
   "cell_type": "code",
   "execution_count": 1705,
   "id": "5ce8c9bc",
   "metadata": {},
   "outputs": [],
   "source": [
    "X = df_train[['on_1b', 'on_2b', 'on_3b', 'left_batter','top', 'day_game', 'b_0','b_1', 'b_2', 'b_3',\n",
    "              's_0', 's_1', 's_2', 'o_0', 'o_1', 'o_2', 'after_4_inning', 'after_5_inning','first2ball', \n",
    "              'tie', 'ahead', 'behind', 'more_than_70', 'last_fastball', 'last_b', 'last_s', 'last_inplay', \n",
    "              'last_contact','last_over_8','over_30_pitches', 'last_pa_homerun', 'last_pa_double_triple',\n",
    "              'last_pa_long', 'last_pa_so', 'last_pa_bb', 'last_pa_dp','last_pa_out']]\n",
    "y = df_train['fastball']"
   ]
  },
  {
   "cell_type": "code",
   "execution_count": 1706,
   "id": "a246e2ca",
   "metadata": {},
   "outputs": [
    {
     "data": {
      "text/plain": [
       "0.6267392079914378"
      ]
     },
     "execution_count": 1706,
     "metadata": {},
     "output_type": "execute_result"
    }
   ],
   "source": [
    "randomforest = RandomForestClassifier(n_estimators=500, max_features='auto', max_depth=6)\n",
    "randomforest.fit(X, y)\n",
    "randomforest.score(X,y)"
   ]
  },
  {
   "cell_type": "code",
   "execution_count": 1707,
   "id": "a44dbae6",
   "metadata": {},
   "outputs": [
    {
     "data": {
      "text/plain": [
       "array([[0.23928047, 0.76071953],\n",
       "       [0.29899289, 0.70100711],\n",
       "       [0.44210257, 0.55789743],\n",
       "       ...,\n",
       "       [0.58754013, 0.41245987],\n",
       "       [0.55096192, 0.44903808],\n",
       "       [0.42402257, 0.57597743]])"
      ]
     },
     "execution_count": 1707,
     "metadata": {},
     "output_type": "execute_result"
    }
   ],
   "source": [
    "randomforest.predict_proba(X)"
   ]
  },
  {
   "cell_type": "code",
   "execution_count": 1708,
   "id": "f8570dc2",
   "metadata": {},
   "outputs": [
    {
     "name": "stdout",
     "output_type": "stream",
     "text": [
      "[0.61777302 0.60546039 0.61509636 0.57601713 0.64293362]\n"
     ]
    },
    {
     "data": {
      "text/plain": [
       "0.6114561027837259"
      ]
     },
     "execution_count": 1708,
     "metadata": {},
     "output_type": "execute_result"
    }
   ],
   "source": [
    "cv_score = cross_val_score(randomforest, X, y,cv=tscv, scoring='accuracy')\n",
    "print(cv_score)\n",
    "cv_score.mean()"
   ]
  },
  {
   "cell_type": "code",
   "execution_count": 1709,
   "id": "07a9bd03",
   "metadata": {
    "scrolled": false
   },
   "outputs": [
    {
     "data": {
      "text/plain": [
       "<AxesSubplot:ylabel='feature'>"
      ]
     },
     "execution_count": 1709,
     "metadata": {},
     "output_type": "execute_result"
    },
    {
     "data": {
      "image/png": "[encoded data removed]",
      "text/plain": [
       "<Figure size 720x1080 with 1 Axes>"
      ]
     },
     "metadata": {
      "needs_background": "light"
     },
     "output_type": "display_data"
    }
   ],
   "source": [
    "feat_imps = list(zip(X.columns,randomforest.feature_importances_))\n",
    "feat_imps = sorted(feat_imps, key = lambda x: x[1], reverse=False)\n",
    "feat_imps = pd.DataFrame(feat_imps, columns=['feature','importance'])\n",
    "\n",
    "feat_imps.plot(x='feature',y='importance',kind='barh',figsize=(10,15))"
   ]
  },
  {
   "cell_type": "code",
   "execution_count": 1700,
   "id": "ca37ff07",
   "metadata": {},
   "outputs": [
    {
     "name": "stdout",
     "output_type": "stream",
     "text": [
      "{'max_depth': 6, 'max_features': 'sqrt', 'n_estimators': 500}\n"
     ]
    }
   ],
   "source": [
    "rfc = RandomForestClassifier() \n",
    "param_grid = {'n_estimators': [500],'max_features': ['sqrt', 'log2'],\n",
    "              'max_depth': list(range(2,7,1))}\n",
    "CV_rfc = GridSearchCV(estimator=rfc, param_grid=param_grid, cv=tscv)\n",
    "CV_rfc.fit(X, y)\n",
    "print(CV_rfc.best_params_)\n"
   ]
  },
  {
   "cell_type": "code",
   "execution_count": 1698,
   "id": "1d9e66fd",
   "metadata": {},
   "outputs": [
    {
     "name": "stdout",
     "output_type": "stream",
     "text": [
      "{'max_depth': 7, 'max_features': 'sqrt', 'n_estimators': 500}\n"
     ]
    }
   ],
   "source": [
    "rfc = RandomForestClassifier() \n",
    "param_grid = {'n_estimators': [500],'max_features': ['sqrt', 'log2'],\n",
    "              'max_depth': list(range(7,20,1))}\n",
    "CV_rfc = GridSearchCV(estimator=rfc, param_grid=param_grid, cv=tscv)\n",
    "CV_rfc.fit(X, y)\n",
    "print(CV_rfc.best_params_)\n"
   ]
  },
  {
   "cell_type": "code",
   "execution_count": 1688,
   "id": "6217b628",
   "metadata": {},
   "outputs": [
    {
     "data": {
      "text/plain": [
       "0.6110278372591006"
      ]
     },
     "execution_count": 1688,
     "metadata": {},
     "output_type": "execute_result"
    }
   ],
   "source": [
    "CV_rfc.best_score_"
   ]
  },
  {
   "cell_type": "markdown",
   "id": "e3ed545a",
   "metadata": {},
   "source": [
    "## Other"
   ]
  },
  {
   "cell_type": "code",
   "execution_count": 1543,
   "id": "f4d73716",
   "metadata": {
    "scrolled": true
   },
   "outputs": [
    {
     "name": "stdout",
     "output_type": "stream",
     "text": [
      "[   0    1    2 ... 2241 2242 2243] [2244 2245 2246 ... 4483 4484 4485]\n",
      "[   0    1    2 ... 4483 4484 4485] [4486 4487 4488 ... 6725 6726 6727]\n",
      "[   0    1    2 ... 6725 6726 6727] [6728 6729 6730 ... 8967 8968 8969]\n",
      "[   0    1    2 ... 8967 8968 8969] [ 8970  8971  8972 ... 11209 11210 11211]\n",
      "[    0     1     2 ... 11209 11210 11211] [11212 11213 11214 ... 13451 13452 13453]\n"
     ]
    }
   ],
   "source": [
    "for train_index, test_index in tscv.split(df_clean):\n",
    "    print(train_index, test_index)"
   ]
  },
  {
   "cell_type": "code",
   "execution_count": 1572,
   "id": "150e47a4",
   "metadata": {},
   "outputs": [
    {
     "data": {
      "text/html": [
       "<div>\n",
       "<style scoped>\n",
       "    .dataframe tbody tr th:only-of-type {\n",
       "        vertical-align: middle;\n",
       "    }\n",
       "\n",
       "    .dataframe tbody tr th {\n",
       "        vertical-align: top;\n",
       "    }\n",
       "\n",
       "    .dataframe thead th {\n",
       "        text-align: right;\n",
       "    }\n",
       "</style>\n",
       "<table border=\"1\" class=\"dataframe\">\n",
       "  <thead>\n",
       "    <tr style=\"text-align: right;\">\n",
       "      <th></th>\n",
       "      <th>pitch_type</th>\n",
       "      <th>fastball</th>\n",
       "      <th>start_speed</th>\n",
       "      <th>zone</th>\n",
       "      <th>code</th>\n",
       "      <th>type</th>\n",
       "      <th>b_score</th>\n",
       "      <th>p_score</th>\n",
       "      <th>ab_id</th>\n",
       "      <th>pitch_num</th>\n",
       "      <th>...</th>\n",
       "      <th>game_pitch</th>\n",
       "      <th>last_over_8</th>\n",
       "      <th>over_30_pitches</th>\n",
       "      <th>last_pa_homerun</th>\n",
       "      <th>last_pa_double_triple</th>\n",
       "      <th>last_pa_long</th>\n",
       "      <th>last_pa_so</th>\n",
       "      <th>last_pa_bb</th>\n",
       "      <th>last_pa_dp</th>\n",
       "      <th>last_pa_out</th>\n",
       "    </tr>\n",
       "  </thead>\n",
       "  <tbody>\n",
       "    <tr>\n",
       "      <th>0</th>\n",
       "      <td>FF</td>\n",
       "      <td>1</td>\n",
       "      <td>90.6</td>\n",
       "      <td>13.0</td>\n",
       "      <td>C</td>\n",
       "      <td>S</td>\n",
       "      <td>0</td>\n",
       "      <td>0</td>\n",
       "      <td>2015000632</td>\n",
       "      <td>1</td>\n",
       "      <td>...</td>\n",
       "      <td>0</td>\n",
       "      <td>0</td>\n",
       "      <td>0</td>\n",
       "      <td>0</td>\n",
       "      <td>0</td>\n",
       "      <td>0</td>\n",
       "      <td>1</td>\n",
       "      <td>0</td>\n",
       "      <td>0</td>\n",
       "      <td>1</td>\n",
       "    </tr>\n",
       "    <tr>\n",
       "      <th>1</th>\n",
       "      <td>FF</td>\n",
       "      <td>1</td>\n",
       "      <td>93.5</td>\n",
       "      <td>11.0</td>\n",
       "      <td>F</td>\n",
       "      <td>S</td>\n",
       "      <td>0</td>\n",
       "      <td>0</td>\n",
       "      <td>2015000632</td>\n",
       "      <td>2</td>\n",
       "      <td>...</td>\n",
       "      <td>0</td>\n",
       "      <td>0</td>\n",
       "      <td>0</td>\n",
       "      <td>0</td>\n",
       "      <td>0</td>\n",
       "      <td>0</td>\n",
       "      <td>1</td>\n",
       "      <td>0</td>\n",
       "      <td>0</td>\n",
       "      <td>1</td>\n",
       "    </tr>\n",
       "    <tr>\n",
       "      <th>2</th>\n",
       "      <td>FF</td>\n",
       "      <td>1</td>\n",
       "      <td>94.9</td>\n",
       "      <td>11.0</td>\n",
       "      <td>B</td>\n",
       "      <td>B</td>\n",
       "      <td>0</td>\n",
       "      <td>0</td>\n",
       "      <td>2015000632</td>\n",
       "      <td>3</td>\n",
       "      <td>...</td>\n",
       "      <td>0</td>\n",
       "      <td>0</td>\n",
       "      <td>0</td>\n",
       "      <td>0</td>\n",
       "      <td>0</td>\n",
       "      <td>0</td>\n",
       "      <td>1</td>\n",
       "      <td>0</td>\n",
       "      <td>0</td>\n",
       "      <td>1</td>\n",
       "    </tr>\n",
       "    <tr>\n",
       "      <th>3</th>\n",
       "      <td>CH</td>\n",
       "      <td>0</td>\n",
       "      <td>86.6</td>\n",
       "      <td>14.0</td>\n",
       "      <td>B</td>\n",
       "      <td>B</td>\n",
       "      <td>0</td>\n",
       "      <td>0</td>\n",
       "      <td>2015000632</td>\n",
       "      <td>4</td>\n",
       "      <td>...</td>\n",
       "      <td>0</td>\n",
       "      <td>0</td>\n",
       "      <td>0</td>\n",
       "      <td>0</td>\n",
       "      <td>0</td>\n",
       "      <td>0</td>\n",
       "      <td>1</td>\n",
       "      <td>0</td>\n",
       "      <td>0</td>\n",
       "      <td>1</td>\n",
       "    </tr>\n",
       "    <tr>\n",
       "      <th>4</th>\n",
       "      <td>FF</td>\n",
       "      <td>1</td>\n",
       "      <td>94.0</td>\n",
       "      <td>11.0</td>\n",
       "      <td>B</td>\n",
       "      <td>B</td>\n",
       "      <td>0</td>\n",
       "      <td>0</td>\n",
       "      <td>2015000632</td>\n",
       "      <td>5</td>\n",
       "      <td>...</td>\n",
       "      <td>0</td>\n",
       "      <td>0</td>\n",
       "      <td>0</td>\n",
       "      <td>0</td>\n",
       "      <td>0</td>\n",
       "      <td>0</td>\n",
       "      <td>1</td>\n",
       "      <td>0</td>\n",
       "      <td>0</td>\n",
       "      <td>1</td>\n",
       "    </tr>\n",
       "    <tr>\n",
       "      <th>...</th>\n",
       "      <td>...</td>\n",
       "      <td>...</td>\n",
       "      <td>...</td>\n",
       "      <td>...</td>\n",
       "      <td>...</td>\n",
       "      <td>...</td>\n",
       "      <td>...</td>\n",
       "      <td>...</td>\n",
       "      <td>...</td>\n",
       "      <td>...</td>\n",
       "      <td>...</td>\n",
       "      <td>...</td>\n",
       "      <td>...</td>\n",
       "      <td>...</td>\n",
       "      <td>...</td>\n",
       "      <td>...</td>\n",
       "      <td>...</td>\n",
       "      <td>...</td>\n",
       "      <td>...</td>\n",
       "      <td>...</td>\n",
       "      <td>...</td>\n",
       "    </tr>\n",
       "    <tr>\n",
       "      <th>9002</th>\n",
       "      <td>FT</td>\n",
       "      <td>1</td>\n",
       "      <td>92.4</td>\n",
       "      <td>11.0</td>\n",
       "      <td>B</td>\n",
       "      <td>B</td>\n",
       "      <td>5</td>\n",
       "      <td>0</td>\n",
       "      <td>2017110216</td>\n",
       "      <td>1</td>\n",
       "      <td>...</td>\n",
       "      <td>55</td>\n",
       "      <td>0</td>\n",
       "      <td>1</td>\n",
       "      <td>0</td>\n",
       "      <td>0</td>\n",
       "      <td>0</td>\n",
       "      <td>0</td>\n",
       "      <td>0</td>\n",
       "      <td>0</td>\n",
       "      <td>1</td>\n",
       "    </tr>\n",
       "    <tr>\n",
       "      <th>9003</th>\n",
       "      <td>CU</td>\n",
       "      <td>0</td>\n",
       "      <td>76.0</td>\n",
       "      <td>1.0</td>\n",
       "      <td>F</td>\n",
       "      <td>S</td>\n",
       "      <td>5</td>\n",
       "      <td>0</td>\n",
       "      <td>2017110216</td>\n",
       "      <td>2</td>\n",
       "      <td>...</td>\n",
       "      <td>55</td>\n",
       "      <td>0</td>\n",
       "      <td>1</td>\n",
       "      <td>0</td>\n",
       "      <td>0</td>\n",
       "      <td>0</td>\n",
       "      <td>0</td>\n",
       "      <td>0</td>\n",
       "      <td>0</td>\n",
       "      <td>1</td>\n",
       "    </tr>\n",
       "    <tr>\n",
       "      <th>9003</th>\n",
       "      <td>CU</td>\n",
       "      <td>0</td>\n",
       "      <td>76.0</td>\n",
       "      <td>1.0</td>\n",
       "      <td>F</td>\n",
       "      <td>S</td>\n",
       "      <td>5</td>\n",
       "      <td>0</td>\n",
       "      <td>2017110216</td>\n",
       "      <td>2</td>\n",
       "      <td>...</td>\n",
       "      <td>55</td>\n",
       "      <td>0</td>\n",
       "      <td>1</td>\n",
       "      <td>0</td>\n",
       "      <td>0</td>\n",
       "      <td>0</td>\n",
       "      <td>0</td>\n",
       "      <td>0</td>\n",
       "      <td>0</td>\n",
       "      <td>1</td>\n",
       "    </tr>\n",
       "    <tr>\n",
       "      <th>9003</th>\n",
       "      <td>CU</td>\n",
       "      <td>0</td>\n",
       "      <td>76.0</td>\n",
       "      <td>1.0</td>\n",
       "      <td>F</td>\n",
       "      <td>S</td>\n",
       "      <td>5</td>\n",
       "      <td>0</td>\n",
       "      <td>2017110216</td>\n",
       "      <td>2</td>\n",
       "      <td>...</td>\n",
       "      <td>55</td>\n",
       "      <td>0</td>\n",
       "      <td>1</td>\n",
       "      <td>0</td>\n",
       "      <td>0</td>\n",
       "      <td>0</td>\n",
       "      <td>0</td>\n",
       "      <td>0</td>\n",
       "      <td>0</td>\n",
       "      <td>1</td>\n",
       "    </tr>\n",
       "    <tr>\n",
       "      <th>9003</th>\n",
       "      <td>CU</td>\n",
       "      <td>0</td>\n",
       "      <td>76.0</td>\n",
       "      <td>1.0</td>\n",
       "      <td>F</td>\n",
       "      <td>S</td>\n",
       "      <td>5</td>\n",
       "      <td>0</td>\n",
       "      <td>2017110216</td>\n",
       "      <td>2</td>\n",
       "      <td>...</td>\n",
       "      <td>55</td>\n",
       "      <td>0</td>\n",
       "      <td>1</td>\n",
       "      <td>0</td>\n",
       "      <td>0</td>\n",
       "      <td>0</td>\n",
       "      <td>0</td>\n",
       "      <td>0</td>\n",
       "      <td>0</td>\n",
       "      <td>1</td>\n",
       "    </tr>\n",
       "  </tbody>\n",
       "</table>\n",
       "<p>22422 rows × 65 columns</p>\n",
       "</div>"
      ],
      "text/plain": [
       "     pitch_type  fastball  start_speed  zone code type  b_score  p_score  \\\n",
       "0            FF         1         90.6  13.0    C    S        0        0   \n",
       "1            FF         1         93.5  11.0    F    S        0        0   \n",
       "2            FF         1         94.9  11.0    B    B        0        0   \n",
       "3            CH         0         86.6  14.0    B    B        0        0   \n",
       "4            FF         1         94.0  11.0    B    B        0        0   \n",
       "...         ...       ...          ...   ...  ...  ...      ...      ...   \n",
       "9002         FT         1         92.4  11.0    B    B        5        0   \n",
       "9003         CU         0         76.0   1.0    F    S        5        0   \n",
       "9003         CU         0         76.0   1.0    F    S        5        0   \n",
       "9003         CU         0         76.0   1.0    F    S        5        0   \n",
       "9003         CU         0         76.0   1.0    F    S        5        0   \n",
       "\n",
       "           ab_id  pitch_num  ...  game_pitch  last_over_8  over_30_pitches  \\\n",
       "0     2015000632          1  ...           0            0                0   \n",
       "1     2015000632          2  ...           0            0                0   \n",
       "2     2015000632          3  ...           0            0                0   \n",
       "3     2015000632          4  ...           0            0                0   \n",
       "4     2015000632          5  ...           0            0                0   \n",
       "...          ...        ...  ...         ...          ...              ...   \n",
       "9002  2017110216          1  ...          55            0                1   \n",
       "9003  2017110216          2  ...          55            0                1   \n",
       "9003  2017110216          2  ...          55            0                1   \n",
       "9003  2017110216          2  ...          55            0                1   \n",
       "9003  2017110216          2  ...          55            0                1   \n",
       "\n",
       "      last_pa_homerun  last_pa_double_triple  last_pa_long last_pa_so  \\\n",
       "0                   0                      0             0          1   \n",
       "1                   0                      0             0          1   \n",
       "2                   0                      0             0          1   \n",
       "3                   0                      0             0          1   \n",
       "4                   0                      0             0          1   \n",
       "...               ...                    ...           ...        ...   \n",
       "9002                0                      0             0          0   \n",
       "9003                0                      0             0          0   \n",
       "9003                0                      0             0          0   \n",
       "9003                0                      0             0          0   \n",
       "9003                0                      0             0          0   \n",
       "\n",
       "      last_pa_bb  last_pa_dp  last_pa_out  \n",
       "0              0           0            1  \n",
       "1              0           0            1  \n",
       "2              0           0            1  \n",
       "3              0           0            1  \n",
       "4              0           0            1  \n",
       "...          ...         ...          ...  \n",
       "9002           0           0            1  \n",
       "9003           0           0            1  \n",
       "9003           0           0            1  \n",
       "9003           0           0            1  \n",
       "9003           0           0            1  \n",
       "\n",
       "[22422 rows x 65 columns]"
      ]
     },
     "execution_count": 1572,
     "metadata": {},
     "output_type": "execute_result"
    }
   ],
   "source": [
    "df_train_weighted = pd.concat([df_train.iloc[range(0,2244)],\n",
    "                                df_train.iloc[range(2244,4486)], df_train.iloc[range(2244,4486)],\n",
    "                                df_train.iloc[range(4486,6728)], df_train.iloc[range(4486,6728)], df_train.iloc[range(4486,6728)],\n",
    "                                df_train.iloc[range(6728,8970)], df_train.iloc[range(6728,8970)],\n",
    "                                df_train.iloc[range(6728,8970)], df_train.iloc[range(6728,8970)]])\n",
    "df_train_weighted.sort_values(by = ['ab_id', 'pitch_num'], inplace = True)\n",
    "df_train_weighted"
   ]
  },
  {
   "cell_type": "code",
   "execution_count": 1366,
   "id": "e3dff77c",
   "metadata": {},
   "outputs": [],
   "source": [
    "def class_cv(X_score, y_score, cv_score, mertic_score):\n",
    "    '''\n",
    "    A function to run scores on classificaiton models\n",
    "    Slow on KNN and RandomForestClassifier\n",
    "    '''\n",
    "    scaler_s = StandardScaler()\n",
    "    X_scaled_s = scaler_s.fit_transform(X_score)\n",
    "    \n",
    "    log_reg_s = LogisticRegression(penalty='none')\n",
    "    cv_score_log = cross_val_score(log_reg_s, X_score, y_score, cv=cv_score, scoring=mertic_score)\n",
    "    print('Logistic Regression without peanlty:', cv_score_log, cv_score_log.mean())\n",
    "    \n",
    "    log_grid_s = GridSearchCV(log_reg_s, \n",
    "                              param_grid={'C':[0.001,0.01,0.1,1,10,100,1000,10000],'penalty': ['l1','l2','none'],\n",
    "                                          'solver': ['liblinear']}, \n",
    "                              cv=cv_score, scoring=mertic_score)\n",
    "    log_grid_s.fit(X_scaled_s, y_score)\n",
    "    print('Logistic Regression grid search:', log_grid_s.best_score_, log_grid_s.best_params_)\n",
    "    \n",
    "    knn_s = KNeighborsClassifier()\n",
    "    knn_grid_s = GridSearchCV(knn_s, \n",
    "                              param_grid={'n_neighbors': list(range(1, 100)),\n",
    "                                          'weights': ['uniform', 'distance']},\n",
    "                              cv=cv_score, scoring=mertic_score)\n",
    "    knn_grid_s.fit(X_scaled_s, y_score)\n",
    "    print('KNN grid search:', knn_grid_s.best_score_, knn_grid_s.best_params_)\n",
    "    \n",
    "    rfc_s = RandomForestClassifier() \n",
    "    rfc_grid_s = GridSearchCV(rfc_s, \n",
    "                          param_grid={'n_estimators': list(range(50,501,50)),\n",
    "                                      'max_features': ['sqrt', 'log2']}, \n",
    "                          cv=cv_score, scoring=mertic_score)\n",
    "    rfc_grid_s.fit(X_score, y_score)\n",
    "    print('RandomForestClassifier grid search:', rfc_grid_s.best_score_, rfc_grid_s.best_params_)\n",
    "    pass\n",
    "    "
   ]
  },
  {
   "cell_type": "code",
   "execution_count": 1365,
   "id": "6b993c1d",
   "metadata": {},
   "outputs": [
    {
     "name": "stdout",
     "output_type": "stream",
     "text": [
      "Logistic Regression without peanlty: [0.63008565 0.60171306 0.62152034 0.58672377 0.62740899] 0.6134903640256959\n",
      "Logistic Regression grid search: 0.6137044967880086 {'C': 0.1, 'penalty': 'l2', 'solver': 'liblinear'}\n",
      "KNN grid search: 0.6039614561027837 {'n_neighbors': 68, 'weights': 'uniform'}\n",
      "RandomForestClassifier grid search: 0.5808351177730193 {'max_features': 'sqrt', 'n_estimators': 450}\n"
     ]
    }
   ],
   "source": [
    "X = df_train[['left_batter', 'b_1', 'b_2', 'b_3', 'last_b','last_fastball',\n",
    "              's_1', 's_2', 'after_4_inning', 'last_contact','day_game', 'last_pa_so','ahead','last_pa_long']]\n",
    "y = df_train['fastball']\n",
    "class_cv(X, y, tscv, 'accuracy')"
   ]
  },
  {
   "cell_type": "code",
   "execution_count": 1542,
   "id": "eb823b23",
   "metadata": {},
   "outputs": [
    {
     "name": "stdout",
     "output_type": "stream",
     "text": [
      "Logistic Regression without peanlty: [0.62104325 0.59741418 0.6235504  0.61552186 0.60080285] 0.6116665069203305\n",
      "Logistic Regression grid search: 0.6130934858095539 {'C': 0.01, 'penalty': 'l2', 'solver': 'liblinear'}\n",
      "KNN grid search: 0.6093463537865649 {'n_neighbors': 89, 'weights': 'uniform'}\n",
      "RandomForestClassifier grid search: 0.5842845001378061 {'max_features': 'log2', 'n_estimators': 450}\n"
     ]
    }
   ],
   "source": [
    "X = df_train[['left_batter', 'b_1', 'b_2', 'b_3', 'last_b','last_fastball',\n",
    "              's_1', 's_2', 'after_4_inning', 'last_contact','day_game', 'last_pa_so','ahead','last_pa_long']]\n",
    "y = df_train['fastball']\n",
    "class_cv(X, y, 5, 'accuracy')"
   ]
  }
 ],
 "metadata": {
  "kernelspec": {
   "display_name": "Python [conda env:metis] *",
   "language": "python",
   "name": "conda-env-metis-py"
  },
  "language_info": {
   "codemirror_mode": {
    "name": "ipython",
    "version": 3
   },
   "file_extension": ".py",
   "mimetype": "text/x-python",
   "name": "python",
   "nbconvert_exporter": "python",
   "pygments_lexer": "ipython3",
   "version": "3.8.10"
  }
 },
 "nbformat": 4,
 "nbformat_minor": 5
}
